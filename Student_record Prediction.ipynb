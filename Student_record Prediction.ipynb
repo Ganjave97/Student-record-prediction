{
 "cells": [
  {
   "cell_type": "code",
   "execution_count": 1,
   "id": "6cf03bee",
   "metadata": {},
   "outputs": [],
   "source": [
    "#student record prediction"
   ]
  },
  {
   "cell_type": "code",
   "execution_count": 1,
   "id": "ff360667",
   "metadata": {},
   "outputs": [],
   "source": [
    "import pandas as pd\n",
    "import warnings\n",
    "warnings.filterwarnings('ignore')\n",
    "from sklearn.preprocessing import LabelEncoder\n",
    "le=LabelEncoder()\n",
    "import numpy as np\n",
    "import matplotlib.pyplot as plt\n",
    "import seaborn as sns"
   ]
  },
  {
   "cell_type": "code",
   "execution_count": 2,
   "id": "4b238ebe",
   "metadata": {},
   "outputs": [
    {
     "data": {
      "text/html": [
       "<div>\n",
       "<style scoped>\n",
       "    .dataframe tbody tr th:only-of-type {\n",
       "        vertical-align: middle;\n",
       "    }\n",
       "\n",
       "    .dataframe tbody tr th {\n",
       "        vertical-align: top;\n",
       "    }\n",
       "\n",
       "    .dataframe thead th {\n",
       "        text-align: right;\n",
       "    }\n",
       "</style>\n",
       "<table border=\"1\" class=\"dataframe\">\n",
       "  <thead>\n",
       "    <tr style=\"text-align: right;\">\n",
       "      <th></th>\n",
       "      <th>Roll Number</th>\n",
       "      <th>Student Id</th>\n",
       "      <th>Surname</th>\n",
       "      <th>Score</th>\n",
       "      <th>Country</th>\n",
       "      <th>Gender</th>\n",
       "      <th>Age</th>\n",
       "      <th>Year</th>\n",
       "      <th>Credit</th>\n",
       "      <th>NumOf Holiday</th>\n",
       "      <th>Id Card</th>\n",
       "      <th>Active Student</th>\n",
       "      <th>Estimated Credit</th>\n",
       "      <th>Computer Student</th>\n",
       "    </tr>\n",
       "  </thead>\n",
       "  <tbody>\n",
       "    <tr>\n",
       "      <th>0</th>\n",
       "      <td>1</td>\n",
       "      <td>15677020</td>\n",
       "      <td>Selezneva</td>\n",
       "      <td>570</td>\n",
       "      <td>France</td>\n",
       "      <td>Female</td>\n",
       "      <td>32</td>\n",
       "      <td>8</td>\n",
       "      <td>0.00</td>\n",
       "      <td>1</td>\n",
       "      <td>0</td>\n",
       "      <td>1</td>\n",
       "      <td>3430.38</td>\n",
       "      <td>1</td>\n",
       "    </tr>\n",
       "    <tr>\n",
       "      <th>1</th>\n",
       "      <td>2</td>\n",
       "      <td>15727688</td>\n",
       "      <td>Chizuoke</td>\n",
       "      <td>555</td>\n",
       "      <td>Spain</td>\n",
       "      <td>Male</td>\n",
       "      <td>12</td>\n",
       "      <td>4</td>\n",
       "      <td>151958.19</td>\n",
       "      <td>2</td>\n",
       "      <td>1</td>\n",
       "      <td>1</td>\n",
       "      <td>160450.21</td>\n",
       "      <td>0</td>\n",
       "    </tr>\n",
       "    <tr>\n",
       "      <th>2</th>\n",
       "      <td>3</td>\n",
       "      <td>15715941</td>\n",
       "      <td>Lueck</td>\n",
       "      <td>692</td>\n",
       "      <td>France</td>\n",
       "      <td>Male</td>\n",
       "      <td>36</td>\n",
       "      <td>5</td>\n",
       "      <td>0.00</td>\n",
       "      <td>2</td>\n",
       "      <td>1</td>\n",
       "      <td>1</td>\n",
       "      <td>1485.27</td>\n",
       "      <td>0</td>\n",
       "    </tr>\n",
       "    <tr>\n",
       "      <th>3</th>\n",
       "      <td>4</td>\n",
       "      <td>15714485</td>\n",
       "      <td>Udinese</td>\n",
       "      <td>774</td>\n",
       "      <td>France</td>\n",
       "      <td>Male</td>\n",
       "      <td>21</td>\n",
       "      <td>5</td>\n",
       "      <td>118400.91</td>\n",
       "      <td>1</td>\n",
       "      <td>1</td>\n",
       "      <td>0</td>\n",
       "      <td>19720.08</td>\n",
       "      <td>1</td>\n",
       "    </tr>\n",
       "    <tr>\n",
       "      <th>4</th>\n",
       "      <td>5</td>\n",
       "      <td>15730059</td>\n",
       "      <td>Udobata</td>\n",
       "      <td>638</td>\n",
       "      <td>Spain</td>\n",
       "      <td>Male</td>\n",
       "      <td>22</td>\n",
       "      <td>9</td>\n",
       "      <td>0.00</td>\n",
       "      <td>2</td>\n",
       "      <td>1</td>\n",
       "      <td>1</td>\n",
       "      <td>41183.02</td>\n",
       "      <td>0</td>\n",
       "    </tr>\n",
       "  </tbody>\n",
       "</table>\n",
       "</div>"
      ],
      "text/plain": [
       "   Roll Number  Student Id    Surname  Score Country  Gender  Age  Year  \\\n",
       "0            1    15677020  Selezneva    570  France  Female   32     8   \n",
       "1            2    15727688   Chizuoke    555   Spain    Male   12     4   \n",
       "2            3    15715941      Lueck    692  France    Male   36     5   \n",
       "3            4    15714485    Udinese    774  France    Male   21     5   \n",
       "4            5    15730059    Udobata    638   Spain    Male   22     9   \n",
       "\n",
       "      Credit  NumOf Holiday  Id Card  Active Student  Estimated Credit  \\\n",
       "0       0.00              1        0               1           3430.38   \n",
       "1  151958.19              2        1               1         160450.21   \n",
       "2       0.00              2        1               1           1485.27   \n",
       "3  118400.91              1        1               0          19720.08   \n",
       "4       0.00              2        1               1          41183.02   \n",
       "\n",
       "   Computer Student  \n",
       "0                 1  \n",
       "1                 0  \n",
       "2                 0  \n",
       "3                 1  \n",
       "4                 0  "
      ]
     },
     "execution_count": 2,
     "metadata": {},
     "output_type": "execute_result"
    }
   ],
   "source": [
    "stud=pd.read_csv(r\"C:\\Student_Prediction.csv\")\n",
    "stud.head()"
   ]
  },
  {
   "cell_type": "code",
   "execution_count": 3,
   "id": "01816c3a",
   "metadata": {},
   "outputs": [
    {
     "data": {
      "text/plain": [
       "(10011, 14)"
      ]
     },
     "execution_count": 3,
     "metadata": {},
     "output_type": "execute_result"
    }
   ],
   "source": [
    "stud.shape"
   ]
  },
  {
   "cell_type": "code",
   "execution_count": 4,
   "id": "986beaa1",
   "metadata": {},
   "outputs": [
    {
     "data": {
      "text/plain": [
       "Roll Number         0\n",
       "Student Id          0\n",
       "Surname             0\n",
       "Score               0\n",
       "Country             0\n",
       "Gender              0\n",
       "Age                 0\n",
       "Year                0\n",
       "Credit              0\n",
       "NumOf Holiday       0\n",
       "Id Card             0\n",
       "Active Student      0\n",
       "Estimated Credit    0\n",
       "Computer Student    0\n",
       "dtype: int64"
      ]
     },
     "execution_count": 4,
     "metadata": {},
     "output_type": "execute_result"
    }
   ],
   "source": [
    "stud.isnull().sum()"
   ]
  },
  {
   "cell_type": "code",
   "execution_count": 5,
   "id": "8f9b46cd",
   "metadata": {},
   "outputs": [],
   "source": [
    "#From the above, we will not require the first 2 attributes as the are specific to a student. \n",
    "#It is borderline with the surname as this would result to profiling so we exclude this as well.\n",
    "stud=stud.drop([\"Roll Number\", \"Student Id\", \"Surname\"], axis = 1)"
   ]
  },
  {
   "cell_type": "markdown",
   "id": "2424049d",
   "metadata": {},
   "source": [
    "# Data-type Conversion"
   ]
  },
  {
   "cell_type": "code",
   "execution_count": 6,
   "id": "7301219c",
   "metadata": {},
   "outputs": [
    {
     "data": {
      "text/plain": [
       "Score                 int64\n",
       "Country              object\n",
       "Gender               object\n",
       "Age                   int64\n",
       "Year                  int64\n",
       "Credit              float64\n",
       "NumOf Holiday         int64\n",
       "Id Card               int64\n",
       "Active Student        int64\n",
       "Estimated Credit    float64\n",
       "Computer Student      int64\n",
       "dtype: object"
      ]
     },
     "execution_count": 6,
     "metadata": {},
     "output_type": "execute_result"
    }
   ],
   "source": [
    "stud.dtypes"
   ]
  },
  {
   "cell_type": "code",
   "execution_count": 7,
   "id": "f8ce61be",
   "metadata": {},
   "outputs": [],
   "source": [
    "stud.Country=le.fit_transform(stud.Country)\n",
    "stud.Gender=le.fit_transform(stud.Gender)"
   ]
  },
  {
   "cell_type": "code",
   "execution_count": 8,
   "id": "0292adc4",
   "metadata": {},
   "outputs": [
    {
     "data": {
      "text/plain": [
       "Score                 int64\n",
       "Country               int32\n",
       "Gender                int32\n",
       "Age                   int64\n",
       "Year                  int64\n",
       "Credit              float64\n",
       "NumOf Holiday         int64\n",
       "Id Card               int64\n",
       "Active Student        int64\n",
       "Estimated Credit    float64\n",
       "Computer Student      int64\n",
       "dtype: object"
      ]
     },
     "execution_count": 8,
     "metadata": {},
     "output_type": "execute_result"
    }
   ],
   "source": [
    "stud.dtypes\n"
   ]
  },
  {
   "cell_type": "code",
   "execution_count": 9,
   "id": "4b816db6",
   "metadata": {},
   "outputs": [
    {
     "data": {
      "text/plain": [
       "0    5021\n",
       "1    2511\n",
       "2    2479\n",
       "Name: Country, dtype: int64"
      ]
     },
     "execution_count": 9,
     "metadata": {},
     "output_type": "execute_result"
    }
   ],
   "source": [
    "stud.Country.value_counts()"
   ]
  },
  {
   "cell_type": "markdown",
   "id": "296afff2",
   "metadata": {},
   "source": [
    "# Model"
   ]
  },
  {
   "cell_type": "code",
   "execution_count": 10,
   "id": "f6793120",
   "metadata": {},
   "outputs": [],
   "source": [
    "from sklearn.metrics import confusion_matrix,classification_report,f1_score,accuracy_score,precision_score,recall_score"
   ]
  },
  {
   "cell_type": "code",
   "execution_count": 11,
   "id": "e7f42b79",
   "metadata": {},
   "outputs": [
    {
     "data": {
      "text/html": [
       "<div>\n",
       "<style scoped>\n",
       "    .dataframe tbody tr th:only-of-type {\n",
       "        vertical-align: middle;\n",
       "    }\n",
       "\n",
       "    .dataframe tbody tr th {\n",
       "        vertical-align: top;\n",
       "    }\n",
       "\n",
       "    .dataframe thead th {\n",
       "        text-align: right;\n",
       "    }\n",
       "</style>\n",
       "<table border=\"1\" class=\"dataframe\">\n",
       "  <thead>\n",
       "    <tr style=\"text-align: right;\">\n",
       "      <th></th>\n",
       "      <th>Score</th>\n",
       "      <th>Country</th>\n",
       "      <th>Gender</th>\n",
       "      <th>Age</th>\n",
       "      <th>Year</th>\n",
       "      <th>Credit</th>\n",
       "      <th>NumOf Holiday</th>\n",
       "      <th>Id Card</th>\n",
       "      <th>Active Student</th>\n",
       "      <th>Estimated Credit</th>\n",
       "      <th>Computer Student</th>\n",
       "    </tr>\n",
       "  </thead>\n",
       "  <tbody>\n",
       "    <tr>\n",
       "      <th>0</th>\n",
       "      <td>570</td>\n",
       "      <td>0</td>\n",
       "      <td>0</td>\n",
       "      <td>32</td>\n",
       "      <td>8</td>\n",
       "      <td>0.00</td>\n",
       "      <td>1</td>\n",
       "      <td>0</td>\n",
       "      <td>1</td>\n",
       "      <td>3430.38</td>\n",
       "      <td>1</td>\n",
       "    </tr>\n",
       "    <tr>\n",
       "      <th>1</th>\n",
       "      <td>555</td>\n",
       "      <td>2</td>\n",
       "      <td>1</td>\n",
       "      <td>12</td>\n",
       "      <td>4</td>\n",
       "      <td>151958.19</td>\n",
       "      <td>2</td>\n",
       "      <td>1</td>\n",
       "      <td>1</td>\n",
       "      <td>160450.21</td>\n",
       "      <td>0</td>\n",
       "    </tr>\n",
       "    <tr>\n",
       "      <th>2</th>\n",
       "      <td>692</td>\n",
       "      <td>0</td>\n",
       "      <td>1</td>\n",
       "      <td>36</td>\n",
       "      <td>5</td>\n",
       "      <td>0.00</td>\n",
       "      <td>2</td>\n",
       "      <td>1</td>\n",
       "      <td>1</td>\n",
       "      <td>1485.27</td>\n",
       "      <td>0</td>\n",
       "    </tr>\n",
       "    <tr>\n",
       "      <th>3</th>\n",
       "      <td>774</td>\n",
       "      <td>0</td>\n",
       "      <td>1</td>\n",
       "      <td>21</td>\n",
       "      <td>5</td>\n",
       "      <td>118400.91</td>\n",
       "      <td>1</td>\n",
       "      <td>1</td>\n",
       "      <td>0</td>\n",
       "      <td>19720.08</td>\n",
       "      <td>1</td>\n",
       "    </tr>\n",
       "    <tr>\n",
       "      <th>4</th>\n",
       "      <td>638</td>\n",
       "      <td>2</td>\n",
       "      <td>1</td>\n",
       "      <td>22</td>\n",
       "      <td>9</td>\n",
       "      <td>0.00</td>\n",
       "      <td>2</td>\n",
       "      <td>1</td>\n",
       "      <td>1</td>\n",
       "      <td>41183.02</td>\n",
       "      <td>0</td>\n",
       "    </tr>\n",
       "  </tbody>\n",
       "</table>\n",
       "</div>"
      ],
      "text/plain": [
       "   Score  Country  Gender  Age  Year     Credit  NumOf Holiday  Id Card  \\\n",
       "0    570        0       0   32     8       0.00              1        0   \n",
       "1    555        2       1   12     4  151958.19              2        1   \n",
       "2    692        0       1   36     5       0.00              2        1   \n",
       "3    774        0       1   21     5  118400.91              1        1   \n",
       "4    638        2       1   22     9       0.00              2        1   \n",
       "\n",
       "   Active Student  Estimated Credit  Computer Student  \n",
       "0               1           3430.38                 1  \n",
       "1               1         160450.21                 0  \n",
       "2               1           1485.27                 0  \n",
       "3               0          19720.08                 1  \n",
       "4               1          41183.02                 0  "
      ]
     },
     "execution_count": 11,
     "metadata": {},
     "output_type": "execute_result"
    }
   ],
   "source": [
    "stud.head(5)"
   ]
  },
  {
   "cell_type": "code",
   "execution_count": 12,
   "id": "cd52aabd",
   "metadata": {},
   "outputs": [],
   "source": [
    "x=stud.iloc[:,0:-1]\n",
    "y=stud.iloc[:,-1]"
   ]
  },
  {
   "cell_type": "code",
   "execution_count": 13,
   "id": "8508207c",
   "metadata": {},
   "outputs": [
    {
     "data": {
      "text/plain": [
       "0    7971\n",
       "1    2040\n",
       "Name: Computer Student, dtype: int64"
      ]
     },
     "execution_count": 13,
     "metadata": {},
     "output_type": "execute_result"
    }
   ],
   "source": [
    "y.value_counts()\n"
   ]
  },
  {
   "cell_type": "code",
   "execution_count": 14,
   "id": "c1ca84aa",
   "metadata": {},
   "outputs": [
    {
     "data": {
      "text/plain": [
       "((8008, 10), (2003, 10), (8008,), (2003,))"
      ]
     },
     "execution_count": 14,
     "metadata": {},
     "output_type": "execute_result"
    }
   ],
   "source": [
    "from sklearn.model_selection import train_test_split\n",
    "x_train,x_test,y_train,y_test=train_test_split(x,y,test_size=0.2,random_state=101)\n",
    "x_train.shape,x_test.shape,y_train.shape,y_test.shape"
   ]
  },
  {
   "cell_type": "markdown",
   "id": "fddcce0e",
   "metadata": {},
   "source": [
    "# Logistic Regression"
   ]
  },
  {
   "cell_type": "code",
   "execution_count": 15,
   "id": "34beb8f2",
   "metadata": {},
   "outputs": [],
   "source": [
    "from sklearn.linear_model import LogisticRegression\n",
    "lg=LogisticRegression()"
   ]
  },
  {
   "cell_type": "code",
   "execution_count": 16,
   "id": "14604d3e",
   "metadata": {},
   "outputs": [
    {
     "data": {
      "text/html": [
       "<style>#sk-container-id-1 {color: black;background-color: white;}#sk-container-id-1 pre{padding: 0;}#sk-container-id-1 div.sk-toggleable {background-color: white;}#sk-container-id-1 label.sk-toggleable__label {cursor: pointer;display: block;width: 100%;margin-bottom: 0;padding: 0.3em;box-sizing: border-box;text-align: center;}#sk-container-id-1 label.sk-toggleable__label-arrow:before {content: \"▸\";float: left;margin-right: 0.25em;color: #696969;}#sk-container-id-1 label.sk-toggleable__label-arrow:hover:before {color: black;}#sk-container-id-1 div.sk-estimator:hover label.sk-toggleable__label-arrow:before {color: black;}#sk-container-id-1 div.sk-toggleable__content {max-height: 0;max-width: 0;overflow: hidden;text-align: left;background-color: #f0f8ff;}#sk-container-id-1 div.sk-toggleable__content pre {margin: 0.2em;color: black;border-radius: 0.25em;background-color: #f0f8ff;}#sk-container-id-1 input.sk-toggleable__control:checked~div.sk-toggleable__content {max-height: 200px;max-width: 100%;overflow: auto;}#sk-container-id-1 input.sk-toggleable__control:checked~label.sk-toggleable__label-arrow:before {content: \"▾\";}#sk-container-id-1 div.sk-estimator input.sk-toggleable__control:checked~label.sk-toggleable__label {background-color: #d4ebff;}#sk-container-id-1 div.sk-label input.sk-toggleable__control:checked~label.sk-toggleable__label {background-color: #d4ebff;}#sk-container-id-1 input.sk-hidden--visually {border: 0;clip: rect(1px 1px 1px 1px);clip: rect(1px, 1px, 1px, 1px);height: 1px;margin: -1px;overflow: hidden;padding: 0;position: absolute;width: 1px;}#sk-container-id-1 div.sk-estimator {font-family: monospace;background-color: #f0f8ff;border: 1px dotted black;border-radius: 0.25em;box-sizing: border-box;margin-bottom: 0.5em;}#sk-container-id-1 div.sk-estimator:hover {background-color: #d4ebff;}#sk-container-id-1 div.sk-parallel-item::after {content: \"\";width: 100%;border-bottom: 1px solid gray;flex-grow: 1;}#sk-container-id-1 div.sk-label:hover label.sk-toggleable__label {background-color: #d4ebff;}#sk-container-id-1 div.sk-serial::before {content: \"\";position: absolute;border-left: 1px solid gray;box-sizing: border-box;top: 0;bottom: 0;left: 50%;z-index: 0;}#sk-container-id-1 div.sk-serial {display: flex;flex-direction: column;align-items: center;background-color: white;padding-right: 0.2em;padding-left: 0.2em;position: relative;}#sk-container-id-1 div.sk-item {position: relative;z-index: 1;}#sk-container-id-1 div.sk-parallel {display: flex;align-items: stretch;justify-content: center;background-color: white;position: relative;}#sk-container-id-1 div.sk-item::before, #sk-container-id-1 div.sk-parallel-item::before {content: \"\";position: absolute;border-left: 1px solid gray;box-sizing: border-box;top: 0;bottom: 0;left: 50%;z-index: -1;}#sk-container-id-1 div.sk-parallel-item {display: flex;flex-direction: column;z-index: 1;position: relative;background-color: white;}#sk-container-id-1 div.sk-parallel-item:first-child::after {align-self: flex-end;width: 50%;}#sk-container-id-1 div.sk-parallel-item:last-child::after {align-self: flex-start;width: 50%;}#sk-container-id-1 div.sk-parallel-item:only-child::after {width: 0;}#sk-container-id-1 div.sk-dashed-wrapped {border: 1px dashed gray;margin: 0 0.4em 0.5em 0.4em;box-sizing: border-box;padding-bottom: 0.4em;background-color: white;}#sk-container-id-1 div.sk-label label {font-family: monospace;font-weight: bold;display: inline-block;line-height: 1.2em;}#sk-container-id-1 div.sk-label-container {text-align: center;}#sk-container-id-1 div.sk-container {/* jupyter's `normalize.less` sets `[hidden] { display: none; }` but bootstrap.min.css set `[hidden] { display: none !important; }` so we also need the `!important` here to be able to override the default hidden behavior on the sphinx rendered scikit-learn.org. See: https://github.com/scikit-learn/scikit-learn/issues/21755 */display: inline-block !important;position: relative;}#sk-container-id-1 div.sk-text-repr-fallback {display: none;}</style><div id=\"sk-container-id-1\" class=\"sk-top-container\"><div class=\"sk-text-repr-fallback\"><pre>LogisticRegression()</pre><b>In a Jupyter environment, please rerun this cell to show the HTML representation or trust the notebook. <br />On GitHub, the HTML representation is unable to render, please try loading this page with nbviewer.org.</b></div><div class=\"sk-container\" hidden><div class=\"sk-item\"><div class=\"sk-estimator sk-toggleable\"><input class=\"sk-toggleable__control sk-hidden--visually\" id=\"sk-estimator-id-1\" type=\"checkbox\" checked><label for=\"sk-estimator-id-1\" class=\"sk-toggleable__label sk-toggleable__label-arrow\">LogisticRegression</label><div class=\"sk-toggleable__content\"><pre>LogisticRegression()</pre></div></div></div></div></div>"
      ],
      "text/plain": [
       "LogisticRegression()"
      ]
     },
     "execution_count": 16,
     "metadata": {},
     "output_type": "execute_result"
    }
   ],
   "source": [
    "lg.fit(x_train,y_train)"
   ]
  },
  {
   "cell_type": "code",
   "execution_count": 17,
   "id": "dd7ac668",
   "metadata": {},
   "outputs": [
    {
     "data": {
      "text/plain": [
       "array([0, 0, 0, ..., 0, 0, 0], dtype=int64)"
      ]
     },
     "execution_count": 17,
     "metadata": {},
     "output_type": "execute_result"
    }
   ],
   "source": [
    "lg_p=lg.predict(x_test)\n",
    "lg_p"
   ]
  },
  {
   "cell_type": "code",
   "execution_count": 18,
   "id": "0821bf25",
   "metadata": {},
   "outputs": [],
   "source": [
    "prob=lg.predict_proba(x_test)\n",
    "#prob"
   ]
  },
  {
   "cell_type": "code",
   "execution_count": 19,
   "id": "f7f646b8",
   "metadata": {},
   "outputs": [],
   "source": [
    "df=pd.DataFrame(prob)\n",
    "#df"
   ]
  },
  {
   "cell_type": "code",
   "execution_count": 20,
   "id": "8c36fea0",
   "metadata": {},
   "outputs": [
    {
     "data": {
      "text/plain": [
       "array([[1578,    0],\n",
       "       [ 425,    0]], dtype=int64)"
      ]
     },
     "execution_count": 20,
     "metadata": {},
     "output_type": "execute_result"
    }
   ],
   "source": [
    "from sklearn.metrics import confusion_matrix\n",
    "lg_cf=confusion_matrix(y_test,lg_p)\n",
    "lg_cf "
   ]
  },
  {
   "cell_type": "code",
   "execution_count": 21,
   "id": "c883c13c",
   "metadata": {},
   "outputs": [
    {
     "data": {
      "text/plain": [
       "78.78182725911134"
      ]
     },
     "execution_count": 21,
     "metadata": {},
     "output_type": "execute_result"
    }
   ],
   "source": [
    "lg_ac=lg_cf.diagonal().sum()/lg_cf.sum()*100\n",
    "lg_ac"
   ]
  },
  {
   "cell_type": "code",
   "execution_count": 22,
   "id": "a5dd8f62",
   "metadata": {},
   "outputs": [],
   "source": [
    "a=f1_score(y_test,lg_p)\n",
    "b=precision_score(y_test,lg_p)\n",
    "c=recall_score(y_test,lg_p)"
   ]
  },
  {
   "cell_type": "code",
   "execution_count": 23,
   "id": "0bee4686",
   "metadata": {},
   "outputs": [
    {
     "name": "stdout",
     "output_type": "stream",
     "text": [
      "              precision    recall  f1-score   support\n",
      "\n",
      "           0       0.79      1.00      0.88      1578\n",
      "           1       0.00      0.00      0.00       425\n",
      "\n",
      "    accuracy                           0.79      2003\n",
      "   macro avg       0.39      0.50      0.44      2003\n",
      "weighted avg       0.62      0.79      0.69      2003\n",
      "\n"
     ]
    }
   ],
   "source": [
    "print(classification_report(y_test,lg_p))"
   ]
  },
  {
   "cell_type": "markdown",
   "id": "8f4f13fe",
   "metadata": {},
   "source": [
    "# Decision Tree\n"
   ]
  },
  {
   "cell_type": "code",
   "execution_count": 24,
   "id": "41ab138a",
   "metadata": {},
   "outputs": [],
   "source": [
    "from sklearn.tree import DecisionTreeClassifier\n",
    "dt=DecisionTreeClassifier()"
   ]
  },
  {
   "cell_type": "code",
   "execution_count": 25,
   "id": "336ff05a",
   "metadata": {},
   "outputs": [
    {
     "data": {
      "text/html": [
       "<style>#sk-container-id-2 {color: black;background-color: white;}#sk-container-id-2 pre{padding: 0;}#sk-container-id-2 div.sk-toggleable {background-color: white;}#sk-container-id-2 label.sk-toggleable__label {cursor: pointer;display: block;width: 100%;margin-bottom: 0;padding: 0.3em;box-sizing: border-box;text-align: center;}#sk-container-id-2 label.sk-toggleable__label-arrow:before {content: \"▸\";float: left;margin-right: 0.25em;color: #696969;}#sk-container-id-2 label.sk-toggleable__label-arrow:hover:before {color: black;}#sk-container-id-2 div.sk-estimator:hover label.sk-toggleable__label-arrow:before {color: black;}#sk-container-id-2 div.sk-toggleable__content {max-height: 0;max-width: 0;overflow: hidden;text-align: left;background-color: #f0f8ff;}#sk-container-id-2 div.sk-toggleable__content pre {margin: 0.2em;color: black;border-radius: 0.25em;background-color: #f0f8ff;}#sk-container-id-2 input.sk-toggleable__control:checked~div.sk-toggleable__content {max-height: 200px;max-width: 100%;overflow: auto;}#sk-container-id-2 input.sk-toggleable__control:checked~label.sk-toggleable__label-arrow:before {content: \"▾\";}#sk-container-id-2 div.sk-estimator input.sk-toggleable__control:checked~label.sk-toggleable__label {background-color: #d4ebff;}#sk-container-id-2 div.sk-label input.sk-toggleable__control:checked~label.sk-toggleable__label {background-color: #d4ebff;}#sk-container-id-2 input.sk-hidden--visually {border: 0;clip: rect(1px 1px 1px 1px);clip: rect(1px, 1px, 1px, 1px);height: 1px;margin: -1px;overflow: hidden;padding: 0;position: absolute;width: 1px;}#sk-container-id-2 div.sk-estimator {font-family: monospace;background-color: #f0f8ff;border: 1px dotted black;border-radius: 0.25em;box-sizing: border-box;margin-bottom: 0.5em;}#sk-container-id-2 div.sk-estimator:hover {background-color: #d4ebff;}#sk-container-id-2 div.sk-parallel-item::after {content: \"\";width: 100%;border-bottom: 1px solid gray;flex-grow: 1;}#sk-container-id-2 div.sk-label:hover label.sk-toggleable__label {background-color: #d4ebff;}#sk-container-id-2 div.sk-serial::before {content: \"\";position: absolute;border-left: 1px solid gray;box-sizing: border-box;top: 0;bottom: 0;left: 50%;z-index: 0;}#sk-container-id-2 div.sk-serial {display: flex;flex-direction: column;align-items: center;background-color: white;padding-right: 0.2em;padding-left: 0.2em;position: relative;}#sk-container-id-2 div.sk-item {position: relative;z-index: 1;}#sk-container-id-2 div.sk-parallel {display: flex;align-items: stretch;justify-content: center;background-color: white;position: relative;}#sk-container-id-2 div.sk-item::before, #sk-container-id-2 div.sk-parallel-item::before {content: \"\";position: absolute;border-left: 1px solid gray;box-sizing: border-box;top: 0;bottom: 0;left: 50%;z-index: -1;}#sk-container-id-2 div.sk-parallel-item {display: flex;flex-direction: column;z-index: 1;position: relative;background-color: white;}#sk-container-id-2 div.sk-parallel-item:first-child::after {align-self: flex-end;width: 50%;}#sk-container-id-2 div.sk-parallel-item:last-child::after {align-self: flex-start;width: 50%;}#sk-container-id-2 div.sk-parallel-item:only-child::after {width: 0;}#sk-container-id-2 div.sk-dashed-wrapped {border: 1px dashed gray;margin: 0 0.4em 0.5em 0.4em;box-sizing: border-box;padding-bottom: 0.4em;background-color: white;}#sk-container-id-2 div.sk-label label {font-family: monospace;font-weight: bold;display: inline-block;line-height: 1.2em;}#sk-container-id-2 div.sk-label-container {text-align: center;}#sk-container-id-2 div.sk-container {/* jupyter's `normalize.less` sets `[hidden] { display: none; }` but bootstrap.min.css set `[hidden] { display: none !important; }` so we also need the `!important` here to be able to override the default hidden behavior on the sphinx rendered scikit-learn.org. See: https://github.com/scikit-learn/scikit-learn/issues/21755 */display: inline-block !important;position: relative;}#sk-container-id-2 div.sk-text-repr-fallback {display: none;}</style><div id=\"sk-container-id-2\" class=\"sk-top-container\"><div class=\"sk-text-repr-fallback\"><pre>DecisionTreeClassifier()</pre><b>In a Jupyter environment, please rerun this cell to show the HTML representation or trust the notebook. <br />On GitHub, the HTML representation is unable to render, please try loading this page with nbviewer.org.</b></div><div class=\"sk-container\" hidden><div class=\"sk-item\"><div class=\"sk-estimator sk-toggleable\"><input class=\"sk-toggleable__control sk-hidden--visually\" id=\"sk-estimator-id-2\" type=\"checkbox\" checked><label for=\"sk-estimator-id-2\" class=\"sk-toggleable__label sk-toggleable__label-arrow\">DecisionTreeClassifier</label><div class=\"sk-toggleable__content\"><pre>DecisionTreeClassifier()</pre></div></div></div></div></div>"
      ],
      "text/plain": [
       "DecisionTreeClassifier()"
      ]
     },
     "execution_count": 25,
     "metadata": {},
     "output_type": "execute_result"
    }
   ],
   "source": [
    "dt.fit(x_train,y_train)"
   ]
  },
  {
   "cell_type": "code",
   "execution_count": 26,
   "id": "0708636f",
   "metadata": {},
   "outputs": [
    {
     "data": {
      "text/plain": [
       "array([0, 0, 0, ..., 0, 0, 0], dtype=int64)"
      ]
     },
     "execution_count": 26,
     "metadata": {},
     "output_type": "execute_result"
    }
   ],
   "source": [
    "dt_p=dt.predict(x_test)\n",
    "dt_p"
   ]
  },
  {
   "cell_type": "code",
   "execution_count": 27,
   "id": "8c0f1aa1",
   "metadata": {},
   "outputs": [
    {
     "data": {
      "text/plain": [
       "array([[1343,  235],\n",
       "       [ 245,  180]], dtype=int64)"
      ]
     },
     "execution_count": 27,
     "metadata": {},
     "output_type": "execute_result"
    }
   ],
   "source": [
    "dt_cf=confusion_matrix(y_test,dt_p)\n",
    "dt_cf"
   ]
  },
  {
   "cell_type": "code",
   "execution_count": 28,
   "id": "ff478653",
   "metadata": {},
   "outputs": [
    {
     "data": {
      "text/plain": [
       "76.03594608087867"
      ]
     },
     "execution_count": 28,
     "metadata": {},
     "output_type": "execute_result"
    }
   ],
   "source": [
    "dt_ac=dt_cf.diagonal().sum()/dt_cf.sum()*100\n",
    "dt_ac"
   ]
  },
  {
   "cell_type": "code",
   "execution_count": 29,
   "id": "13f3a780",
   "metadata": {},
   "outputs": [],
   "source": [
    "a1=f1_score(y_test,dt_p)\n",
    "b1=precision_score(y_test,dt_p)\n",
    "c1=recall_score(y_test,dt_p)"
   ]
  },
  {
   "cell_type": "code",
   "execution_count": 30,
   "id": "b9a40632",
   "metadata": {},
   "outputs": [
    {
     "name": "stdout",
     "output_type": "stream",
     "text": [
      "              precision    recall  f1-score   support\n",
      "\n",
      "           0       0.85      0.85      0.85      1578\n",
      "           1       0.43      0.42      0.43       425\n",
      "\n",
      "    accuracy                           0.76      2003\n",
      "   macro avg       0.64      0.64      0.64      2003\n",
      "weighted avg       0.76      0.76      0.76      2003\n",
      "\n"
     ]
    }
   ],
   "source": [
    "print(classification_report(y_test,dt_p))"
   ]
  },
  {
   "cell_type": "markdown",
   "id": "cd7e8dd2",
   "metadata": {},
   "source": [
    "# Random Forest\n"
   ]
  },
  {
   "cell_type": "code",
   "execution_count": 31,
   "id": "043e9785",
   "metadata": {},
   "outputs": [],
   "source": [
    "from sklearn.ensemble import RandomForestClassifier\n",
    "rf=RandomForestClassifier()"
   ]
  },
  {
   "cell_type": "code",
   "execution_count": 32,
   "id": "e3330383",
   "metadata": {},
   "outputs": [
    {
     "data": {
      "text/html": [
       "<style>#sk-container-id-3 {color: black;background-color: white;}#sk-container-id-3 pre{padding: 0;}#sk-container-id-3 div.sk-toggleable {background-color: white;}#sk-container-id-3 label.sk-toggleable__label {cursor: pointer;display: block;width: 100%;margin-bottom: 0;padding: 0.3em;box-sizing: border-box;text-align: center;}#sk-container-id-3 label.sk-toggleable__label-arrow:before {content: \"▸\";float: left;margin-right: 0.25em;color: #696969;}#sk-container-id-3 label.sk-toggleable__label-arrow:hover:before {color: black;}#sk-container-id-3 div.sk-estimator:hover label.sk-toggleable__label-arrow:before {color: black;}#sk-container-id-3 div.sk-toggleable__content {max-height: 0;max-width: 0;overflow: hidden;text-align: left;background-color: #f0f8ff;}#sk-container-id-3 div.sk-toggleable__content pre {margin: 0.2em;color: black;border-radius: 0.25em;background-color: #f0f8ff;}#sk-container-id-3 input.sk-toggleable__control:checked~div.sk-toggleable__content {max-height: 200px;max-width: 100%;overflow: auto;}#sk-container-id-3 input.sk-toggleable__control:checked~label.sk-toggleable__label-arrow:before {content: \"▾\";}#sk-container-id-3 div.sk-estimator input.sk-toggleable__control:checked~label.sk-toggleable__label {background-color: #d4ebff;}#sk-container-id-3 div.sk-label input.sk-toggleable__control:checked~label.sk-toggleable__label {background-color: #d4ebff;}#sk-container-id-3 input.sk-hidden--visually {border: 0;clip: rect(1px 1px 1px 1px);clip: rect(1px, 1px, 1px, 1px);height: 1px;margin: -1px;overflow: hidden;padding: 0;position: absolute;width: 1px;}#sk-container-id-3 div.sk-estimator {font-family: monospace;background-color: #f0f8ff;border: 1px dotted black;border-radius: 0.25em;box-sizing: border-box;margin-bottom: 0.5em;}#sk-container-id-3 div.sk-estimator:hover {background-color: #d4ebff;}#sk-container-id-3 div.sk-parallel-item::after {content: \"\";width: 100%;border-bottom: 1px solid gray;flex-grow: 1;}#sk-container-id-3 div.sk-label:hover label.sk-toggleable__label {background-color: #d4ebff;}#sk-container-id-3 div.sk-serial::before {content: \"\";position: absolute;border-left: 1px solid gray;box-sizing: border-box;top: 0;bottom: 0;left: 50%;z-index: 0;}#sk-container-id-3 div.sk-serial {display: flex;flex-direction: column;align-items: center;background-color: white;padding-right: 0.2em;padding-left: 0.2em;position: relative;}#sk-container-id-3 div.sk-item {position: relative;z-index: 1;}#sk-container-id-3 div.sk-parallel {display: flex;align-items: stretch;justify-content: center;background-color: white;position: relative;}#sk-container-id-3 div.sk-item::before, #sk-container-id-3 div.sk-parallel-item::before {content: \"\";position: absolute;border-left: 1px solid gray;box-sizing: border-box;top: 0;bottom: 0;left: 50%;z-index: -1;}#sk-container-id-3 div.sk-parallel-item {display: flex;flex-direction: column;z-index: 1;position: relative;background-color: white;}#sk-container-id-3 div.sk-parallel-item:first-child::after {align-self: flex-end;width: 50%;}#sk-container-id-3 div.sk-parallel-item:last-child::after {align-self: flex-start;width: 50%;}#sk-container-id-3 div.sk-parallel-item:only-child::after {width: 0;}#sk-container-id-3 div.sk-dashed-wrapped {border: 1px dashed gray;margin: 0 0.4em 0.5em 0.4em;box-sizing: border-box;padding-bottom: 0.4em;background-color: white;}#sk-container-id-3 div.sk-label label {font-family: monospace;font-weight: bold;display: inline-block;line-height: 1.2em;}#sk-container-id-3 div.sk-label-container {text-align: center;}#sk-container-id-3 div.sk-container {/* jupyter's `normalize.less` sets `[hidden] { display: none; }` but bootstrap.min.css set `[hidden] { display: none !important; }` so we also need the `!important` here to be able to override the default hidden behavior on the sphinx rendered scikit-learn.org. See: https://github.com/scikit-learn/scikit-learn/issues/21755 */display: inline-block !important;position: relative;}#sk-container-id-3 div.sk-text-repr-fallback {display: none;}</style><div id=\"sk-container-id-3\" class=\"sk-top-container\"><div class=\"sk-text-repr-fallback\"><pre>RandomForestClassifier()</pre><b>In a Jupyter environment, please rerun this cell to show the HTML representation or trust the notebook. <br />On GitHub, the HTML representation is unable to render, please try loading this page with nbviewer.org.</b></div><div class=\"sk-container\" hidden><div class=\"sk-item\"><div class=\"sk-estimator sk-toggleable\"><input class=\"sk-toggleable__control sk-hidden--visually\" id=\"sk-estimator-id-3\" type=\"checkbox\" checked><label for=\"sk-estimator-id-3\" class=\"sk-toggleable__label sk-toggleable__label-arrow\">RandomForestClassifier</label><div class=\"sk-toggleable__content\"><pre>RandomForestClassifier()</pre></div></div></div></div></div>"
      ],
      "text/plain": [
       "RandomForestClassifier()"
      ]
     },
     "execution_count": 32,
     "metadata": {},
     "output_type": "execute_result"
    }
   ],
   "source": [
    "rf.fit(x_train,y_train)"
   ]
  },
  {
   "cell_type": "code",
   "execution_count": 33,
   "id": "88e03b14",
   "metadata": {},
   "outputs": [],
   "source": [
    "rf_p=rf.predict(x_test)"
   ]
  },
  {
   "cell_type": "code",
   "execution_count": 34,
   "id": "006d48e5",
   "metadata": {},
   "outputs": [
    {
     "data": {
      "text/plain": [
       "array([[1541,   37],\n",
       "       [ 292,  133]], dtype=int64)"
      ]
     },
     "execution_count": 34,
     "metadata": {},
     "output_type": "execute_result"
    }
   ],
   "source": [
    "rf_cf=confusion_matrix(y_test,rf_p)\n",
    "rf_cf"
   ]
  },
  {
   "cell_type": "code",
   "execution_count": 35,
   "id": "626acdfe",
   "metadata": {},
   "outputs": [
    {
     "data": {
      "text/plain": [
       "83.5746380429356"
      ]
     },
     "execution_count": 35,
     "metadata": {},
     "output_type": "execute_result"
    }
   ],
   "source": [
    "rf_ac=rf_cf.diagonal().sum()/rf_cf.sum()*100\n",
    "rf_ac"
   ]
  },
  {
   "cell_type": "code",
   "execution_count": 36,
   "id": "4308daaa",
   "metadata": {},
   "outputs": [],
   "source": [
    "a2=f1_score(y_test,rf_p)\n",
    "b2=precision_score(y_test,rf_p)\n",
    "c2=recall_score(y_test,rf_p)"
   ]
  },
  {
   "cell_type": "code",
   "execution_count": 37,
   "id": "47232f9b",
   "metadata": {},
   "outputs": [
    {
     "name": "stdout",
     "output_type": "stream",
     "text": [
      "              precision    recall  f1-score   support\n",
      "\n",
      "           0       0.84      0.98      0.90      1578\n",
      "           1       0.78      0.31      0.45       425\n",
      "\n",
      "    accuracy                           0.84      2003\n",
      "   macro avg       0.81      0.64      0.68      2003\n",
      "weighted avg       0.83      0.84      0.81      2003\n",
      "\n"
     ]
    }
   ],
   "source": [
    "print(classification_report(y_test,rf_p))"
   ]
  },
  {
   "cell_type": "markdown",
   "id": "d55ad252",
   "metadata": {},
   "source": [
    "# KNN"
   ]
  },
  {
   "cell_type": "code",
   "execution_count": 38,
   "id": "9821c2b6",
   "metadata": {},
   "outputs": [],
   "source": [
    "from sklearn.neighbors import KNeighborsClassifier\n",
    "knn=KNeighborsClassifier()"
   ]
  },
  {
   "cell_type": "code",
   "execution_count": 39,
   "id": "fcca1a23",
   "metadata": {},
   "outputs": [
    {
     "data": {
      "text/html": [
       "<style>#sk-container-id-4 {color: black;background-color: white;}#sk-container-id-4 pre{padding: 0;}#sk-container-id-4 div.sk-toggleable {background-color: white;}#sk-container-id-4 label.sk-toggleable__label {cursor: pointer;display: block;width: 100%;margin-bottom: 0;padding: 0.3em;box-sizing: border-box;text-align: center;}#sk-container-id-4 label.sk-toggleable__label-arrow:before {content: \"▸\";float: left;margin-right: 0.25em;color: #696969;}#sk-container-id-4 label.sk-toggleable__label-arrow:hover:before {color: black;}#sk-container-id-4 div.sk-estimator:hover label.sk-toggleable__label-arrow:before {color: black;}#sk-container-id-4 div.sk-toggleable__content {max-height: 0;max-width: 0;overflow: hidden;text-align: left;background-color: #f0f8ff;}#sk-container-id-4 div.sk-toggleable__content pre {margin: 0.2em;color: black;border-radius: 0.25em;background-color: #f0f8ff;}#sk-container-id-4 input.sk-toggleable__control:checked~div.sk-toggleable__content {max-height: 200px;max-width: 100%;overflow: auto;}#sk-container-id-4 input.sk-toggleable__control:checked~label.sk-toggleable__label-arrow:before {content: \"▾\";}#sk-container-id-4 div.sk-estimator input.sk-toggleable__control:checked~label.sk-toggleable__label {background-color: #d4ebff;}#sk-container-id-4 div.sk-label input.sk-toggleable__control:checked~label.sk-toggleable__label {background-color: #d4ebff;}#sk-container-id-4 input.sk-hidden--visually {border: 0;clip: rect(1px 1px 1px 1px);clip: rect(1px, 1px, 1px, 1px);height: 1px;margin: -1px;overflow: hidden;padding: 0;position: absolute;width: 1px;}#sk-container-id-4 div.sk-estimator {font-family: monospace;background-color: #f0f8ff;border: 1px dotted black;border-radius: 0.25em;box-sizing: border-box;margin-bottom: 0.5em;}#sk-container-id-4 div.sk-estimator:hover {background-color: #d4ebff;}#sk-container-id-4 div.sk-parallel-item::after {content: \"\";width: 100%;border-bottom: 1px solid gray;flex-grow: 1;}#sk-container-id-4 div.sk-label:hover label.sk-toggleable__label {background-color: #d4ebff;}#sk-container-id-4 div.sk-serial::before {content: \"\";position: absolute;border-left: 1px solid gray;box-sizing: border-box;top: 0;bottom: 0;left: 50%;z-index: 0;}#sk-container-id-4 div.sk-serial {display: flex;flex-direction: column;align-items: center;background-color: white;padding-right: 0.2em;padding-left: 0.2em;position: relative;}#sk-container-id-4 div.sk-item {position: relative;z-index: 1;}#sk-container-id-4 div.sk-parallel {display: flex;align-items: stretch;justify-content: center;background-color: white;position: relative;}#sk-container-id-4 div.sk-item::before, #sk-container-id-4 div.sk-parallel-item::before {content: \"\";position: absolute;border-left: 1px solid gray;box-sizing: border-box;top: 0;bottom: 0;left: 50%;z-index: -1;}#sk-container-id-4 div.sk-parallel-item {display: flex;flex-direction: column;z-index: 1;position: relative;background-color: white;}#sk-container-id-4 div.sk-parallel-item:first-child::after {align-self: flex-end;width: 50%;}#sk-container-id-4 div.sk-parallel-item:last-child::after {align-self: flex-start;width: 50%;}#sk-container-id-4 div.sk-parallel-item:only-child::after {width: 0;}#sk-container-id-4 div.sk-dashed-wrapped {border: 1px dashed gray;margin: 0 0.4em 0.5em 0.4em;box-sizing: border-box;padding-bottom: 0.4em;background-color: white;}#sk-container-id-4 div.sk-label label {font-family: monospace;font-weight: bold;display: inline-block;line-height: 1.2em;}#sk-container-id-4 div.sk-label-container {text-align: center;}#sk-container-id-4 div.sk-container {/* jupyter's `normalize.less` sets `[hidden] { display: none; }` but bootstrap.min.css set `[hidden] { display: none !important; }` so we also need the `!important` here to be able to override the default hidden behavior on the sphinx rendered scikit-learn.org. See: https://github.com/scikit-learn/scikit-learn/issues/21755 */display: inline-block !important;position: relative;}#sk-container-id-4 div.sk-text-repr-fallback {display: none;}</style><div id=\"sk-container-id-4\" class=\"sk-top-container\"><div class=\"sk-text-repr-fallback\"><pre>KNeighborsClassifier()</pre><b>In a Jupyter environment, please rerun this cell to show the HTML representation or trust the notebook. <br />On GitHub, the HTML representation is unable to render, please try loading this page with nbviewer.org.</b></div><div class=\"sk-container\" hidden><div class=\"sk-item\"><div class=\"sk-estimator sk-toggleable\"><input class=\"sk-toggleable__control sk-hidden--visually\" id=\"sk-estimator-id-4\" type=\"checkbox\" checked><label for=\"sk-estimator-id-4\" class=\"sk-toggleable__label sk-toggleable__label-arrow\">KNeighborsClassifier</label><div class=\"sk-toggleable__content\"><pre>KNeighborsClassifier()</pre></div></div></div></div></div>"
      ],
      "text/plain": [
       "KNeighborsClassifier()"
      ]
     },
     "execution_count": 39,
     "metadata": {},
     "output_type": "execute_result"
    }
   ],
   "source": [
    "knn.fit(x_train,y_train)"
   ]
  },
  {
   "cell_type": "code",
   "execution_count": 40,
   "id": "6bdc5515",
   "metadata": {},
   "outputs": [],
   "source": [
    "knn_p=knn.predict(x_test)"
   ]
  },
  {
   "cell_type": "code",
   "execution_count": 41,
   "id": "9e2034e2",
   "metadata": {},
   "outputs": [
    {
     "data": {
      "text/plain": [
       "array([[1456,  122],\n",
       "       [ 397,   28]], dtype=int64)"
      ]
     },
     "execution_count": 41,
     "metadata": {},
     "output_type": "execute_result"
    }
   ],
   "source": [
    "knn_cf=confusion_matrix(y_test,knn_p)\n",
    "knn_cf"
   ]
  },
  {
   "cell_type": "code",
   "execution_count": 42,
   "id": "dd394866",
   "metadata": {},
   "outputs": [
    {
     "data": {
      "text/plain": [
       "74.08886669995007"
      ]
     },
     "execution_count": 42,
     "metadata": {},
     "output_type": "execute_result"
    }
   ],
   "source": [
    "knn_ac=knn_cf.diagonal().sum()/knn_cf.sum()*100\n",
    "knn_ac"
   ]
  },
  {
   "cell_type": "code",
   "execution_count": 43,
   "id": "a40bdc84",
   "metadata": {},
   "outputs": [],
   "source": [
    "a3=f1_score(y_test,knn_p)\n",
    "b3=precision_score(y_test,knn_p)\n",
    "c3=recall_score(y_test,knn_p)"
   ]
  },
  {
   "cell_type": "code",
   "execution_count": 44,
   "id": "45eceaa6",
   "metadata": {},
   "outputs": [
    {
     "name": "stdout",
     "output_type": "stream",
     "text": [
      "              precision    recall  f1-score   support\n",
      "\n",
      "           0       0.79      0.92      0.85      1578\n",
      "           1       0.19      0.07      0.10       425\n",
      "\n",
      "    accuracy                           0.74      2003\n",
      "   macro avg       0.49      0.49      0.47      2003\n",
      "weighted avg       0.66      0.74      0.69      2003\n",
      "\n"
     ]
    }
   ],
   "source": [
    "print(classification_report(y_test,knn_p))"
   ]
  },
  {
   "cell_type": "markdown",
   "id": "a4eb8234",
   "metadata": {},
   "source": [
    "# XGB(XGBoost)"
   ]
  },
  {
   "cell_type": "code",
   "execution_count": 45,
   "id": "1560ec11",
   "metadata": {},
   "outputs": [],
   "source": [
    "import xgboost\n",
    "from xgboost import XGBClassifier\n",
    "xgb=XGBClassifier()"
   ]
  },
  {
   "cell_type": "code",
   "execution_count": 46,
   "id": "af41d05c",
   "metadata": {},
   "outputs": [
    {
     "data": {
      "text/html": [
       "<style>#sk-container-id-5 {color: black;background-color: white;}#sk-container-id-5 pre{padding: 0;}#sk-container-id-5 div.sk-toggleable {background-color: white;}#sk-container-id-5 label.sk-toggleable__label {cursor: pointer;display: block;width: 100%;margin-bottom: 0;padding: 0.3em;box-sizing: border-box;text-align: center;}#sk-container-id-5 label.sk-toggleable__label-arrow:before {content: \"▸\";float: left;margin-right: 0.25em;color: #696969;}#sk-container-id-5 label.sk-toggleable__label-arrow:hover:before {color: black;}#sk-container-id-5 div.sk-estimator:hover label.sk-toggleable__label-arrow:before {color: black;}#sk-container-id-5 div.sk-toggleable__content {max-height: 0;max-width: 0;overflow: hidden;text-align: left;background-color: #f0f8ff;}#sk-container-id-5 div.sk-toggleable__content pre {margin: 0.2em;color: black;border-radius: 0.25em;background-color: #f0f8ff;}#sk-container-id-5 input.sk-toggleable__control:checked~div.sk-toggleable__content {max-height: 200px;max-width: 100%;overflow: auto;}#sk-container-id-5 input.sk-toggleable__control:checked~label.sk-toggleable__label-arrow:before {content: \"▾\";}#sk-container-id-5 div.sk-estimator input.sk-toggleable__control:checked~label.sk-toggleable__label {background-color: #d4ebff;}#sk-container-id-5 div.sk-label input.sk-toggleable__control:checked~label.sk-toggleable__label {background-color: #d4ebff;}#sk-container-id-5 input.sk-hidden--visually {border: 0;clip: rect(1px 1px 1px 1px);clip: rect(1px, 1px, 1px, 1px);height: 1px;margin: -1px;overflow: hidden;padding: 0;position: absolute;width: 1px;}#sk-container-id-5 div.sk-estimator {font-family: monospace;background-color: #f0f8ff;border: 1px dotted black;border-radius: 0.25em;box-sizing: border-box;margin-bottom: 0.5em;}#sk-container-id-5 div.sk-estimator:hover {background-color: #d4ebff;}#sk-container-id-5 div.sk-parallel-item::after {content: \"\";width: 100%;border-bottom: 1px solid gray;flex-grow: 1;}#sk-container-id-5 div.sk-label:hover label.sk-toggleable__label {background-color: #d4ebff;}#sk-container-id-5 div.sk-serial::before {content: \"\";position: absolute;border-left: 1px solid gray;box-sizing: border-box;top: 0;bottom: 0;left: 50%;z-index: 0;}#sk-container-id-5 div.sk-serial {display: flex;flex-direction: column;align-items: center;background-color: white;padding-right: 0.2em;padding-left: 0.2em;position: relative;}#sk-container-id-5 div.sk-item {position: relative;z-index: 1;}#sk-container-id-5 div.sk-parallel {display: flex;align-items: stretch;justify-content: center;background-color: white;position: relative;}#sk-container-id-5 div.sk-item::before, #sk-container-id-5 div.sk-parallel-item::before {content: \"\";position: absolute;border-left: 1px solid gray;box-sizing: border-box;top: 0;bottom: 0;left: 50%;z-index: -1;}#sk-container-id-5 div.sk-parallel-item {display: flex;flex-direction: column;z-index: 1;position: relative;background-color: white;}#sk-container-id-5 div.sk-parallel-item:first-child::after {align-self: flex-end;width: 50%;}#sk-container-id-5 div.sk-parallel-item:last-child::after {align-self: flex-start;width: 50%;}#sk-container-id-5 div.sk-parallel-item:only-child::after {width: 0;}#sk-container-id-5 div.sk-dashed-wrapped {border: 1px dashed gray;margin: 0 0.4em 0.5em 0.4em;box-sizing: border-box;padding-bottom: 0.4em;background-color: white;}#sk-container-id-5 div.sk-label label {font-family: monospace;font-weight: bold;display: inline-block;line-height: 1.2em;}#sk-container-id-5 div.sk-label-container {text-align: center;}#sk-container-id-5 div.sk-container {/* jupyter's `normalize.less` sets `[hidden] { display: none; }` but bootstrap.min.css set `[hidden] { display: none !important; }` so we also need the `!important` here to be able to override the default hidden behavior on the sphinx rendered scikit-learn.org. See: https://github.com/scikit-learn/scikit-learn/issues/21755 */display: inline-block !important;position: relative;}#sk-container-id-5 div.sk-text-repr-fallback {display: none;}</style><div id=\"sk-container-id-5\" class=\"sk-top-container\"><div class=\"sk-text-repr-fallback\"><pre>XGBClassifier(base_score=None, booster=None, callbacks=None,\n",
       "              colsample_bylevel=None, colsample_bynode=None,\n",
       "              colsample_bytree=None, device=None, early_stopping_rounds=None,\n",
       "              enable_categorical=False, eval_metric=None, feature_types=None,\n",
       "              gamma=None, grow_policy=None, importance_type=None,\n",
       "              interaction_constraints=None, learning_rate=None, max_bin=None,\n",
       "              max_cat_threshold=None, max_cat_to_onehot=None,\n",
       "              max_delta_step=None, max_depth=None, max_leaves=None,\n",
       "              min_child_weight=None, missing=nan, monotone_constraints=None,\n",
       "              multi_strategy=None, n_estimators=None, n_jobs=None,\n",
       "              num_parallel_tree=None, random_state=None, ...)</pre><b>In a Jupyter environment, please rerun this cell to show the HTML representation or trust the notebook. <br />On GitHub, the HTML representation is unable to render, please try loading this page with nbviewer.org.</b></div><div class=\"sk-container\" hidden><div class=\"sk-item\"><div class=\"sk-estimator sk-toggleable\"><input class=\"sk-toggleable__control sk-hidden--visually\" id=\"sk-estimator-id-5\" type=\"checkbox\" checked><label for=\"sk-estimator-id-5\" class=\"sk-toggleable__label sk-toggleable__label-arrow\">XGBClassifier</label><div class=\"sk-toggleable__content\"><pre>XGBClassifier(base_score=None, booster=None, callbacks=None,\n",
       "              colsample_bylevel=None, colsample_bynode=None,\n",
       "              colsample_bytree=None, device=None, early_stopping_rounds=None,\n",
       "              enable_categorical=False, eval_metric=None, feature_types=None,\n",
       "              gamma=None, grow_policy=None, importance_type=None,\n",
       "              interaction_constraints=None, learning_rate=None, max_bin=None,\n",
       "              max_cat_threshold=None, max_cat_to_onehot=None,\n",
       "              max_delta_step=None, max_depth=None, max_leaves=None,\n",
       "              min_child_weight=None, missing=nan, monotone_constraints=None,\n",
       "              multi_strategy=None, n_estimators=None, n_jobs=None,\n",
       "              num_parallel_tree=None, random_state=None, ...)</pre></div></div></div></div></div>"
      ],
      "text/plain": [
       "XGBClassifier(base_score=None, booster=None, callbacks=None,\n",
       "              colsample_bylevel=None, colsample_bynode=None,\n",
       "              colsample_bytree=None, device=None, early_stopping_rounds=None,\n",
       "              enable_categorical=False, eval_metric=None, feature_types=None,\n",
       "              gamma=None, grow_policy=None, importance_type=None,\n",
       "              interaction_constraints=None, learning_rate=None, max_bin=None,\n",
       "              max_cat_threshold=None, max_cat_to_onehot=None,\n",
       "              max_delta_step=None, max_depth=None, max_leaves=None,\n",
       "              min_child_weight=None, missing=nan, monotone_constraints=None,\n",
       "              multi_strategy=None, n_estimators=None, n_jobs=None,\n",
       "              num_parallel_tree=None, random_state=None, ...)"
      ]
     },
     "execution_count": 46,
     "metadata": {},
     "output_type": "execute_result"
    }
   ],
   "source": [
    "xgb.fit(x_train,y_train)"
   ]
  },
  {
   "cell_type": "code",
   "execution_count": 47,
   "id": "d921c645",
   "metadata": {},
   "outputs": [],
   "source": [
    "xgb_p=xgb.predict(x_test)"
   ]
  },
  {
   "cell_type": "code",
   "execution_count": 48,
   "id": "ec8a43a2",
   "metadata": {},
   "outputs": [
    {
     "data": {
      "text/plain": [
       "array([[1512,   66],\n",
       "       [ 282,  143]], dtype=int64)"
      ]
     },
     "execution_count": 48,
     "metadata": {},
     "output_type": "execute_result"
    }
   ],
   "source": [
    "xgb_cf=confusion_matrix(y_test,xgb_p)\n",
    "xgb_cf"
   ]
  },
  {
   "cell_type": "code",
   "execution_count": 49,
   "id": "38c27be4",
   "metadata": {},
   "outputs": [
    {
     "data": {
      "text/plain": [
       "82.62606090863704"
      ]
     },
     "execution_count": 49,
     "metadata": {},
     "output_type": "execute_result"
    }
   ],
   "source": [
    "xgb_ac=xgb_cf.diagonal().sum()/xgb_cf.sum()*100\n",
    "xgb_ac"
   ]
  },
  {
   "cell_type": "code",
   "execution_count": 50,
   "id": "bb837520",
   "metadata": {},
   "outputs": [],
   "source": [
    "a4=f1_score(y_test,xgb_p)\n",
    "b4=precision_score(y_test,xgb_p)\n",
    "c4=recall_score(y_test,xgb_p)"
   ]
  },
  {
   "cell_type": "code",
   "execution_count": 51,
   "id": "9d34af97",
   "metadata": {},
   "outputs": [
    {
     "name": "stdout",
     "output_type": "stream",
     "text": [
      "              precision    recall  f1-score   support\n",
      "\n",
      "           0       0.84      0.96      0.90      1578\n",
      "           1       0.68      0.34      0.45       425\n",
      "\n",
      "    accuracy                           0.83      2003\n",
      "   macro avg       0.76      0.65      0.67      2003\n",
      "weighted avg       0.81      0.83      0.80      2003\n",
      "\n"
     ]
    }
   ],
   "source": [
    "print(classification_report(y_test,xgb_p))"
   ]
  },
  {
   "cell_type": "markdown",
   "id": "72f5bbeb",
   "metadata": {},
   "source": [
    "# SVM"
   ]
  },
  {
   "cell_type": "code",
   "execution_count": 52,
   "id": "d0e4a582",
   "metadata": {},
   "outputs": [],
   "source": [
    "from sklearn.svm import SVC\n",
    "svm=SVC()"
   ]
  },
  {
   "cell_type": "code",
   "execution_count": 53,
   "id": "7198ee4b",
   "metadata": {},
   "outputs": [
    {
     "data": {
      "text/html": [
       "<style>#sk-container-id-6 {color: black;background-color: white;}#sk-container-id-6 pre{padding: 0;}#sk-container-id-6 div.sk-toggleable {background-color: white;}#sk-container-id-6 label.sk-toggleable__label {cursor: pointer;display: block;width: 100%;margin-bottom: 0;padding: 0.3em;box-sizing: border-box;text-align: center;}#sk-container-id-6 label.sk-toggleable__label-arrow:before {content: \"▸\";float: left;margin-right: 0.25em;color: #696969;}#sk-container-id-6 label.sk-toggleable__label-arrow:hover:before {color: black;}#sk-container-id-6 div.sk-estimator:hover label.sk-toggleable__label-arrow:before {color: black;}#sk-container-id-6 div.sk-toggleable__content {max-height: 0;max-width: 0;overflow: hidden;text-align: left;background-color: #f0f8ff;}#sk-container-id-6 div.sk-toggleable__content pre {margin: 0.2em;color: black;border-radius: 0.25em;background-color: #f0f8ff;}#sk-container-id-6 input.sk-toggleable__control:checked~div.sk-toggleable__content {max-height: 200px;max-width: 100%;overflow: auto;}#sk-container-id-6 input.sk-toggleable__control:checked~label.sk-toggleable__label-arrow:before {content: \"▾\";}#sk-container-id-6 div.sk-estimator input.sk-toggleable__control:checked~label.sk-toggleable__label {background-color: #d4ebff;}#sk-container-id-6 div.sk-label input.sk-toggleable__control:checked~label.sk-toggleable__label {background-color: #d4ebff;}#sk-container-id-6 input.sk-hidden--visually {border: 0;clip: rect(1px 1px 1px 1px);clip: rect(1px, 1px, 1px, 1px);height: 1px;margin: -1px;overflow: hidden;padding: 0;position: absolute;width: 1px;}#sk-container-id-6 div.sk-estimator {font-family: monospace;background-color: #f0f8ff;border: 1px dotted black;border-radius: 0.25em;box-sizing: border-box;margin-bottom: 0.5em;}#sk-container-id-6 div.sk-estimator:hover {background-color: #d4ebff;}#sk-container-id-6 div.sk-parallel-item::after {content: \"\";width: 100%;border-bottom: 1px solid gray;flex-grow: 1;}#sk-container-id-6 div.sk-label:hover label.sk-toggleable__label {background-color: #d4ebff;}#sk-container-id-6 div.sk-serial::before {content: \"\";position: absolute;border-left: 1px solid gray;box-sizing: border-box;top: 0;bottom: 0;left: 50%;z-index: 0;}#sk-container-id-6 div.sk-serial {display: flex;flex-direction: column;align-items: center;background-color: white;padding-right: 0.2em;padding-left: 0.2em;position: relative;}#sk-container-id-6 div.sk-item {position: relative;z-index: 1;}#sk-container-id-6 div.sk-parallel {display: flex;align-items: stretch;justify-content: center;background-color: white;position: relative;}#sk-container-id-6 div.sk-item::before, #sk-container-id-6 div.sk-parallel-item::before {content: \"\";position: absolute;border-left: 1px solid gray;box-sizing: border-box;top: 0;bottom: 0;left: 50%;z-index: -1;}#sk-container-id-6 div.sk-parallel-item {display: flex;flex-direction: column;z-index: 1;position: relative;background-color: white;}#sk-container-id-6 div.sk-parallel-item:first-child::after {align-self: flex-end;width: 50%;}#sk-container-id-6 div.sk-parallel-item:last-child::after {align-self: flex-start;width: 50%;}#sk-container-id-6 div.sk-parallel-item:only-child::after {width: 0;}#sk-container-id-6 div.sk-dashed-wrapped {border: 1px dashed gray;margin: 0 0.4em 0.5em 0.4em;box-sizing: border-box;padding-bottom: 0.4em;background-color: white;}#sk-container-id-6 div.sk-label label {font-family: monospace;font-weight: bold;display: inline-block;line-height: 1.2em;}#sk-container-id-6 div.sk-label-container {text-align: center;}#sk-container-id-6 div.sk-container {/* jupyter's `normalize.less` sets `[hidden] { display: none; }` but bootstrap.min.css set `[hidden] { display: none !important; }` so we also need the `!important` here to be able to override the default hidden behavior on the sphinx rendered scikit-learn.org. See: https://github.com/scikit-learn/scikit-learn/issues/21755 */display: inline-block !important;position: relative;}#sk-container-id-6 div.sk-text-repr-fallback {display: none;}</style><div id=\"sk-container-id-6\" class=\"sk-top-container\"><div class=\"sk-text-repr-fallback\"><pre>SVC()</pre><b>In a Jupyter environment, please rerun this cell to show the HTML representation or trust the notebook. <br />On GitHub, the HTML representation is unable to render, please try loading this page with nbviewer.org.</b></div><div class=\"sk-container\" hidden><div class=\"sk-item\"><div class=\"sk-estimator sk-toggleable\"><input class=\"sk-toggleable__control sk-hidden--visually\" id=\"sk-estimator-id-6\" type=\"checkbox\" checked><label for=\"sk-estimator-id-6\" class=\"sk-toggleable__label sk-toggleable__label-arrow\">SVC</label><div class=\"sk-toggleable__content\"><pre>SVC()</pre></div></div></div></div></div>"
      ],
      "text/plain": [
       "SVC()"
      ]
     },
     "execution_count": 53,
     "metadata": {},
     "output_type": "execute_result"
    }
   ],
   "source": [
    "svm.fit(x_train,y_train)"
   ]
  },
  {
   "cell_type": "code",
   "execution_count": 54,
   "id": "692b1be0",
   "metadata": {},
   "outputs": [],
   "source": [
    "svm_p=svm.predict(x_test)"
   ]
  },
  {
   "cell_type": "code",
   "execution_count": 55,
   "id": "64fd9210",
   "metadata": {},
   "outputs": [
    {
     "data": {
      "text/plain": [
       "array([[1578,    0],\n",
       "       [ 425,    0]], dtype=int64)"
      ]
     },
     "execution_count": 55,
     "metadata": {},
     "output_type": "execute_result"
    }
   ],
   "source": [
    "svm_cf=confusion_matrix(y_test,svm_p)\n",
    "svm_cf"
   ]
  },
  {
   "cell_type": "code",
   "execution_count": 56,
   "id": "323f8016",
   "metadata": {},
   "outputs": [
    {
     "data": {
      "text/plain": [
       "78.78182725911134"
      ]
     },
     "execution_count": 56,
     "metadata": {},
     "output_type": "execute_result"
    }
   ],
   "source": [
    "svm_ac=svm_cf.diagonal().sum()/svm_cf.sum()*100\n",
    "svm_ac"
   ]
  },
  {
   "cell_type": "code",
   "execution_count": 57,
   "id": "a5f9fb58",
   "metadata": {},
   "outputs": [],
   "source": [
    "a5=f1_score(y_test,svm_p)\n",
    "b5=precision_score(y_test,svm_p)\n",
    "c5=recall_score(y_test,svm_p)"
   ]
  },
  {
   "cell_type": "code",
   "execution_count": 58,
   "id": "9c6d6bd5",
   "metadata": {},
   "outputs": [
    {
     "name": "stdout",
     "output_type": "stream",
     "text": [
      "              precision    recall  f1-score   support\n",
      "\n",
      "           0       0.79      1.00      0.88      1578\n",
      "           1       0.00      0.00      0.00       425\n",
      "\n",
      "    accuracy                           0.79      2003\n",
      "   macro avg       0.39      0.50      0.44      2003\n",
      "weighted avg       0.62      0.79      0.69      2003\n",
      "\n"
     ]
    }
   ],
   "source": [
    "print(classification_report(y_test,svm_p))"
   ]
  },
  {
   "cell_type": "markdown",
   "id": "6a57406c",
   "metadata": {},
   "source": [
    "# Naive Bayes"
   ]
  },
  {
   "cell_type": "code",
   "execution_count": 59,
   "id": "556d71b5",
   "metadata": {},
   "outputs": [],
   "source": [
    "from sklearn.naive_bayes import MultinomialNB\n",
    "nb=MultinomialNB()"
   ]
  },
  {
   "cell_type": "code",
   "execution_count": 60,
   "id": "6db6b5bc",
   "metadata": {},
   "outputs": [
    {
     "data": {
      "text/html": [
       "<style>#sk-container-id-7 {color: black;background-color: white;}#sk-container-id-7 pre{padding: 0;}#sk-container-id-7 div.sk-toggleable {background-color: white;}#sk-container-id-7 label.sk-toggleable__label {cursor: pointer;display: block;width: 100%;margin-bottom: 0;padding: 0.3em;box-sizing: border-box;text-align: center;}#sk-container-id-7 label.sk-toggleable__label-arrow:before {content: \"▸\";float: left;margin-right: 0.25em;color: #696969;}#sk-container-id-7 label.sk-toggleable__label-arrow:hover:before {color: black;}#sk-container-id-7 div.sk-estimator:hover label.sk-toggleable__label-arrow:before {color: black;}#sk-container-id-7 div.sk-toggleable__content {max-height: 0;max-width: 0;overflow: hidden;text-align: left;background-color: #f0f8ff;}#sk-container-id-7 div.sk-toggleable__content pre {margin: 0.2em;color: black;border-radius: 0.25em;background-color: #f0f8ff;}#sk-container-id-7 input.sk-toggleable__control:checked~div.sk-toggleable__content {max-height: 200px;max-width: 100%;overflow: auto;}#sk-container-id-7 input.sk-toggleable__control:checked~label.sk-toggleable__label-arrow:before {content: \"▾\";}#sk-container-id-7 div.sk-estimator input.sk-toggleable__control:checked~label.sk-toggleable__label {background-color: #d4ebff;}#sk-container-id-7 div.sk-label input.sk-toggleable__control:checked~label.sk-toggleable__label {background-color: #d4ebff;}#sk-container-id-7 input.sk-hidden--visually {border: 0;clip: rect(1px 1px 1px 1px);clip: rect(1px, 1px, 1px, 1px);height: 1px;margin: -1px;overflow: hidden;padding: 0;position: absolute;width: 1px;}#sk-container-id-7 div.sk-estimator {font-family: monospace;background-color: #f0f8ff;border: 1px dotted black;border-radius: 0.25em;box-sizing: border-box;margin-bottom: 0.5em;}#sk-container-id-7 div.sk-estimator:hover {background-color: #d4ebff;}#sk-container-id-7 div.sk-parallel-item::after {content: \"\";width: 100%;border-bottom: 1px solid gray;flex-grow: 1;}#sk-container-id-7 div.sk-label:hover label.sk-toggleable__label {background-color: #d4ebff;}#sk-container-id-7 div.sk-serial::before {content: \"\";position: absolute;border-left: 1px solid gray;box-sizing: border-box;top: 0;bottom: 0;left: 50%;z-index: 0;}#sk-container-id-7 div.sk-serial {display: flex;flex-direction: column;align-items: center;background-color: white;padding-right: 0.2em;padding-left: 0.2em;position: relative;}#sk-container-id-7 div.sk-item {position: relative;z-index: 1;}#sk-container-id-7 div.sk-parallel {display: flex;align-items: stretch;justify-content: center;background-color: white;position: relative;}#sk-container-id-7 div.sk-item::before, #sk-container-id-7 div.sk-parallel-item::before {content: \"\";position: absolute;border-left: 1px solid gray;box-sizing: border-box;top: 0;bottom: 0;left: 50%;z-index: -1;}#sk-container-id-7 div.sk-parallel-item {display: flex;flex-direction: column;z-index: 1;position: relative;background-color: white;}#sk-container-id-7 div.sk-parallel-item:first-child::after {align-self: flex-end;width: 50%;}#sk-container-id-7 div.sk-parallel-item:last-child::after {align-self: flex-start;width: 50%;}#sk-container-id-7 div.sk-parallel-item:only-child::after {width: 0;}#sk-container-id-7 div.sk-dashed-wrapped {border: 1px dashed gray;margin: 0 0.4em 0.5em 0.4em;box-sizing: border-box;padding-bottom: 0.4em;background-color: white;}#sk-container-id-7 div.sk-label label {font-family: monospace;font-weight: bold;display: inline-block;line-height: 1.2em;}#sk-container-id-7 div.sk-label-container {text-align: center;}#sk-container-id-7 div.sk-container {/* jupyter's `normalize.less` sets `[hidden] { display: none; }` but bootstrap.min.css set `[hidden] { display: none !important; }` so we also need the `!important` here to be able to override the default hidden behavior on the sphinx rendered scikit-learn.org. See: https://github.com/scikit-learn/scikit-learn/issues/21755 */display: inline-block !important;position: relative;}#sk-container-id-7 div.sk-text-repr-fallback {display: none;}</style><div id=\"sk-container-id-7\" class=\"sk-top-container\"><div class=\"sk-text-repr-fallback\"><pre>MultinomialNB()</pre><b>In a Jupyter environment, please rerun this cell to show the HTML representation or trust the notebook. <br />On GitHub, the HTML representation is unable to render, please try loading this page with nbviewer.org.</b></div><div class=\"sk-container\" hidden><div class=\"sk-item\"><div class=\"sk-estimator sk-toggleable\"><input class=\"sk-toggleable__control sk-hidden--visually\" id=\"sk-estimator-id-7\" type=\"checkbox\" checked><label for=\"sk-estimator-id-7\" class=\"sk-toggleable__label sk-toggleable__label-arrow\">MultinomialNB</label><div class=\"sk-toggleable__content\"><pre>MultinomialNB()</pre></div></div></div></div></div>"
      ],
      "text/plain": [
       "MultinomialNB()"
      ]
     },
     "execution_count": 60,
     "metadata": {},
     "output_type": "execute_result"
    }
   ],
   "source": [
    "nb.fit(x_train,y_train)"
   ]
  },
  {
   "cell_type": "code",
   "execution_count": 61,
   "id": "1ca77224",
   "metadata": {},
   "outputs": [
    {
     "data": {
      "text/plain": [
       "array([0, 1, 0, ..., 1, 0, 0], dtype=int64)"
      ]
     },
     "execution_count": 61,
     "metadata": {},
     "output_type": "execute_result"
    }
   ],
   "source": [
    "nb_p=nb.predict(x_test)\n",
    "nb_p"
   ]
  },
  {
   "cell_type": "code",
   "execution_count": 62,
   "id": "615c48f6",
   "metadata": {},
   "outputs": [
    {
     "data": {
      "text/plain": [
       "array([[851, 727],\n",
       "       [204, 221]], dtype=int64)"
      ]
     },
     "execution_count": 62,
     "metadata": {},
     "output_type": "execute_result"
    }
   ],
   "source": [
    "nb_cf=confusion_matrix(y_test,nb_p)\n",
    "nb_cf"
   ]
  },
  {
   "cell_type": "code",
   "execution_count": 63,
   "id": "a67ebe90",
   "metadata": {},
   "outputs": [
    {
     "data": {
      "text/plain": [
       "53.51972041937094"
      ]
     },
     "execution_count": 63,
     "metadata": {},
     "output_type": "execute_result"
    }
   ],
   "source": [
    "nb_ac=nb_cf.diagonal().sum()/nb_cf.sum()*100\n",
    "nb_ac"
   ]
  },
  {
   "cell_type": "code",
   "execution_count": 64,
   "id": "838e7992",
   "metadata": {},
   "outputs": [],
   "source": [
    "a6=f1_score(y_test,nb_p)\n",
    "b6=precision_score(y_test,nb_p)\n",
    "c6=recall_score(y_test,nb_p)"
   ]
  },
  {
   "cell_type": "code",
   "execution_count": 65,
   "id": "541b0c1d",
   "metadata": {},
   "outputs": [
    {
     "name": "stdout",
     "output_type": "stream",
     "text": [
      "              precision    recall  f1-score   support\n",
      "\n",
      "           0       0.81      0.54      0.65      1578\n",
      "           1       0.23      0.52      0.32       425\n",
      "\n",
      "    accuracy                           0.54      2003\n",
      "   macro avg       0.52      0.53      0.48      2003\n",
      "weighted avg       0.68      0.54      0.58      2003\n",
      "\n"
     ]
    }
   ],
   "source": [
    "print(classification_report(y_test,nb_p))"
   ]
  },
  {
   "cell_type": "code",
   "execution_count": 66,
   "id": "42b2fd2c",
   "metadata": {},
   "outputs": [],
   "source": [
    "algo=[\"Logistic Regression\",\"Decision Tree\",\"Random Forest\",\"KNN\",\"XGB\",\"SVM\",\"Naive Bayes\"]\n",
    "accuracy=[lg_ac,dt_ac,rf_ac,knn_ac,xgb_ac,svm_ac,nb_ac]\n",
    "f1=[a,a1,a2,a3,a4,a5,a6]\n",
    "precision=[b,b1,b2,b3,b4,b5,b6]\n",
    "recall=[c,c1,c2,c3,c4,c5,c6]"
   ]
  },
  {
   "cell_type": "code",
   "execution_count": 67,
   "id": "b279a6c8",
   "metadata": {},
   "outputs": [
    {
     "data": {
      "text/html": [
       "<div>\n",
       "<style scoped>\n",
       "    .dataframe tbody tr th:only-of-type {\n",
       "        vertical-align: middle;\n",
       "    }\n",
       "\n",
       "    .dataframe tbody tr th {\n",
       "        vertical-align: top;\n",
       "    }\n",
       "\n",
       "    .dataframe thead th {\n",
       "        text-align: right;\n",
       "    }\n",
       "</style>\n",
       "<table border=\"1\" class=\"dataframe\">\n",
       "  <thead>\n",
       "    <tr style=\"text-align: right;\">\n",
       "      <th></th>\n",
       "      <th>Algorithm</th>\n",
       "      <th>Accuracy</th>\n",
       "      <th>F1-score</th>\n",
       "      <th>Precision</th>\n",
       "      <th>Recall</th>\n",
       "    </tr>\n",
       "  </thead>\n",
       "  <tbody>\n",
       "    <tr>\n",
       "      <th>0</th>\n",
       "      <td>Logistic Regression</td>\n",
       "      <td>78.781827</td>\n",
       "      <td>0.000000</td>\n",
       "      <td>0.000000</td>\n",
       "      <td>0.000000</td>\n",
       "    </tr>\n",
       "    <tr>\n",
       "      <th>1</th>\n",
       "      <td>Decision Tree</td>\n",
       "      <td>76.035946</td>\n",
       "      <td>0.428571</td>\n",
       "      <td>0.433735</td>\n",
       "      <td>0.423529</td>\n",
       "    </tr>\n",
       "    <tr>\n",
       "      <th>2</th>\n",
       "      <td>Random Forest</td>\n",
       "      <td>83.574638</td>\n",
       "      <td>0.447059</td>\n",
       "      <td>0.782353</td>\n",
       "      <td>0.312941</td>\n",
       "    </tr>\n",
       "    <tr>\n",
       "      <th>3</th>\n",
       "      <td>KNN</td>\n",
       "      <td>74.088867</td>\n",
       "      <td>0.097391</td>\n",
       "      <td>0.186667</td>\n",
       "      <td>0.065882</td>\n",
       "    </tr>\n",
       "    <tr>\n",
       "      <th>4</th>\n",
       "      <td>XGB</td>\n",
       "      <td>82.626061</td>\n",
       "      <td>0.451104</td>\n",
       "      <td>0.684211</td>\n",
       "      <td>0.336471</td>\n",
       "    </tr>\n",
       "    <tr>\n",
       "      <th>5</th>\n",
       "      <td>SVM</td>\n",
       "      <td>78.781827</td>\n",
       "      <td>0.000000</td>\n",
       "      <td>0.000000</td>\n",
       "      <td>0.000000</td>\n",
       "    </tr>\n",
       "    <tr>\n",
       "      <th>6</th>\n",
       "      <td>Naive Bayes</td>\n",
       "      <td>53.519720</td>\n",
       "      <td>0.321923</td>\n",
       "      <td>0.233122</td>\n",
       "      <td>0.520000</td>\n",
       "    </tr>\n",
       "  </tbody>\n",
       "</table>\n",
       "</div>"
      ],
      "text/plain": [
       "             Algorithm   Accuracy  F1-score  Precision    Recall\n",
       "0  Logistic Regression  78.781827  0.000000   0.000000  0.000000\n",
       "1        Decision Tree  76.035946  0.428571   0.433735  0.423529\n",
       "2        Random Forest  83.574638  0.447059   0.782353  0.312941\n",
       "3                  KNN  74.088867  0.097391   0.186667  0.065882\n",
       "4                  XGB  82.626061  0.451104   0.684211  0.336471\n",
       "5                  SVM  78.781827  0.000000   0.000000  0.000000\n",
       "6          Naive Bayes  53.519720  0.321923   0.233122  0.520000"
      ]
     },
     "execution_count": 67,
     "metadata": {},
     "output_type": "execute_result"
    }
   ],
   "source": [
    "model1=pd.DataFrame({\"Algorithm\":algo,\"Accuracy\":accuracy,\"F1-score\":f1,\"Precision\":precision,\"Recall\":recall})\n",
    "model1"
   ]
  },
  {
   "cell_type": "markdown",
   "id": "3f32b44a",
   "metadata": {},
   "source": [
    "# Class Imbalanced"
   ]
  },
  {
   "cell_type": "markdown",
   "id": "e7ed0ee1",
   "metadata": {},
   "source": [
    "# Random Oversampling"
   ]
  },
  {
   "cell_type": "code",
   "execution_count": 68,
   "id": "25b085c5",
   "metadata": {},
   "outputs": [
    {
     "data": {
      "text/plain": [
       "0    7971\n",
       "1    2040\n",
       "Name: Computer Student, dtype: int64"
      ]
     },
     "execution_count": 68,
     "metadata": {},
     "output_type": "execute_result"
    }
   ],
   "source": [
    "stud[\"Computer Student\"].value_counts()\n"
   ]
  },
  {
   "cell_type": "code",
   "execution_count": 158,
   "id": "f864677a",
   "metadata": {},
   "outputs": [
    {
     "data": {
      "image/png": "[encoded data removed]",
      "text/plain": [
       "<Figure size 640x480 with 1 Axes>"
      ]
     },
     "metadata": {},
     "output_type": "display_data"
    }
   ],
   "source": [
    "sns.countplot(data=stud,y=\"Computer Student\")\n",
    "plt.show()"
   ]
  },
  {
   "cell_type": "code",
   "execution_count": 69,
   "id": "7e092091",
   "metadata": {},
   "outputs": [
    {
     "data": {
      "text/plain": [
       "(7971, 2040)"
      ]
     },
     "execution_count": 69,
     "metadata": {},
     "output_type": "execute_result"
    }
   ],
   "source": [
    "c_0,c_1=stud[\"Computer Student\"].value_counts()\n",
    "c_0,c_1"
   ]
  },
  {
   "cell_type": "code",
   "execution_count": 70,
   "id": "e3fe53b9",
   "metadata": {},
   "outputs": [
    {
     "data": {
      "text/plain": [
       "((7971, 11), (2040, 11))"
      ]
     },
     "execution_count": 70,
     "metadata": {},
     "output_type": "execute_result"
    }
   ],
   "source": [
    "train_0=stud[stud[\"Computer Student\"]==0]\n",
    "train_1=stud[stud[\"Computer Student\"]==1]\n",
    "train_0.shape,train_1.shape"
   ]
  },
  {
   "cell_type": "code",
   "execution_count": 71,
   "id": "9eec8e65",
   "metadata": {},
   "outputs": [
    {
     "data": {
      "text/plain": [
       "((7971, 11), (7971, 11))"
      ]
     },
     "execution_count": 71,
     "metadata": {},
     "output_type": "execute_result"
    }
   ],
   "source": [
    "class_1over=train_1.sample(c_0,replace=True)\n",
    "class_1over.head()\n",
    "class_1over.shape,train_0.shape"
   ]
  },
  {
   "cell_type": "code",
   "execution_count": 72,
   "id": "1e30108a",
   "metadata": {},
   "outputs": [
    {
     "data": {
      "text/plain": [
       "(15942, 11)"
      ]
     },
     "execution_count": 72,
     "metadata": {},
     "output_type": "execute_result"
    }
   ],
   "source": [
    "class1_0=pd.concat([class_1over,train_0],axis=0)\n",
    "class1_0.shape"
   ]
  },
  {
   "cell_type": "code",
   "execution_count": 73,
   "id": "a088fa11",
   "metadata": {},
   "outputs": [
    {
     "data": {
      "text/plain": [
       "1    7971\n",
       "0    7971\n",
       "Name: Computer Student, dtype: int64"
      ]
     },
     "execution_count": 73,
     "metadata": {},
     "output_type": "execute_result"
    }
   ],
   "source": [
    "class1_0[\"Computer Student\"].value_counts()"
   ]
  },
  {
   "cell_type": "code",
   "execution_count": 74,
   "id": "8fcf3b84",
   "metadata": {},
   "outputs": [
    {
     "data": {
      "text/html": [
       "<div>\n",
       "<style scoped>\n",
       "    .dataframe tbody tr th:only-of-type {\n",
       "        vertical-align: middle;\n",
       "    }\n",
       "\n",
       "    .dataframe tbody tr th {\n",
       "        vertical-align: top;\n",
       "    }\n",
       "\n",
       "    .dataframe thead th {\n",
       "        text-align: right;\n",
       "    }\n",
       "</style>\n",
       "<table border=\"1\" class=\"dataframe\">\n",
       "  <thead>\n",
       "    <tr style=\"text-align: right;\">\n",
       "      <th></th>\n",
       "      <th>Score</th>\n",
       "      <th>Country</th>\n",
       "      <th>Gender</th>\n",
       "      <th>Age</th>\n",
       "      <th>Year</th>\n",
       "      <th>Credit</th>\n",
       "      <th>NumOf Holiday</th>\n",
       "      <th>Id Card</th>\n",
       "      <th>Active Student</th>\n",
       "      <th>Estimated Credit</th>\n",
       "      <th>Computer Student</th>\n",
       "    </tr>\n",
       "  </thead>\n",
       "  <tbody>\n",
       "    <tr>\n",
       "      <th>2594</th>\n",
       "      <td>537</td>\n",
       "      <td>1</td>\n",
       "      <td>0</td>\n",
       "      <td>22</td>\n",
       "      <td>6</td>\n",
       "      <td>0.00</td>\n",
       "      <td>1</td>\n",
       "      <td>1</td>\n",
       "      <td>0</td>\n",
       "      <td>16259.64</td>\n",
       "      <td>1</td>\n",
       "    </tr>\n",
       "    <tr>\n",
       "      <th>7832</th>\n",
       "      <td>573</td>\n",
       "      <td>2</td>\n",
       "      <td>1</td>\n",
       "      <td>46</td>\n",
       "      <td>3</td>\n",
       "      <td>65269.23</td>\n",
       "      <td>1</td>\n",
       "      <td>0</td>\n",
       "      <td>1</td>\n",
       "      <td>189988.65</td>\n",
       "      <td>1</td>\n",
       "    </tr>\n",
       "  </tbody>\n",
       "</table>\n",
       "</div>"
      ],
      "text/plain": [
       "      Score  Country  Gender  Age  Year    Credit  NumOf Holiday  Id Card  \\\n",
       "2594    537        1       0   22     6      0.00              1        1   \n",
       "7832    573        2       1   46     3  65269.23              1        0   \n",
       "\n",
       "      Active Student  Estimated Credit  Computer Student  \n",
       "2594               0          16259.64                 1  \n",
       "7832               1         189988.65                 1  "
      ]
     },
     "execution_count": 74,
     "metadata": {},
     "output_type": "execute_result"
    }
   ],
   "source": [
    "class1_0.head(2)"
   ]
  },
  {
   "cell_type": "code",
   "execution_count": 75,
   "id": "5d25ad35",
   "metadata": {},
   "outputs": [],
   "source": [
    "x1=class1_0.iloc[:,0:-1]\n",
    "y1=class1_0.iloc[:,-1]"
   ]
  },
  {
   "cell_type": "code",
   "execution_count": 76,
   "id": "f663ddb7",
   "metadata": {},
   "outputs": [
    {
     "data": {
      "text/plain": [
       "((12753, 10), (3189, 10), (12753,), (3189,))"
      ]
     },
     "execution_count": 76,
     "metadata": {},
     "output_type": "execute_result"
    }
   ],
   "source": [
    "x_tr,x_te,y_tr,y_te=train_test_split(x1,y1,test_size=0.2,random_state=100)\n",
    "x_tr.shape,x_te.shape,y_tr.shape,y_te.shape"
   ]
  },
  {
   "cell_type": "markdown",
   "id": "df674b78",
   "metadata": {},
   "source": [
    "# Correlation"
   ]
  },
  {
   "cell_type": "code",
   "execution_count": 77,
   "id": "cc5daebb",
   "metadata": {},
   "outputs": [
    {
     "data": {
      "text/html": [
       "<div>\n",
       "<style scoped>\n",
       "    .dataframe tbody tr th:only-of-type {\n",
       "        vertical-align: middle;\n",
       "    }\n",
       "\n",
       "    .dataframe tbody tr th {\n",
       "        vertical-align: top;\n",
       "    }\n",
       "\n",
       "    .dataframe thead th {\n",
       "        text-align: right;\n",
       "    }\n",
       "</style>\n",
       "<table border=\"1\" class=\"dataframe\">\n",
       "  <thead>\n",
       "    <tr style=\"text-align: right;\">\n",
       "      <th></th>\n",
       "      <th>Score</th>\n",
       "      <th>Country</th>\n",
       "      <th>Gender</th>\n",
       "      <th>Age</th>\n",
       "      <th>Year</th>\n",
       "      <th>Credit</th>\n",
       "      <th>NumOf Holiday</th>\n",
       "      <th>Id Card</th>\n",
       "      <th>Active Student</th>\n",
       "      <th>Estimated Credit</th>\n",
       "      <th>Computer Student</th>\n",
       "    </tr>\n",
       "  </thead>\n",
       "  <tbody>\n",
       "    <tr>\n",
       "      <th>Score</th>\n",
       "      <td>1.000000</td>\n",
       "      <td>0.008113</td>\n",
       "      <td>-0.002505</td>\n",
       "      <td>0.001693</td>\n",
       "      <td>0.000168</td>\n",
       "      <td>-0.007410</td>\n",
       "      <td>0.012811</td>\n",
       "      <td>-0.005450</td>\n",
       "      <td>0.025100</td>\n",
       "      <td>-0.005631</td>\n",
       "      <td>-0.027101</td>\n",
       "    </tr>\n",
       "    <tr>\n",
       "      <th>Country</th>\n",
       "      <td>0.008113</td>\n",
       "      <td>1.000000</td>\n",
       "      <td>0.005013</td>\n",
       "      <td>0.002069</td>\n",
       "      <td>0.003360</td>\n",
       "      <td>0.048205</td>\n",
       "      <td>0.004060</td>\n",
       "      <td>-0.008292</td>\n",
       "      <td>0.006934</td>\n",
       "      <td>-0.000940</td>\n",
       "      <td>0.035663</td>\n",
       "    </tr>\n",
       "    <tr>\n",
       "      <th>Gender</th>\n",
       "      <td>-0.002505</td>\n",
       "      <td>0.005013</td>\n",
       "      <td>1.000000</td>\n",
       "      <td>-0.003082</td>\n",
       "      <td>0.014731</td>\n",
       "      <td>0.012099</td>\n",
       "      <td>-0.021765</td>\n",
       "      <td>0.006500</td>\n",
       "      <td>0.022253</td>\n",
       "      <td>-0.006470</td>\n",
       "      <td>-0.106905</td>\n",
       "    </tr>\n",
       "    <tr>\n",
       "      <th>Age</th>\n",
       "      <td>0.001693</td>\n",
       "      <td>0.002069</td>\n",
       "      <td>-0.003082</td>\n",
       "      <td>1.000000</td>\n",
       "      <td>-0.011155</td>\n",
       "      <td>0.012969</td>\n",
       "      <td>0.001660</td>\n",
       "      <td>-0.009897</td>\n",
       "      <td>0.024991</td>\n",
       "      <td>-0.010041</td>\n",
       "      <td>0.087337</td>\n",
       "    </tr>\n",
       "    <tr>\n",
       "      <th>Year</th>\n",
       "      <td>0.000168</td>\n",
       "      <td>0.003360</td>\n",
       "      <td>0.014731</td>\n",
       "      <td>-0.011155</td>\n",
       "      <td>1.000000</td>\n",
       "      <td>-0.002279</td>\n",
       "      <td>0.013144</td>\n",
       "      <td>0.022550</td>\n",
       "      <td>-0.027776</td>\n",
       "      <td>0.010739</td>\n",
       "      <td>-0.014002</td>\n",
       "    </tr>\n",
       "    <tr>\n",
       "      <th>Credit</th>\n",
       "      <td>-0.007410</td>\n",
       "      <td>0.048205</td>\n",
       "      <td>0.012099</td>\n",
       "      <td>0.012969</td>\n",
       "      <td>-0.002279</td>\n",
       "      <td>1.000000</td>\n",
       "      <td>-0.213824</td>\n",
       "      <td>-0.005889</td>\n",
       "      <td>-0.003042</td>\n",
       "      <td>0.013795</td>\n",
       "      <td>0.089333</td>\n",
       "    </tr>\n",
       "    <tr>\n",
       "      <th>NumOf Holiday</th>\n",
       "      <td>0.012811</td>\n",
       "      <td>0.004060</td>\n",
       "      <td>-0.021765</td>\n",
       "      <td>0.001660</td>\n",
       "      <td>0.013144</td>\n",
       "      <td>-0.213824</td>\n",
       "      <td>1.000000</td>\n",
       "      <td>0.003111</td>\n",
       "      <td>0.009547</td>\n",
       "      <td>0.010905</td>\n",
       "      <td>-0.047947</td>\n",
       "    </tr>\n",
       "    <tr>\n",
       "      <th>Id Card</th>\n",
       "      <td>-0.005450</td>\n",
       "      <td>-0.008292</td>\n",
       "      <td>0.006500</td>\n",
       "      <td>-0.009897</td>\n",
       "      <td>0.022550</td>\n",
       "      <td>-0.005889</td>\n",
       "      <td>0.003111</td>\n",
       "      <td>1.000000</td>\n",
       "      <td>-0.012185</td>\n",
       "      <td>-0.004112</td>\n",
       "      <td>-0.007331</td>\n",
       "    </tr>\n",
       "    <tr>\n",
       "      <th>Active Student</th>\n",
       "      <td>0.025100</td>\n",
       "      <td>0.006934</td>\n",
       "      <td>0.022253</td>\n",
       "      <td>0.024991</td>\n",
       "      <td>-0.027776</td>\n",
       "      <td>-0.003042</td>\n",
       "      <td>0.009547</td>\n",
       "      <td>-0.012185</td>\n",
       "      <td>1.000000</td>\n",
       "      <td>-0.006110</td>\n",
       "      <td>-0.155934</td>\n",
       "    </tr>\n",
       "    <tr>\n",
       "      <th>Estimated Credit</th>\n",
       "      <td>-0.005631</td>\n",
       "      <td>-0.000940</td>\n",
       "      <td>-0.006470</td>\n",
       "      <td>-0.010041</td>\n",
       "      <td>0.010739</td>\n",
       "      <td>0.013795</td>\n",
       "      <td>0.010905</td>\n",
       "      <td>-0.004112</td>\n",
       "      <td>-0.006110</td>\n",
       "      <td>1.000000</td>\n",
       "      <td>0.010826</td>\n",
       "    </tr>\n",
       "    <tr>\n",
       "      <th>Computer Student</th>\n",
       "      <td>-0.027101</td>\n",
       "      <td>0.035663</td>\n",
       "      <td>-0.106905</td>\n",
       "      <td>0.087337</td>\n",
       "      <td>-0.014002</td>\n",
       "      <td>0.089333</td>\n",
       "      <td>-0.047947</td>\n",
       "      <td>-0.007331</td>\n",
       "      <td>-0.155934</td>\n",
       "      <td>0.010826</td>\n",
       "      <td>1.000000</td>\n",
       "    </tr>\n",
       "  </tbody>\n",
       "</table>\n",
       "</div>"
      ],
      "text/plain": [
       "                     Score   Country    Gender       Age      Year    Credit  \\\n",
       "Score             1.000000  0.008113 -0.002505  0.001693  0.000168 -0.007410   \n",
       "Country           0.008113  1.000000  0.005013  0.002069  0.003360  0.048205   \n",
       "Gender           -0.002505  0.005013  1.000000 -0.003082  0.014731  0.012099   \n",
       "Age               0.001693  0.002069 -0.003082  1.000000 -0.011155  0.012969   \n",
       "Year              0.000168  0.003360  0.014731 -0.011155  1.000000 -0.002279   \n",
       "Credit           -0.007410  0.048205  0.012099  0.012969 -0.002279  1.000000   \n",
       "NumOf Holiday     0.012811  0.004060 -0.021765  0.001660  0.013144 -0.213824   \n",
       "Id Card          -0.005450 -0.008292  0.006500 -0.009897  0.022550 -0.005889   \n",
       "Active Student    0.025100  0.006934  0.022253  0.024991 -0.027776 -0.003042   \n",
       "Estimated Credit -0.005631 -0.000940 -0.006470 -0.010041  0.010739  0.013795   \n",
       "Computer Student -0.027101  0.035663 -0.106905  0.087337 -0.014002  0.089333   \n",
       "\n",
       "                  NumOf Holiday   Id Card  Active Student  Estimated Credit  \\\n",
       "Score                  0.012811 -0.005450        0.025100         -0.005631   \n",
       "Country                0.004060 -0.008292        0.006934         -0.000940   \n",
       "Gender                -0.021765  0.006500        0.022253         -0.006470   \n",
       "Age                    0.001660 -0.009897        0.024991         -0.010041   \n",
       "Year                   0.013144  0.022550       -0.027776          0.010739   \n",
       "Credit                -0.213824 -0.005889       -0.003042          0.013795   \n",
       "NumOf Holiday          1.000000  0.003111        0.009547          0.010905   \n",
       "Id Card                0.003111  1.000000       -0.012185         -0.004112   \n",
       "Active Student         0.009547 -0.012185        1.000000         -0.006110   \n",
       "Estimated Credit       0.010905 -0.004112       -0.006110          1.000000   \n",
       "Computer Student      -0.047947 -0.007331       -0.155934          0.010826   \n",
       "\n",
       "                  Computer Student  \n",
       "Score                    -0.027101  \n",
       "Country                   0.035663  \n",
       "Gender                   -0.106905  \n",
       "Age                       0.087337  \n",
       "Year                     -0.014002  \n",
       "Credit                    0.089333  \n",
       "NumOf Holiday            -0.047947  \n",
       "Id Card                  -0.007331  \n",
       "Active Student           -0.155934  \n",
       "Estimated Credit          0.010826  \n",
       "Computer Student          1.000000  "
      ]
     },
     "execution_count": 77,
     "metadata": {},
     "output_type": "execute_result"
    }
   ],
   "source": [
    "stud_cor=stud.corr()\n",
    "stud_cor"
   ]
  },
  {
   "cell_type": "code",
   "execution_count": 78,
   "id": "784439e5",
   "metadata": {},
   "outputs": [
    {
     "data": {
      "image/png": "[encoded data removed]",
      "text/plain": [
       "<Figure size 1000x900 with 2 Axes>"
      ]
     },
     "metadata": {},
     "output_type": "display_data"
    }
   ],
   "source": [
    "plt.figure(figsize=(10,9))\n",
    "heatmap=sns.heatmap(stud_cor,linewidth=2,annot=True,cmap=plt.cm.Blues)\n",
    "plt.title(\"Student Prediction\")\n",
    "plt.show()"
   ]
  },
  {
   "cell_type": "markdown",
   "id": "1c51e6cb",
   "metadata": {},
   "source": [
    "# Outlier Treatment"
   ]
  },
  {
   "cell_type": "code",
   "execution_count": 79,
   "id": "264e88b4",
   "metadata": {},
   "outputs": [
    {
     "data": {
      "text/plain": [
       "Score              -0.114297\n",
       "Country             0.426015\n",
       "Gender             -0.005803\n",
       "Age                 0.945596\n",
       "Year                0.037245\n",
       "Credit             -0.227361\n",
       "NumOf Holiday       1.284336\n",
       "Id Card            -0.888483\n",
       "Active Student      0.164772\n",
       "Estimated Credit   -0.044061\n",
       "dtype: float64"
      ]
     },
     "execution_count": 79,
     "metadata": {},
     "output_type": "execute_result"
    }
   ],
   "source": [
    "x_tr.skew()"
   ]
  },
  {
   "cell_type": "code",
   "execution_count": 80,
   "id": "09b6734d",
   "metadata": {
    "scrolled": true
   },
   "outputs": [
    {
     "data": {
      "image/png": "[encoded data removed]",
      "text/plain": [
       "<Figure size 2000x1200 with 1 Axes>"
      ]
     },
     "metadata": {},
     "output_type": "display_data"
    }
   ],
   "source": [
    "plt.figure(figsize=(20,12))\n",
    "sns.boxplot(data=class1_0)\n",
    "plt.show()"
   ]
  },
  {
   "cell_type": "code",
   "execution_count": 81,
   "id": "406b98e6",
   "metadata": {},
   "outputs": [
    {
     "data": {
      "text/plain": [
       "<Axes: ylabel='Score'>"
      ]
     },
     "execution_count": 81,
     "metadata": {},
     "output_type": "execute_result"
    },
    {
     "data": {
      "image/png": "[encoded data removed]",
      "text/plain": [
       "<Figure size 500x500 with 1 Axes>"
      ]
     },
     "metadata": {},
     "output_type": "display_data"
    }
   ],
   "source": [
    "fig=plt.figure(figsize=(5,5))\n",
    "sns.boxplot(data=class1_0,y=\"Score\")"
   ]
  },
  {
   "cell_type": "code",
   "execution_count": 82,
   "id": "388067c7",
   "metadata": {},
   "outputs": [
    {
     "name": "stdout",
     "output_type": "stream",
     "text": [
      "-0.0672022196752689\n",
      "--------------------\n",
      "1.0747866264981876\n",
      "--------------------\n"
     ]
    }
   ],
   "source": [
    "num_cols = ['Score', 'Age']\n",
    "for i in num_cols:\n",
    "  print(x_train[i].skew())\n",
    "  print(\"--------------------\")"
   ]
  },
  {
   "cell_type": "code",
   "execution_count": 83,
   "id": "8dee1481",
   "metadata": {},
   "outputs": [
    {
     "data": {
      "image/png": "[encoded data removed]",
      "text/plain": [
       "<Figure size 1800x400 with 2 Axes>"
      ]
     },
     "metadata": {},
     "output_type": "display_data"
    }
   ],
   "source": [
    "num_cols = ['Score', 'Age']\n",
    "fig, axes = plt.subplots(nrows=1, ncols=2, figsize=(18, 4))\n",
    "\n",
    "for i, col in enumerate(num_cols):\n",
    "    sns.boxplot(x=x_tr[col], ax=axes[i])\n",
    "    axes[i].set_title(f'Boxplot for {col}')\n",
    "\n",
    "plt.tight_layout()\n",
    "plt.show()"
   ]
  },
  {
   "cell_type": "code",
   "execution_count": 84,
   "id": "e55ad8f1",
   "metadata": {},
   "outputs": [
    {
     "name": "stdout",
     "output_type": "stream",
     "text": [
      "Standard Deviation of Score : 98.58984620028525\n",
      "Standard Deviation of Age : 12.85512401329622\n"
     ]
    }
   ],
   "source": [
    "import numpy as np\n",
    "\n",
    "num_cols = ['Score', 'Age']\n",
    "\n",
    "for i in num_cols:\n",
    "    std_deviation = np.std(x_tr[i])\n",
    "    print(\"Standard Deviation of\", i, \":\", std_deviation)"
   ]
  },
  {
   "cell_type": "code",
   "execution_count": 85,
   "id": "122a007d",
   "metadata": {},
   "outputs": [
    {
     "data": {
      "text/plain": [
       "<Axes: xlabel='Score', ylabel='Density'>"
      ]
     },
     "execution_count": 85,
     "metadata": {},
     "output_type": "execute_result"
    },
    {
     "data": {
      "image/png": "[encoded data removed]",
      "text/plain": [
       "<Figure size 640x480 with 1 Axes>"
      ]
     },
     "metadata": {},
     "output_type": "display_data"
    }
   ],
   "source": [
    "sns.distplot(stud.Score)"
   ]
  },
  {
   "cell_type": "code",
   "execution_count": 86,
   "id": "2de51a5e",
   "metadata": {},
   "outputs": [
    {
     "data": {
      "text/plain": [
       "<Axes: >"
      ]
     },
     "execution_count": 86,
     "metadata": {},
     "output_type": "execute_result"
    },
    {
     "data": {
      "image/png": "[encoded data removed]",
      "text/plain": [
       "<Figure size 640x480 with 1 Axes>"
      ]
     },
     "metadata": {},
     "output_type": "display_data"
    }
   ],
   "source": [
    "class1_0.Score.hist()"
   ]
  },
  {
   "cell_type": "code",
   "execution_count": 87,
   "id": "0ef9895f",
   "metadata": {},
   "outputs": [
    {
     "name": "stdout",
     "output_type": "stream",
     "text": [
      "942.4670233335407 353.3220871921148\n"
     ]
    }
   ],
   "source": [
    "ub1=class1_0.Score.mean()+3*class1_0.Score.std()\n",
    "lb1=class1_0.Score.mean()-3*class1_0.Score.std()\n",
    "print(ub1,lb1)"
   ]
  },
  {
   "cell_type": "code",
   "execution_count": 88,
   "id": "f69bad07",
   "metadata": {},
   "outputs": [],
   "source": [
    "class1_0.loc[class1_0[\"Score\"]<355.04,\"Score\"]=355.04"
   ]
  },
  {
   "cell_type": "code",
   "execution_count": 89,
   "id": "32ed0cdb",
   "metadata": {},
   "outputs": [
    {
     "data": {
      "text/plain": [
       "<Axes: xlabel='Score', ylabel='Density'>"
      ]
     },
     "execution_count": 89,
     "metadata": {},
     "output_type": "execute_result"
    },
    {
     "data": {
      "image/png": "[encoded data removed]",
      "text/plain": [
       "<Figure size 640x480 with 1 Axes>"
      ]
     },
     "metadata": {},
     "output_type": "display_data"
    }
   ],
   "source": [
    "sns.distplot(class1_0.Score) "
   ]
  },
  {
   "cell_type": "code",
   "execution_count": 90,
   "id": "f5b94ac8",
   "metadata": {},
   "outputs": [
    {
     "data": {
      "text/plain": [
       "<Axes: >"
      ]
     },
     "execution_count": 90,
     "metadata": {},
     "output_type": "execute_result"
    },
    {
     "data": {
      "image/png": "[encoded data removed]",
      "text/plain": [
       "<Figure size 640x480 with 1 Axes>"
      ]
     },
     "metadata": {},
     "output_type": "display_data"
    }
   ],
   "source": [
    "class1_0.Score.hist()"
   ]
  },
  {
   "cell_type": "code",
   "execution_count": 91,
   "id": "c9da62fd",
   "metadata": {},
   "outputs": [
    {
     "data": {
      "text/plain": [
       "<Axes: ylabel='Age'>"
      ]
     },
     "execution_count": 91,
     "metadata": {},
     "output_type": "execute_result"
    },
    {
     "data": {
      "image/png": "[encoded data removed]",
      "text/plain": [
       "<Figure size 500x500 with 1 Axes>"
      ]
     },
     "metadata": {},
     "output_type": "display_data"
    }
   ],
   "source": [
    "fig=plt.figure(figsize=(5,5))\n",
    "sns.boxplot(data=class1_0,y=\"Age\")"
   ]
  },
  {
   "cell_type": "code",
   "execution_count": 92,
   "id": "12e67ed0",
   "metadata": {},
   "outputs": [
    {
     "data": {
      "text/plain": [
       "<Axes: xlabel='Age', ylabel='Density'>"
      ]
     },
     "execution_count": 92,
     "metadata": {},
     "output_type": "execute_result"
    },
    {
     "data": {
      "image/png": "[encoded data removed]",
      "text/plain": [
       "<Figure size 640x480 with 1 Axes>"
      ]
     },
     "metadata": {},
     "output_type": "display_data"
    }
   ],
   "source": [
    "sns.distplot(class1_0.Age) "
   ]
  },
  {
   "cell_type": "code",
   "execution_count": 93,
   "id": "5d7e3b05",
   "metadata": {},
   "outputs": [
    {
     "data": {
      "text/plain": [
       "<Axes: >"
      ]
     },
     "execution_count": 93,
     "metadata": {},
     "output_type": "execute_result"
    },
    {
     "data": {
      "image/png": "[encoded data removed]",
      "text/plain": [
       "<Figure size 640x480 with 1 Axes>"
      ]
     },
     "metadata": {},
     "output_type": "display_data"
    }
   ],
   "source": [
    "class1_0.Age.hist()"
   ]
  },
  {
   "cell_type": "code",
   "execution_count": 94,
   "id": "22675fec",
   "metadata": {},
   "outputs": [
    {
     "data": {
      "image/png": "[encoded data removed]",
      "text/plain": [
       "<Figure size 1800x400 with 2 Axes>"
      ]
     },
     "metadata": {},
     "output_type": "display_data"
    }
   ],
   "source": [
    "num_cols = ['Score', 'Age']\n",
    "fig, axes = plt.subplots(nrows=1, ncols=2, figsize=(18, 4))\n",
    "\n",
    "for i, col in enumerate(num_cols):\n",
    "    sns.boxplot(x=x_tr[col], ax=axes[i])\n",
    "    axes[i].set_title(f'Boxplot for {col}')\n",
    "\n",
    "plt.tight_layout()\n",
    "plt.show()"
   ]
  },
  {
   "cell_type": "code",
   "execution_count": 95,
   "id": "588e796c",
   "metadata": {},
   "outputs": [
    {
     "data": {
      "text/plain": [
       "Score              -0.098838\n",
       "Country             0.442409\n",
       "Gender             -0.016562\n",
       "Age                 0.938367\n",
       "Year                0.036161\n",
       "Credit             -0.226322\n",
       "NumOf Holiday       1.285487\n",
       "Id Card            -0.887549\n",
       "Active Student      0.156051\n",
       "Estimated Credit   -0.035782\n",
       "Computer Student    0.000000\n",
       "dtype: float64"
      ]
     },
     "execution_count": 95,
     "metadata": {},
     "output_type": "execute_result"
    }
   ],
   "source": [
    "class1_0.skew()"
   ]
  },
  {
   "cell_type": "markdown",
   "id": "b59bdc3f",
   "metadata": {},
   "source": [
    "# Visualization"
   ]
  },
  {
   "cell_type": "code",
   "execution_count": 96,
   "id": "aac494a6",
   "metadata": {},
   "outputs": [
    {
     "data": {
      "image/png": "[encoded data removed]",
      "text/plain": [
       "<Figure size 1000x800 with 1 Axes>"
      ]
     },
     "metadata": {},
     "output_type": "display_data"
    }
   ],
   "source": [
    "import matplotlib.pyplot as plt\n",
    "\n",
    "labels = 'Computer Student', 'Retained'\n",
    "churned_count = stud['Computer Student'][stud['Computer Student'] == 1].count()\n",
    "retained_count = stud['Computer Student'][stud['Computer Student'] == 0].count()\n",
    "sizes = [churned_count, retained_count]\n",
    "explode = (0, 0.1)\n",
    "\n",
    "fig1, ax1 = plt.subplots(figsize=(10, 8))\n",
    "ax1.pie(sizes, explode=explode, labels=labels, autopct='%1.1f%%', shadow=True, startangle=80)\n",
    "ax1.axis('equal')\n",
    "plt.title(\"Student Record Prediction\", size=20)\n",
    "plt.show()\n"
   ]
  },
  {
   "cell_type": "markdown",
   "id": "dc1ba420",
   "metadata": {},
   "source": [
    "# Skewness"
   ]
  },
  {
   "cell_type": "code",
   "execution_count": 97,
   "id": "e8f7a45e",
   "metadata": {},
   "outputs": [
    {
     "name": "stdout",
     "output_type": "stream",
     "text": [
      "-0.11429653936131527\n",
      "--------------------\n",
      "0.945596328372221\n",
      "--------------------\n"
     ]
    }
   ],
   "source": [
    "num_cols = ['Score', 'Age']\n",
    "for i in num_cols:\n",
    "  print(x_tr[i].skew())\n",
    "  print(\"--------------------\")"
   ]
  },
  {
   "cell_type": "code",
   "execution_count": 98,
   "id": "c1d8bc72",
   "metadata": {},
   "outputs": [
    {
     "data": {
      "image/png": "[encoded data removed]",
      "text/plain": [
       "<Figure size 1800x400 with 2 Axes>"
      ]
     },
     "metadata": {},
     "output_type": "display_data"
    }
   ],
   "source": [
    "num = ['Score', 'Age']\n",
    "fig, axes = plt.subplots(nrows=1, ncols=2, figsize=(18, 4))\n",
    "j=0\n",
    "for i in num:\n",
    "  sns.kdeplot(x_tr[i],ax=axes[j])\n",
    "  j+=1\n",
    "plt.tight_layout()\n",
    "plt.show()"
   ]
  },
  {
   "cell_type": "code",
   "execution_count": 99,
   "id": "7a446b10",
   "metadata": {},
   "outputs": [
    {
     "data": {
      "text/plain": [
       "Score              -0.114297\n",
       "Country             0.426015\n",
       "Gender             -0.005803\n",
       "Age                 0.945596\n",
       "Year                0.037245\n",
       "Credit             -0.227361\n",
       "NumOf Holiday       1.284336\n",
       "Id Card            -0.888483\n",
       "Active Student      0.164772\n",
       "Estimated Credit   -0.044061\n",
       "dtype: float64"
      ]
     },
     "execution_count": 99,
     "metadata": {},
     "output_type": "execute_result"
    }
   ],
   "source": [
    "x_tr.skew()"
   ]
  },
  {
   "cell_type": "markdown",
   "id": "da39b521",
   "metadata": {},
   "source": [
    "# Logistic-Random Oversampling"
   ]
  },
  {
   "cell_type": "code",
   "execution_count": 100,
   "id": "cd2ca356",
   "metadata": {},
   "outputs": [],
   "source": [
    "from sklearn.linear_model import LogisticRegression\n",
    "lg=LogisticRegression()"
   ]
  },
  {
   "cell_type": "code",
   "execution_count": 101,
   "id": "4926e54b",
   "metadata": {},
   "outputs": [
    {
     "data": {
      "text/html": [
       "<style>#sk-container-id-8 {color: black;background-color: white;}#sk-container-id-8 pre{padding: 0;}#sk-container-id-8 div.sk-toggleable {background-color: white;}#sk-container-id-8 label.sk-toggleable__label {cursor: pointer;display: block;width: 100%;margin-bottom: 0;padding: 0.3em;box-sizing: border-box;text-align: center;}#sk-container-id-8 label.sk-toggleable__label-arrow:before {content: \"▸\";float: left;margin-right: 0.25em;color: #696969;}#sk-container-id-8 label.sk-toggleable__label-arrow:hover:before {color: black;}#sk-container-id-8 div.sk-estimator:hover label.sk-toggleable__label-arrow:before {color: black;}#sk-container-id-8 div.sk-toggleable__content {max-height: 0;max-width: 0;overflow: hidden;text-align: left;background-color: #f0f8ff;}#sk-container-id-8 div.sk-toggleable__content pre {margin: 0.2em;color: black;border-radius: 0.25em;background-color: #f0f8ff;}#sk-container-id-8 input.sk-toggleable__control:checked~div.sk-toggleable__content {max-height: 200px;max-width: 100%;overflow: auto;}#sk-container-id-8 input.sk-toggleable__control:checked~label.sk-toggleable__label-arrow:before {content: \"▾\";}#sk-container-id-8 div.sk-estimator input.sk-toggleable__control:checked~label.sk-toggleable__label {background-color: #d4ebff;}#sk-container-id-8 div.sk-label input.sk-toggleable__control:checked~label.sk-toggleable__label {background-color: #d4ebff;}#sk-container-id-8 input.sk-hidden--visually {border: 0;clip: rect(1px 1px 1px 1px);clip: rect(1px, 1px, 1px, 1px);height: 1px;margin: -1px;overflow: hidden;padding: 0;position: absolute;width: 1px;}#sk-container-id-8 div.sk-estimator {font-family: monospace;background-color: #f0f8ff;border: 1px dotted black;border-radius: 0.25em;box-sizing: border-box;margin-bottom: 0.5em;}#sk-container-id-8 div.sk-estimator:hover {background-color: #d4ebff;}#sk-container-id-8 div.sk-parallel-item::after {content: \"\";width: 100%;border-bottom: 1px solid gray;flex-grow: 1;}#sk-container-id-8 div.sk-label:hover label.sk-toggleable__label {background-color: #d4ebff;}#sk-container-id-8 div.sk-serial::before {content: \"\";position: absolute;border-left: 1px solid gray;box-sizing: border-box;top: 0;bottom: 0;left: 50%;z-index: 0;}#sk-container-id-8 div.sk-serial {display: flex;flex-direction: column;align-items: center;background-color: white;padding-right: 0.2em;padding-left: 0.2em;position: relative;}#sk-container-id-8 div.sk-item {position: relative;z-index: 1;}#sk-container-id-8 div.sk-parallel {display: flex;align-items: stretch;justify-content: center;background-color: white;position: relative;}#sk-container-id-8 div.sk-item::before, #sk-container-id-8 div.sk-parallel-item::before {content: \"\";position: absolute;border-left: 1px solid gray;box-sizing: border-box;top: 0;bottom: 0;left: 50%;z-index: -1;}#sk-container-id-8 div.sk-parallel-item {display: flex;flex-direction: column;z-index: 1;position: relative;background-color: white;}#sk-container-id-8 div.sk-parallel-item:first-child::after {align-self: flex-end;width: 50%;}#sk-container-id-8 div.sk-parallel-item:last-child::after {align-self: flex-start;width: 50%;}#sk-container-id-8 div.sk-parallel-item:only-child::after {width: 0;}#sk-container-id-8 div.sk-dashed-wrapped {border: 1px dashed gray;margin: 0 0.4em 0.5em 0.4em;box-sizing: border-box;padding-bottom: 0.4em;background-color: white;}#sk-container-id-8 div.sk-label label {font-family: monospace;font-weight: bold;display: inline-block;line-height: 1.2em;}#sk-container-id-8 div.sk-label-container {text-align: center;}#sk-container-id-8 div.sk-container {/* jupyter's `normalize.less` sets `[hidden] { display: none; }` but bootstrap.min.css set `[hidden] { display: none !important; }` so we also need the `!important` here to be able to override the default hidden behavior on the sphinx rendered scikit-learn.org. See: https://github.com/scikit-learn/scikit-learn/issues/21755 */display: inline-block !important;position: relative;}#sk-container-id-8 div.sk-text-repr-fallback {display: none;}</style><div id=\"sk-container-id-8\" class=\"sk-top-container\"><div class=\"sk-text-repr-fallback\"><pre>LogisticRegression()</pre><b>In a Jupyter environment, please rerun this cell to show the HTML representation or trust the notebook. <br />On GitHub, the HTML representation is unable to render, please try loading this page with nbviewer.org.</b></div><div class=\"sk-container\" hidden><div class=\"sk-item\"><div class=\"sk-estimator sk-toggleable\"><input class=\"sk-toggleable__control sk-hidden--visually\" id=\"sk-estimator-id-8\" type=\"checkbox\" checked><label for=\"sk-estimator-id-8\" class=\"sk-toggleable__label sk-toggleable__label-arrow\">LogisticRegression</label><div class=\"sk-toggleable__content\"><pre>LogisticRegression()</pre></div></div></div></div></div>"
      ],
      "text/plain": [
       "LogisticRegression()"
      ]
     },
     "execution_count": 101,
     "metadata": {},
     "output_type": "execute_result"
    }
   ],
   "source": [
    "lg.fit(x_tr,y_tr)"
   ]
  },
  {
   "cell_type": "code",
   "execution_count": 102,
   "id": "5fa4f9e5",
   "metadata": {},
   "outputs": [],
   "source": [
    "lg_p1=lg.predict(x_te)"
   ]
  },
  {
   "cell_type": "code",
   "execution_count": 103,
   "id": "8b012256",
   "metadata": {},
   "outputs": [
    {
     "data": {
      "text/plain": [
       "array([[765, 836],\n",
       "       [632, 956]], dtype=int64)"
      ]
     },
     "execution_count": 103,
     "metadata": {},
     "output_type": "execute_result"
    }
   ],
   "source": [
    "lg_cf1=confusion_matrix(y_te,lg_p1)\n",
    "lg_cf1"
   ]
  },
  {
   "cell_type": "code",
   "execution_count": 104,
   "id": "60d06552",
   "metadata": {},
   "outputs": [
    {
     "data": {
      "text/plain": [
       "53.96676074004391"
      ]
     },
     "execution_count": 104,
     "metadata": {},
     "output_type": "execute_result"
    }
   ],
   "source": [
    "lg_ac1=lg_cf1.diagonal().sum()/lg_cf1.sum()*100\n",
    "lg_ac1"
   ]
  },
  {
   "cell_type": "code",
   "execution_count": 105,
   "id": "47662334",
   "metadata": {},
   "outputs": [],
   "source": [
    "lg_re1=recall_score(y_te,lg_p1)"
   ]
  },
  {
   "cell_type": "code",
   "execution_count": 106,
   "id": "8fc1e58c",
   "metadata": {},
   "outputs": [],
   "source": [
    "lg_pr1=precision_score(y_te,lg_p1)"
   ]
  },
  {
   "cell_type": "code",
   "execution_count": 107,
   "id": "30abd4ca",
   "metadata": {},
   "outputs": [],
   "source": [
    "lg_f1=f1_score(y_te,lg_p1,average='weighted')"
   ]
  },
  {
   "cell_type": "code",
   "execution_count": 108,
   "id": "e9a52417",
   "metadata": {},
   "outputs": [
    {
     "name": "stdout",
     "output_type": "stream",
     "text": [
      "\n",
      "               precision    recall  f1-score   support\n",
      "\n",
      "           0       0.55      0.48      0.51      1601\n",
      "           1       0.53      0.60      0.57      1588\n",
      "\n",
      "    accuracy                           0.54      3189\n",
      "   macro avg       0.54      0.54      0.54      3189\n",
      "weighted avg       0.54      0.54      0.54      3189\n",
      "\n",
      "\n",
      "Confusion Matrix\n",
      "[[765 836]\n",
      " [632 956]]\n"
     ]
    }
   ],
   "source": [
    "print(\"\\n\",classification_report(y_te,lg_p1)) \n",
    "print(\"\\nConfusion Matrix\")\n",
    "print(lg_cf1)"
   ]
  },
  {
   "cell_type": "markdown",
   "id": "f8ff4f12",
   "metadata": {},
   "source": [
    "# DT-Random oversampling\n"
   ]
  },
  {
   "cell_type": "code",
   "execution_count": 109,
   "id": "cc2ce171",
   "metadata": {},
   "outputs": [],
   "source": [
    "from sklearn.tree import DecisionTreeClassifier\n",
    "dt=DecisionTreeClassifier()"
   ]
  },
  {
   "cell_type": "code",
   "execution_count": 110,
   "id": "207c387f",
   "metadata": {},
   "outputs": [
    {
     "data": {
      "text/html": [
       "<style>#sk-container-id-9 {color: black;background-color: white;}#sk-container-id-9 pre{padding: 0;}#sk-container-id-9 div.sk-toggleable {background-color: white;}#sk-container-id-9 label.sk-toggleable__label {cursor: pointer;display: block;width: 100%;margin-bottom: 0;padding: 0.3em;box-sizing: border-box;text-align: center;}#sk-container-id-9 label.sk-toggleable__label-arrow:before {content: \"▸\";float: left;margin-right: 0.25em;color: #696969;}#sk-container-id-9 label.sk-toggleable__label-arrow:hover:before {color: black;}#sk-container-id-9 div.sk-estimator:hover label.sk-toggleable__label-arrow:before {color: black;}#sk-container-id-9 div.sk-toggleable__content {max-height: 0;max-width: 0;overflow: hidden;text-align: left;background-color: #f0f8ff;}#sk-container-id-9 div.sk-toggleable__content pre {margin: 0.2em;color: black;border-radius: 0.25em;background-color: #f0f8ff;}#sk-container-id-9 input.sk-toggleable__control:checked~div.sk-toggleable__content {max-height: 200px;max-width: 100%;overflow: auto;}#sk-container-id-9 input.sk-toggleable__control:checked~label.sk-toggleable__label-arrow:before {content: \"▾\";}#sk-container-id-9 div.sk-estimator input.sk-toggleable__control:checked~label.sk-toggleable__label {background-color: #d4ebff;}#sk-container-id-9 div.sk-label input.sk-toggleable__control:checked~label.sk-toggleable__label {background-color: #d4ebff;}#sk-container-id-9 input.sk-hidden--visually {border: 0;clip: rect(1px 1px 1px 1px);clip: rect(1px, 1px, 1px, 1px);height: 1px;margin: -1px;overflow: hidden;padding: 0;position: absolute;width: 1px;}#sk-container-id-9 div.sk-estimator {font-family: monospace;background-color: #f0f8ff;border: 1px dotted black;border-radius: 0.25em;box-sizing: border-box;margin-bottom: 0.5em;}#sk-container-id-9 div.sk-estimator:hover {background-color: #d4ebff;}#sk-container-id-9 div.sk-parallel-item::after {content: \"\";width: 100%;border-bottom: 1px solid gray;flex-grow: 1;}#sk-container-id-9 div.sk-label:hover label.sk-toggleable__label {background-color: #d4ebff;}#sk-container-id-9 div.sk-serial::before {content: \"\";position: absolute;border-left: 1px solid gray;box-sizing: border-box;top: 0;bottom: 0;left: 50%;z-index: 0;}#sk-container-id-9 div.sk-serial {display: flex;flex-direction: column;align-items: center;background-color: white;padding-right: 0.2em;padding-left: 0.2em;position: relative;}#sk-container-id-9 div.sk-item {position: relative;z-index: 1;}#sk-container-id-9 div.sk-parallel {display: flex;align-items: stretch;justify-content: center;background-color: white;position: relative;}#sk-container-id-9 div.sk-item::before, #sk-container-id-9 div.sk-parallel-item::before {content: \"\";position: absolute;border-left: 1px solid gray;box-sizing: border-box;top: 0;bottom: 0;left: 50%;z-index: -1;}#sk-container-id-9 div.sk-parallel-item {display: flex;flex-direction: column;z-index: 1;position: relative;background-color: white;}#sk-container-id-9 div.sk-parallel-item:first-child::after {align-self: flex-end;width: 50%;}#sk-container-id-9 div.sk-parallel-item:last-child::after {align-self: flex-start;width: 50%;}#sk-container-id-9 div.sk-parallel-item:only-child::after {width: 0;}#sk-container-id-9 div.sk-dashed-wrapped {border: 1px dashed gray;margin: 0 0.4em 0.5em 0.4em;box-sizing: border-box;padding-bottom: 0.4em;background-color: white;}#sk-container-id-9 div.sk-label label {font-family: monospace;font-weight: bold;display: inline-block;line-height: 1.2em;}#sk-container-id-9 div.sk-label-container {text-align: center;}#sk-container-id-9 div.sk-container {/* jupyter's `normalize.less` sets `[hidden] { display: none; }` but bootstrap.min.css set `[hidden] { display: none !important; }` so we also need the `!important` here to be able to override the default hidden behavior on the sphinx rendered scikit-learn.org. See: https://github.com/scikit-learn/scikit-learn/issues/21755 */display: inline-block !important;position: relative;}#sk-container-id-9 div.sk-text-repr-fallback {display: none;}</style><div id=\"sk-container-id-9\" class=\"sk-top-container\"><div class=\"sk-text-repr-fallback\"><pre>DecisionTreeClassifier()</pre><b>In a Jupyter environment, please rerun this cell to show the HTML representation or trust the notebook. <br />On GitHub, the HTML representation is unable to render, please try loading this page with nbviewer.org.</b></div><div class=\"sk-container\" hidden><div class=\"sk-item\"><div class=\"sk-estimator sk-toggleable\"><input class=\"sk-toggleable__control sk-hidden--visually\" id=\"sk-estimator-id-9\" type=\"checkbox\" checked><label for=\"sk-estimator-id-9\" class=\"sk-toggleable__label sk-toggleable__label-arrow\">DecisionTreeClassifier</label><div class=\"sk-toggleable__content\"><pre>DecisionTreeClassifier()</pre></div></div></div></div></div>"
      ],
      "text/plain": [
       "DecisionTreeClassifier()"
      ]
     },
     "execution_count": 110,
     "metadata": {},
     "output_type": "execute_result"
    }
   ],
   "source": [
    "dt.fit(x_tr,y_tr)\n"
   ]
  },
  {
   "cell_type": "code",
   "execution_count": 111,
   "id": "dfc5e298",
   "metadata": {},
   "outputs": [],
   "source": [
    "dt_p1=dt.predict(x_te)"
   ]
  },
  {
   "cell_type": "code",
   "execution_count": 112,
   "id": "d1f9ced1",
   "metadata": {},
   "outputs": [
    {
     "data": {
      "text/plain": [
       "array([[1341,  260],\n",
       "       [  48, 1540]], dtype=int64)"
      ]
     },
     "execution_count": 112,
     "metadata": {},
     "output_type": "execute_result"
    }
   ],
   "source": [
    "dt_cf1=confusion_matrix(y_te,dt_p1)\n",
    "dt_cf1"
   ]
  },
  {
   "cell_type": "code",
   "execution_count": 113,
   "id": "94d920c0",
   "metadata": {},
   "outputs": [
    {
     "data": {
      "text/plain": [
       "90.34179993728442"
      ]
     },
     "execution_count": 113,
     "metadata": {},
     "output_type": "execute_result"
    }
   ],
   "source": [
    "dt_ac1=dt_cf1.diagonal().sum()/dt_cf1.sum()*100\n",
    "dt_ac1"
   ]
  },
  {
   "cell_type": "code",
   "execution_count": 114,
   "id": "0c54d2ae",
   "metadata": {},
   "outputs": [],
   "source": [
    "dt_re1=recall_score(y_te,dt_p1)"
   ]
  },
  {
   "cell_type": "code",
   "execution_count": 115,
   "id": "026c660b",
   "metadata": {},
   "outputs": [],
   "source": [
    "dt_pr1=precision_score(y_te,dt_p1)"
   ]
  },
  {
   "cell_type": "code",
   "execution_count": 116,
   "id": "13131583",
   "metadata": {},
   "outputs": [],
   "source": [
    "dt_f1=f1_score(y_te,dt_p1,average=\"weighted\")"
   ]
  },
  {
   "cell_type": "code",
   "execution_count": 117,
   "id": "0e1aa9f9",
   "metadata": {},
   "outputs": [
    {
     "name": "stdout",
     "output_type": "stream",
     "text": [
      "\n",
      "               precision    recall  f1-score   support\n",
      "\n",
      "           0       0.97      0.84      0.90      1601\n",
      "           1       0.86      0.97      0.91      1588\n",
      "\n",
      "    accuracy                           0.90      3189\n",
      "   macro avg       0.91      0.90      0.90      3189\n",
      "weighted avg       0.91      0.90      0.90      3189\n",
      "\n",
      "\n",
      "Confusion Matrix\n",
      "[[1341  260]\n",
      " [  48 1540]]\n"
     ]
    }
   ],
   "source": [
    "print(\"\\n\",classification_report(y_te,dt_p1))\n",
    "print(\"\\nConfusion Matrix\")\n",
    "print(dt_cf1)"
   ]
  },
  {
   "cell_type": "markdown",
   "id": "a618ba5f",
   "metadata": {},
   "source": [
    "# RF-Random oversampling"
   ]
  },
  {
   "cell_type": "code",
   "execution_count": 118,
   "id": "0aee0b3f",
   "metadata": {},
   "outputs": [],
   "source": [
    "from sklearn.ensemble import RandomForestClassifier\n",
    "rf1=RandomForestClassifier()"
   ]
  },
  {
   "cell_type": "code",
   "execution_count": 119,
   "id": "bdea21c7",
   "metadata": {},
   "outputs": [
    {
     "data": {
      "text/html": [
       "<style>#sk-container-id-10 {color: black;background-color: white;}#sk-container-id-10 pre{padding: 0;}#sk-container-id-10 div.sk-toggleable {background-color: white;}#sk-container-id-10 label.sk-toggleable__label {cursor: pointer;display: block;width: 100%;margin-bottom: 0;padding: 0.3em;box-sizing: border-box;text-align: center;}#sk-container-id-10 label.sk-toggleable__label-arrow:before {content: \"▸\";float: left;margin-right: 0.25em;color: #696969;}#sk-container-id-10 label.sk-toggleable__label-arrow:hover:before {color: black;}#sk-container-id-10 div.sk-estimator:hover label.sk-toggleable__label-arrow:before {color: black;}#sk-container-id-10 div.sk-toggleable__content {max-height: 0;max-width: 0;overflow: hidden;text-align: left;background-color: #f0f8ff;}#sk-container-id-10 div.sk-toggleable__content pre {margin: 0.2em;color: black;border-radius: 0.25em;background-color: #f0f8ff;}#sk-container-id-10 input.sk-toggleable__control:checked~div.sk-toggleable__content {max-height: 200px;max-width: 100%;overflow: auto;}#sk-container-id-10 input.sk-toggleable__control:checked~label.sk-toggleable__label-arrow:before {content: \"▾\";}#sk-container-id-10 div.sk-estimator input.sk-toggleable__control:checked~label.sk-toggleable__label {background-color: #d4ebff;}#sk-container-id-10 div.sk-label input.sk-toggleable__control:checked~label.sk-toggleable__label {background-color: #d4ebff;}#sk-container-id-10 input.sk-hidden--visually {border: 0;clip: rect(1px 1px 1px 1px);clip: rect(1px, 1px, 1px, 1px);height: 1px;margin: -1px;overflow: hidden;padding: 0;position: absolute;width: 1px;}#sk-container-id-10 div.sk-estimator {font-family: monospace;background-color: #f0f8ff;border: 1px dotted black;border-radius: 0.25em;box-sizing: border-box;margin-bottom: 0.5em;}#sk-container-id-10 div.sk-estimator:hover {background-color: #d4ebff;}#sk-container-id-10 div.sk-parallel-item::after {content: \"\";width: 100%;border-bottom: 1px solid gray;flex-grow: 1;}#sk-container-id-10 div.sk-label:hover label.sk-toggleable__label {background-color: #d4ebff;}#sk-container-id-10 div.sk-serial::before {content: \"\";position: absolute;border-left: 1px solid gray;box-sizing: border-box;top: 0;bottom: 0;left: 50%;z-index: 0;}#sk-container-id-10 div.sk-serial {display: flex;flex-direction: column;align-items: center;background-color: white;padding-right: 0.2em;padding-left: 0.2em;position: relative;}#sk-container-id-10 div.sk-item {position: relative;z-index: 1;}#sk-container-id-10 div.sk-parallel {display: flex;align-items: stretch;justify-content: center;background-color: white;position: relative;}#sk-container-id-10 div.sk-item::before, #sk-container-id-10 div.sk-parallel-item::before {content: \"\";position: absolute;border-left: 1px solid gray;box-sizing: border-box;top: 0;bottom: 0;left: 50%;z-index: -1;}#sk-container-id-10 div.sk-parallel-item {display: flex;flex-direction: column;z-index: 1;position: relative;background-color: white;}#sk-container-id-10 div.sk-parallel-item:first-child::after {align-self: flex-end;width: 50%;}#sk-container-id-10 div.sk-parallel-item:last-child::after {align-self: flex-start;width: 50%;}#sk-container-id-10 div.sk-parallel-item:only-child::after {width: 0;}#sk-container-id-10 div.sk-dashed-wrapped {border: 1px dashed gray;margin: 0 0.4em 0.5em 0.4em;box-sizing: border-box;padding-bottom: 0.4em;background-color: white;}#sk-container-id-10 div.sk-label label {font-family: monospace;font-weight: bold;display: inline-block;line-height: 1.2em;}#sk-container-id-10 div.sk-label-container {text-align: center;}#sk-container-id-10 div.sk-container {/* jupyter's `normalize.less` sets `[hidden] { display: none; }` but bootstrap.min.css set `[hidden] { display: none !important; }` so we also need the `!important` here to be able to override the default hidden behavior on the sphinx rendered scikit-learn.org. See: https://github.com/scikit-learn/scikit-learn/issues/21755 */display: inline-block !important;position: relative;}#sk-container-id-10 div.sk-text-repr-fallback {display: none;}</style><div id=\"sk-container-id-10\" class=\"sk-top-container\"><div class=\"sk-text-repr-fallback\"><pre>RandomForestClassifier()</pre><b>In a Jupyter environment, please rerun this cell to show the HTML representation or trust the notebook. <br />On GitHub, the HTML representation is unable to render, please try loading this page with nbviewer.org.</b></div><div class=\"sk-container\" hidden><div class=\"sk-item\"><div class=\"sk-estimator sk-toggleable\"><input class=\"sk-toggleable__control sk-hidden--visually\" id=\"sk-estimator-id-10\" type=\"checkbox\" checked><label for=\"sk-estimator-id-10\" class=\"sk-toggleable__label sk-toggleable__label-arrow\">RandomForestClassifier</label><div class=\"sk-toggleable__content\"><pre>RandomForestClassifier()</pre></div></div></div></div></div>"
      ],
      "text/plain": [
       "RandomForestClassifier()"
      ]
     },
     "execution_count": 119,
     "metadata": {},
     "output_type": "execute_result"
    }
   ],
   "source": [
    "rf1.fit(x_tr,y_tr)"
   ]
  },
  {
   "cell_type": "code",
   "execution_count": 120,
   "id": "96a419ed",
   "metadata": {},
   "outputs": [],
   "source": [
    "rf_p1=rf1.predict(x_te)"
   ]
  },
  {
   "cell_type": "code",
   "execution_count": 121,
   "id": "53c9fd46",
   "metadata": {},
   "outputs": [
    {
     "data": {
      "text/plain": [
       "array([[1476,  125],\n",
       "       [  38, 1550]], dtype=int64)"
      ]
     },
     "execution_count": 121,
     "metadata": {},
     "output_type": "execute_result"
    }
   ],
   "source": [
    "rf_cf1=confusion_matrix(y_te,rf_p1)\n",
    "rf_cf1"
   ]
  },
  {
   "cell_type": "code",
   "execution_count": 122,
   "id": "8241bc5d",
   "metadata": {},
   "outputs": [
    {
     "data": {
      "text/plain": [
       "83.5746380429356"
      ]
     },
     "execution_count": 122,
     "metadata": {},
     "output_type": "execute_result"
    }
   ],
   "source": [
    "rf_ac1=rf_cf1.diagonal().sum()/rf_cf1.sum()*100\n",
    "rf_ac"
   ]
  },
  {
   "cell_type": "code",
   "execution_count": 123,
   "id": "e1dd4244",
   "metadata": {},
   "outputs": [],
   "source": [
    "rf_re1=recall_score(y_te,rf_p1)\n",
    "rf_pr1=precision_score(y_te,rf_p1)\n",
    "rf_f1=f1_score(y_te,rf_p1,average=\"weighted\")"
   ]
  },
  {
   "cell_type": "code",
   "execution_count": 124,
   "id": "890d9a67",
   "metadata": {},
   "outputs": [
    {
     "name": "stdout",
     "output_type": "stream",
     "text": [
      "\n",
      "               precision    recall  f1-score   support\n",
      "\n",
      "           0       0.97      0.92      0.95      1601\n",
      "           1       0.93      0.98      0.95      1588\n",
      "\n",
      "    accuracy                           0.95      3189\n",
      "   macro avg       0.95      0.95      0.95      3189\n",
      "weighted avg       0.95      0.95      0.95      3189\n",
      "\n",
      "\n",
      "Confusion Matrix\n",
      "[[1476  125]\n",
      " [  38 1550]]\n"
     ]
    }
   ],
   "source": [
    "print(\"\\n\",classification_report(y_te,rf_p1))\n",
    "print(\"\\nConfusion Matrix\")\n",
    "print(rf_cf1)"
   ]
  },
  {
   "cell_type": "markdown",
   "id": "79e9c301",
   "metadata": {},
   "source": [
    "# KNN-Random oversampling"
   ]
  },
  {
   "cell_type": "code",
   "execution_count": 125,
   "id": "d5308350",
   "metadata": {},
   "outputs": [],
   "source": [
    "from sklearn.neighbors import KNeighborsClassifier\n",
    "knn=KNeighborsClassifier()"
   ]
  },
  {
   "cell_type": "code",
   "execution_count": 126,
   "id": "1c9af938",
   "metadata": {},
   "outputs": [
    {
     "data": {
      "text/html": [
       "<style>#sk-container-id-11 {color: black;background-color: white;}#sk-container-id-11 pre{padding: 0;}#sk-container-id-11 div.sk-toggleable {background-color: white;}#sk-container-id-11 label.sk-toggleable__label {cursor: pointer;display: block;width: 100%;margin-bottom: 0;padding: 0.3em;box-sizing: border-box;text-align: center;}#sk-container-id-11 label.sk-toggleable__label-arrow:before {content: \"▸\";float: left;margin-right: 0.25em;color: #696969;}#sk-container-id-11 label.sk-toggleable__label-arrow:hover:before {color: black;}#sk-container-id-11 div.sk-estimator:hover label.sk-toggleable__label-arrow:before {color: black;}#sk-container-id-11 div.sk-toggleable__content {max-height: 0;max-width: 0;overflow: hidden;text-align: left;background-color: #f0f8ff;}#sk-container-id-11 div.sk-toggleable__content pre {margin: 0.2em;color: black;border-radius: 0.25em;background-color: #f0f8ff;}#sk-container-id-11 input.sk-toggleable__control:checked~div.sk-toggleable__content {max-height: 200px;max-width: 100%;overflow: auto;}#sk-container-id-11 input.sk-toggleable__control:checked~label.sk-toggleable__label-arrow:before {content: \"▾\";}#sk-container-id-11 div.sk-estimator input.sk-toggleable__control:checked~label.sk-toggleable__label {background-color: #d4ebff;}#sk-container-id-11 div.sk-label input.sk-toggleable__control:checked~label.sk-toggleable__label {background-color: #d4ebff;}#sk-container-id-11 input.sk-hidden--visually {border: 0;clip: rect(1px 1px 1px 1px);clip: rect(1px, 1px, 1px, 1px);height: 1px;margin: -1px;overflow: hidden;padding: 0;position: absolute;width: 1px;}#sk-container-id-11 div.sk-estimator {font-family: monospace;background-color: #f0f8ff;border: 1px dotted black;border-radius: 0.25em;box-sizing: border-box;margin-bottom: 0.5em;}#sk-container-id-11 div.sk-estimator:hover {background-color: #d4ebff;}#sk-container-id-11 div.sk-parallel-item::after {content: \"\";width: 100%;border-bottom: 1px solid gray;flex-grow: 1;}#sk-container-id-11 div.sk-label:hover label.sk-toggleable__label {background-color: #d4ebff;}#sk-container-id-11 div.sk-serial::before {content: \"\";position: absolute;border-left: 1px solid gray;box-sizing: border-box;top: 0;bottom: 0;left: 50%;z-index: 0;}#sk-container-id-11 div.sk-serial {display: flex;flex-direction: column;align-items: center;background-color: white;padding-right: 0.2em;padding-left: 0.2em;position: relative;}#sk-container-id-11 div.sk-item {position: relative;z-index: 1;}#sk-container-id-11 div.sk-parallel {display: flex;align-items: stretch;justify-content: center;background-color: white;position: relative;}#sk-container-id-11 div.sk-item::before, #sk-container-id-11 div.sk-parallel-item::before {content: \"\";position: absolute;border-left: 1px solid gray;box-sizing: border-box;top: 0;bottom: 0;left: 50%;z-index: -1;}#sk-container-id-11 div.sk-parallel-item {display: flex;flex-direction: column;z-index: 1;position: relative;background-color: white;}#sk-container-id-11 div.sk-parallel-item:first-child::after {align-self: flex-end;width: 50%;}#sk-container-id-11 div.sk-parallel-item:last-child::after {align-self: flex-start;width: 50%;}#sk-container-id-11 div.sk-parallel-item:only-child::after {width: 0;}#sk-container-id-11 div.sk-dashed-wrapped {border: 1px dashed gray;margin: 0 0.4em 0.5em 0.4em;box-sizing: border-box;padding-bottom: 0.4em;background-color: white;}#sk-container-id-11 div.sk-label label {font-family: monospace;font-weight: bold;display: inline-block;line-height: 1.2em;}#sk-container-id-11 div.sk-label-container {text-align: center;}#sk-container-id-11 div.sk-container {/* jupyter's `normalize.less` sets `[hidden] { display: none; }` but bootstrap.min.css set `[hidden] { display: none !important; }` so we also need the `!important` here to be able to override the default hidden behavior on the sphinx rendered scikit-learn.org. See: https://github.com/scikit-learn/scikit-learn/issues/21755 */display: inline-block !important;position: relative;}#sk-container-id-11 div.sk-text-repr-fallback {display: none;}</style><div id=\"sk-container-id-11\" class=\"sk-top-container\"><div class=\"sk-text-repr-fallback\"><pre>KNeighborsClassifier()</pre><b>In a Jupyter environment, please rerun this cell to show the HTML representation or trust the notebook. <br />On GitHub, the HTML representation is unable to render, please try loading this page with nbviewer.org.</b></div><div class=\"sk-container\" hidden><div class=\"sk-item\"><div class=\"sk-estimator sk-toggleable\"><input class=\"sk-toggleable__control sk-hidden--visually\" id=\"sk-estimator-id-11\" type=\"checkbox\" checked><label for=\"sk-estimator-id-11\" class=\"sk-toggleable__label sk-toggleable__label-arrow\">KNeighborsClassifier</label><div class=\"sk-toggleable__content\"><pre>KNeighborsClassifier()</pre></div></div></div></div></div>"
      ],
      "text/plain": [
       "KNeighborsClassifier()"
      ]
     },
     "execution_count": 126,
     "metadata": {},
     "output_type": "execute_result"
    }
   ],
   "source": [
    "knn.fit(x_tr,y_tr)"
   ]
  },
  {
   "cell_type": "code",
   "execution_count": 127,
   "id": "37bf3957",
   "metadata": {},
   "outputs": [],
   "source": [
    "knn_p1=knn.predict(x_te)"
   ]
  },
  {
   "cell_type": "code",
   "execution_count": 128,
   "id": "cc0928a7",
   "metadata": {},
   "outputs": [
    {
     "data": {
      "text/plain": [
       "array([[ 916,  685],\n",
       "       [ 267, 1321]], dtype=int64)"
      ]
     },
     "execution_count": 128,
     "metadata": {},
     "output_type": "execute_result"
    }
   ],
   "source": [
    "knn_cf1=confusion_matrix(y_te,knn_p1)\n",
    "knn_cf1"
   ]
  },
  {
   "cell_type": "code",
   "execution_count": 129,
   "id": "ee1e0e51",
   "metadata": {},
   "outputs": [
    {
     "data": {
      "text/plain": [
       "70.14738162433365"
      ]
     },
     "execution_count": 129,
     "metadata": {},
     "output_type": "execute_result"
    }
   ],
   "source": [
    "knn_ac1=knn_cf1.diagonal().sum()/knn_cf1.sum()*100\n",
    "knn_ac1"
   ]
  },
  {
   "cell_type": "code",
   "execution_count": 130,
   "id": "22204707",
   "metadata": {},
   "outputs": [],
   "source": [
    "knn_re1=recall_score(y_te,knn_p1)\n",
    "knn_pr1=precision_score(y_te,knn_p1)\n",
    "knn_f1=f1_score(y_te,knn_p1,average=\"weighted\")"
   ]
  },
  {
   "cell_type": "code",
   "execution_count": 131,
   "id": "4500ae7c",
   "metadata": {},
   "outputs": [
    {
     "name": "stdout",
     "output_type": "stream",
     "text": [
      "\n",
      "               precision    recall  f1-score   support\n",
      "\n",
      "           0       0.77      0.57      0.66      1601\n",
      "           1       0.66      0.83      0.74      1588\n",
      "\n",
      "    accuracy                           0.70      3189\n",
      "   macro avg       0.72      0.70      0.70      3189\n",
      "weighted avg       0.72      0.70      0.70      3189\n",
      "\n",
      "\n",
      "Confusion Matrix\n",
      "[[ 916  685]\n",
      " [ 267 1321]]\n"
     ]
    }
   ],
   "source": [
    "print(\"\\n\",classification_report(y_te,knn_p1)) \n",
    "print(\"\\nConfusion Matrix\")\n",
    "print(knn_cf1)"
   ]
  },
  {
   "cell_type": "markdown",
   "id": "ee1c8927",
   "metadata": {},
   "source": [
    "# XGB-Random oversampling"
   ]
  },
  {
   "cell_type": "code",
   "execution_count": 132,
   "id": "1cb186b9",
   "metadata": {},
   "outputs": [],
   "source": [
    "import xgboost\n",
    "from xgboost import XGBClassifier\n",
    "xgb=XGBClassifier()"
   ]
  },
  {
   "cell_type": "code",
   "execution_count": 133,
   "id": "95f9e0c6",
   "metadata": {},
   "outputs": [
    {
     "data": {
      "text/html": [
       "<style>#sk-container-id-12 {color: black;background-color: white;}#sk-container-id-12 pre{padding: 0;}#sk-container-id-12 div.sk-toggleable {background-color: white;}#sk-container-id-12 label.sk-toggleable__label {cursor: pointer;display: block;width: 100%;margin-bottom: 0;padding: 0.3em;box-sizing: border-box;text-align: center;}#sk-container-id-12 label.sk-toggleable__label-arrow:before {content: \"▸\";float: left;margin-right: 0.25em;color: #696969;}#sk-container-id-12 label.sk-toggleable__label-arrow:hover:before {color: black;}#sk-container-id-12 div.sk-estimator:hover label.sk-toggleable__label-arrow:before {color: black;}#sk-container-id-12 div.sk-toggleable__content {max-height: 0;max-width: 0;overflow: hidden;text-align: left;background-color: #f0f8ff;}#sk-container-id-12 div.sk-toggleable__content pre {margin: 0.2em;color: black;border-radius: 0.25em;background-color: #f0f8ff;}#sk-container-id-12 input.sk-toggleable__control:checked~div.sk-toggleable__content {max-height: 200px;max-width: 100%;overflow: auto;}#sk-container-id-12 input.sk-toggleable__control:checked~label.sk-toggleable__label-arrow:before {content: \"▾\";}#sk-container-id-12 div.sk-estimator input.sk-toggleable__control:checked~label.sk-toggleable__label {background-color: #d4ebff;}#sk-container-id-12 div.sk-label input.sk-toggleable__control:checked~label.sk-toggleable__label {background-color: #d4ebff;}#sk-container-id-12 input.sk-hidden--visually {border: 0;clip: rect(1px 1px 1px 1px);clip: rect(1px, 1px, 1px, 1px);height: 1px;margin: -1px;overflow: hidden;padding: 0;position: absolute;width: 1px;}#sk-container-id-12 div.sk-estimator {font-family: monospace;background-color: #f0f8ff;border: 1px dotted black;border-radius: 0.25em;box-sizing: border-box;margin-bottom: 0.5em;}#sk-container-id-12 div.sk-estimator:hover {background-color: #d4ebff;}#sk-container-id-12 div.sk-parallel-item::after {content: \"\";width: 100%;border-bottom: 1px solid gray;flex-grow: 1;}#sk-container-id-12 div.sk-label:hover label.sk-toggleable__label {background-color: #d4ebff;}#sk-container-id-12 div.sk-serial::before {content: \"\";position: absolute;border-left: 1px solid gray;box-sizing: border-box;top: 0;bottom: 0;left: 50%;z-index: 0;}#sk-container-id-12 div.sk-serial {display: flex;flex-direction: column;align-items: center;background-color: white;padding-right: 0.2em;padding-left: 0.2em;position: relative;}#sk-container-id-12 div.sk-item {position: relative;z-index: 1;}#sk-container-id-12 div.sk-parallel {display: flex;align-items: stretch;justify-content: center;background-color: white;position: relative;}#sk-container-id-12 div.sk-item::before, #sk-container-id-12 div.sk-parallel-item::before {content: \"\";position: absolute;border-left: 1px solid gray;box-sizing: border-box;top: 0;bottom: 0;left: 50%;z-index: -1;}#sk-container-id-12 div.sk-parallel-item {display: flex;flex-direction: column;z-index: 1;position: relative;background-color: white;}#sk-container-id-12 div.sk-parallel-item:first-child::after {align-self: flex-end;width: 50%;}#sk-container-id-12 div.sk-parallel-item:last-child::after {align-self: flex-start;width: 50%;}#sk-container-id-12 div.sk-parallel-item:only-child::after {width: 0;}#sk-container-id-12 div.sk-dashed-wrapped {border: 1px dashed gray;margin: 0 0.4em 0.5em 0.4em;box-sizing: border-box;padding-bottom: 0.4em;background-color: white;}#sk-container-id-12 div.sk-label label {font-family: monospace;font-weight: bold;display: inline-block;line-height: 1.2em;}#sk-container-id-12 div.sk-label-container {text-align: center;}#sk-container-id-12 div.sk-container {/* jupyter's `normalize.less` sets `[hidden] { display: none; }` but bootstrap.min.css set `[hidden] { display: none !important; }` so we also need the `!important` here to be able to override the default hidden behavior on the sphinx rendered scikit-learn.org. See: https://github.com/scikit-learn/scikit-learn/issues/21755 */display: inline-block !important;position: relative;}#sk-container-id-12 div.sk-text-repr-fallback {display: none;}</style><div id=\"sk-container-id-12\" class=\"sk-top-container\"><div class=\"sk-text-repr-fallback\"><pre>XGBClassifier(base_score=None, booster=None, callbacks=None,\n",
       "              colsample_bylevel=None, colsample_bynode=None,\n",
       "              colsample_bytree=None, device=None, early_stopping_rounds=None,\n",
       "              enable_categorical=False, eval_metric=None, feature_types=None,\n",
       "              gamma=None, grow_policy=None, importance_type=None,\n",
       "              interaction_constraints=None, learning_rate=None, max_bin=None,\n",
       "              max_cat_threshold=None, max_cat_to_onehot=None,\n",
       "              max_delta_step=None, max_depth=None, max_leaves=None,\n",
       "              min_child_weight=None, missing=nan, monotone_constraints=None,\n",
       "              multi_strategy=None, n_estimators=None, n_jobs=None,\n",
       "              num_parallel_tree=None, random_state=None, ...)</pre><b>In a Jupyter environment, please rerun this cell to show the HTML representation or trust the notebook. <br />On GitHub, the HTML representation is unable to render, please try loading this page with nbviewer.org.</b></div><div class=\"sk-container\" hidden><div class=\"sk-item\"><div class=\"sk-estimator sk-toggleable\"><input class=\"sk-toggleable__control sk-hidden--visually\" id=\"sk-estimator-id-12\" type=\"checkbox\" checked><label for=\"sk-estimator-id-12\" class=\"sk-toggleable__label sk-toggleable__label-arrow\">XGBClassifier</label><div class=\"sk-toggleable__content\"><pre>XGBClassifier(base_score=None, booster=None, callbacks=None,\n",
       "              colsample_bylevel=None, colsample_bynode=None,\n",
       "              colsample_bytree=None, device=None, early_stopping_rounds=None,\n",
       "              enable_categorical=False, eval_metric=None, feature_types=None,\n",
       "              gamma=None, grow_policy=None, importance_type=None,\n",
       "              interaction_constraints=None, learning_rate=None, max_bin=None,\n",
       "              max_cat_threshold=None, max_cat_to_onehot=None,\n",
       "              max_delta_step=None, max_depth=None, max_leaves=None,\n",
       "              min_child_weight=None, missing=nan, monotone_constraints=None,\n",
       "              multi_strategy=None, n_estimators=None, n_jobs=None,\n",
       "              num_parallel_tree=None, random_state=None, ...)</pre></div></div></div></div></div>"
      ],
      "text/plain": [
       "XGBClassifier(base_score=None, booster=None, callbacks=None,\n",
       "              colsample_bylevel=None, colsample_bynode=None,\n",
       "              colsample_bytree=None, device=None, early_stopping_rounds=None,\n",
       "              enable_categorical=False, eval_metric=None, feature_types=None,\n",
       "              gamma=None, grow_policy=None, importance_type=None,\n",
       "              interaction_constraints=None, learning_rate=None, max_bin=None,\n",
       "              max_cat_threshold=None, max_cat_to_onehot=None,\n",
       "              max_delta_step=None, max_depth=None, max_leaves=None,\n",
       "              min_child_weight=None, missing=nan, monotone_constraints=None,\n",
       "              multi_strategy=None, n_estimators=None, n_jobs=None,\n",
       "              num_parallel_tree=None, random_state=None, ...)"
      ]
     },
     "execution_count": 133,
     "metadata": {},
     "output_type": "execute_result"
    }
   ],
   "source": [
    "xgb.fit(x_tr,y_tr)"
   ]
  },
  {
   "cell_type": "code",
   "execution_count": 134,
   "id": "489e6722",
   "metadata": {},
   "outputs": [],
   "source": [
    "xgb_p1=xgb.predict(x_te)\n"
   ]
  },
  {
   "cell_type": "code",
   "execution_count": 135,
   "id": "31809cb3",
   "metadata": {},
   "outputs": [
    {
     "data": {
      "text/plain": [
       "array([[1356,  245],\n",
       "       [ 140, 1448]], dtype=int64)"
      ]
     },
     "execution_count": 135,
     "metadata": {},
     "output_type": "execute_result"
    }
   ],
   "source": [
    "xgb_cf1=confusion_matrix(y_te,xgb_p1)\n",
    "xgb_cf1"
   ]
  },
  {
   "cell_type": "code",
   "execution_count": 136,
   "id": "af9159d2",
   "metadata": {},
   "outputs": [
    {
     "data": {
      "text/plain": [
       "87.92724992160552"
      ]
     },
     "execution_count": 136,
     "metadata": {},
     "output_type": "execute_result"
    }
   ],
   "source": [
    "xgb_ac1=xgb_cf1.diagonal().sum()/xgb_cf1.sum()*100\n",
    "xgb_ac1"
   ]
  },
  {
   "cell_type": "code",
   "execution_count": 154,
   "id": "a049fea3",
   "metadata": {},
   "outputs": [],
   "source": [
    "xgb_re1=recall_score(y_te,xgb_p1)\n",
    "xgb_pr1=precision_score(y_te,xgb_p1)\n",
    "xgb_f1=f1_score(y_te,xgb_p1,average=\"weighted\")"
   ]
  },
  {
   "cell_type": "code",
   "execution_count": 155,
   "id": "ecbbdd6f",
   "metadata": {},
   "outputs": [
    {
     "name": "stdout",
     "output_type": "stream",
     "text": [
      "\n",
      "               precision    recall  f1-score   support\n",
      "\n",
      "           0       0.91      0.85      0.88      1601\n",
      "           1       0.86      0.91      0.88      1588\n",
      "\n",
      "    accuracy                           0.88      3189\n",
      "   macro avg       0.88      0.88      0.88      3189\n",
      "weighted avg       0.88      0.88      0.88      3189\n",
      "\n",
      "\n",
      "Confusion Matrix\n",
      "[[1356  245]\n",
      " [ 140 1448]]\n"
     ]
    }
   ],
   "source": [
    "print(\"\\n\",classification_report(y_te,xgb_p1)) \n",
    "print(\"\\nConfusion Matrix\")\n",
    "print(xgb_cf1)"
   ]
  },
  {
   "cell_type": "markdown",
   "id": "fc3f974f",
   "metadata": {},
   "source": [
    "# SVM-Random oversampling"
   ]
  },
  {
   "cell_type": "code",
   "execution_count": 139,
   "id": "07157475",
   "metadata": {},
   "outputs": [],
   "source": [
    "from sklearn.svm import SVC\n",
    "svm=SVC()"
   ]
  },
  {
   "cell_type": "code",
   "execution_count": 140,
   "id": "d1477d40",
   "metadata": {},
   "outputs": [
    {
     "data": {
      "text/html": [
       "<style>#sk-container-id-13 {color: black;background-color: white;}#sk-container-id-13 pre{padding: 0;}#sk-container-id-13 div.sk-toggleable {background-color: white;}#sk-container-id-13 label.sk-toggleable__label {cursor: pointer;display: block;width: 100%;margin-bottom: 0;padding: 0.3em;box-sizing: border-box;text-align: center;}#sk-container-id-13 label.sk-toggleable__label-arrow:before {content: \"▸\";float: left;margin-right: 0.25em;color: #696969;}#sk-container-id-13 label.sk-toggleable__label-arrow:hover:before {color: black;}#sk-container-id-13 div.sk-estimator:hover label.sk-toggleable__label-arrow:before {color: black;}#sk-container-id-13 div.sk-toggleable__content {max-height: 0;max-width: 0;overflow: hidden;text-align: left;background-color: #f0f8ff;}#sk-container-id-13 div.sk-toggleable__content pre {margin: 0.2em;color: black;border-radius: 0.25em;background-color: #f0f8ff;}#sk-container-id-13 input.sk-toggleable__control:checked~div.sk-toggleable__content {max-height: 200px;max-width: 100%;overflow: auto;}#sk-container-id-13 input.sk-toggleable__control:checked~label.sk-toggleable__label-arrow:before {content: \"▾\";}#sk-container-id-13 div.sk-estimator input.sk-toggleable__control:checked~label.sk-toggleable__label {background-color: #d4ebff;}#sk-container-id-13 div.sk-label input.sk-toggleable__control:checked~label.sk-toggleable__label {background-color: #d4ebff;}#sk-container-id-13 input.sk-hidden--visually {border: 0;clip: rect(1px 1px 1px 1px);clip: rect(1px, 1px, 1px, 1px);height: 1px;margin: -1px;overflow: hidden;padding: 0;position: absolute;width: 1px;}#sk-container-id-13 div.sk-estimator {font-family: monospace;background-color: #f0f8ff;border: 1px dotted black;border-radius: 0.25em;box-sizing: border-box;margin-bottom: 0.5em;}#sk-container-id-13 div.sk-estimator:hover {background-color: #d4ebff;}#sk-container-id-13 div.sk-parallel-item::after {content: \"\";width: 100%;border-bottom: 1px solid gray;flex-grow: 1;}#sk-container-id-13 div.sk-label:hover label.sk-toggleable__label {background-color: #d4ebff;}#sk-container-id-13 div.sk-serial::before {content: \"\";position: absolute;border-left: 1px solid gray;box-sizing: border-box;top: 0;bottom: 0;left: 50%;z-index: 0;}#sk-container-id-13 div.sk-serial {display: flex;flex-direction: column;align-items: center;background-color: white;padding-right: 0.2em;padding-left: 0.2em;position: relative;}#sk-container-id-13 div.sk-item {position: relative;z-index: 1;}#sk-container-id-13 div.sk-parallel {display: flex;align-items: stretch;justify-content: center;background-color: white;position: relative;}#sk-container-id-13 div.sk-item::before, #sk-container-id-13 div.sk-parallel-item::before {content: \"\";position: absolute;border-left: 1px solid gray;box-sizing: border-box;top: 0;bottom: 0;left: 50%;z-index: -1;}#sk-container-id-13 div.sk-parallel-item {display: flex;flex-direction: column;z-index: 1;position: relative;background-color: white;}#sk-container-id-13 div.sk-parallel-item:first-child::after {align-self: flex-end;width: 50%;}#sk-container-id-13 div.sk-parallel-item:last-child::after {align-self: flex-start;width: 50%;}#sk-container-id-13 div.sk-parallel-item:only-child::after {width: 0;}#sk-container-id-13 div.sk-dashed-wrapped {border: 1px dashed gray;margin: 0 0.4em 0.5em 0.4em;box-sizing: border-box;padding-bottom: 0.4em;background-color: white;}#sk-container-id-13 div.sk-label label {font-family: monospace;font-weight: bold;display: inline-block;line-height: 1.2em;}#sk-container-id-13 div.sk-label-container {text-align: center;}#sk-container-id-13 div.sk-container {/* jupyter's `normalize.less` sets `[hidden] { display: none; }` but bootstrap.min.css set `[hidden] { display: none !important; }` so we also need the `!important` here to be able to override the default hidden behavior on the sphinx rendered scikit-learn.org. See: https://github.com/scikit-learn/scikit-learn/issues/21755 */display: inline-block !important;position: relative;}#sk-container-id-13 div.sk-text-repr-fallback {display: none;}</style><div id=\"sk-container-id-13\" class=\"sk-top-container\"><div class=\"sk-text-repr-fallback\"><pre>SVC()</pre><b>In a Jupyter environment, please rerun this cell to show the HTML representation or trust the notebook. <br />On GitHub, the HTML representation is unable to render, please try loading this page with nbviewer.org.</b></div><div class=\"sk-container\" hidden><div class=\"sk-item\"><div class=\"sk-estimator sk-toggleable\"><input class=\"sk-toggleable__control sk-hidden--visually\" id=\"sk-estimator-id-13\" type=\"checkbox\" checked><label for=\"sk-estimator-id-13\" class=\"sk-toggleable__label sk-toggleable__label-arrow\">SVC</label><div class=\"sk-toggleable__content\"><pre>SVC()</pre></div></div></div></div></div>"
      ],
      "text/plain": [
       "SVC()"
      ]
     },
     "execution_count": 140,
     "metadata": {},
     "output_type": "execute_result"
    }
   ],
   "source": [
    "svm.fit(x_tr,y_tr)"
   ]
  },
  {
   "cell_type": "code",
   "execution_count": 141,
   "id": "130d96ad",
   "metadata": {},
   "outputs": [],
   "source": [
    "svm_p1=svm.predict(x_te)"
   ]
  },
  {
   "cell_type": "code",
   "execution_count": 142,
   "id": "78b6df5c",
   "metadata": {},
   "outputs": [
    {
     "data": {
      "text/plain": [
       "array([[ 620,  981],\n",
       "       [ 457, 1131]], dtype=int64)"
      ]
     },
     "execution_count": 142,
     "metadata": {},
     "output_type": "execute_result"
    }
   ],
   "source": [
    "svm_cf1=confusion_matrix(y_te,svm_p1)\n",
    "svm_cf1"
   ]
  },
  {
   "cell_type": "code",
   "execution_count": 143,
   "id": "f5219a3d",
   "metadata": {},
   "outputs": [
    {
     "data": {
      "text/plain": [
       "54.90749451238632"
      ]
     },
     "execution_count": 143,
     "metadata": {},
     "output_type": "execute_result"
    }
   ],
   "source": [
    "svm_ac1=svm_cf1.diagonal().sum()/svm_cf1.sum()*100\n",
    "svm_ac1"
   ]
  },
  {
   "cell_type": "code",
   "execution_count": 144,
   "id": "3fe380fc",
   "metadata": {},
   "outputs": [],
   "source": [
    "svm_re1=recall_score(y_te,svm_p1)\n",
    "svm_pr1=precision_score(y_te,svm_p1)\n",
    "svm_f1=f1_score(y_te,svm_p1,average=\"weighted\")\n"
   ]
  },
  {
   "cell_type": "code",
   "execution_count": 145,
   "id": "09a4eff9",
   "metadata": {},
   "outputs": [
    {
     "name": "stdout",
     "output_type": "stream",
     "text": [
      "\n",
      "               precision    recall  f1-score   support\n",
      "\n",
      "           0       0.58      0.39      0.46      1601\n",
      "           1       0.54      0.71      0.61      1588\n",
      "\n",
      "    accuracy                           0.55      3189\n",
      "   macro avg       0.56      0.55      0.54      3189\n",
      "weighted avg       0.56      0.55      0.54      3189\n",
      "\n",
      "\n",
      "Confusion Matrix\n",
      "[[ 620  981]\n",
      " [ 457 1131]]\n"
     ]
    }
   ],
   "source": [
    "print(\"\\n\",classification_report(y_te,svm_p1)) \n",
    "print(\"\\nConfusion Matrix\")\n",
    "print(svm_cf1)"
   ]
  },
  {
   "cell_type": "markdown",
   "id": "a60e57c0",
   "metadata": {},
   "source": [
    "# NB-Random oversampling"
   ]
  },
  {
   "cell_type": "code",
   "execution_count": 146,
   "id": "64a8aba2",
   "metadata": {},
   "outputs": [],
   "source": [
    "from sklearn.naive_bayes import MultinomialNB\n",
    "nb=MultinomialNB()"
   ]
  },
  {
   "cell_type": "code",
   "execution_count": 147,
   "id": "f76224cf",
   "metadata": {},
   "outputs": [
    {
     "data": {
      "text/html": [
       "<style>#sk-container-id-14 {color: black;background-color: white;}#sk-container-id-14 pre{padding: 0;}#sk-container-id-14 div.sk-toggleable {background-color: white;}#sk-container-id-14 label.sk-toggleable__label {cursor: pointer;display: block;width: 100%;margin-bottom: 0;padding: 0.3em;box-sizing: border-box;text-align: center;}#sk-container-id-14 label.sk-toggleable__label-arrow:before {content: \"▸\";float: left;margin-right: 0.25em;color: #696969;}#sk-container-id-14 label.sk-toggleable__label-arrow:hover:before {color: black;}#sk-container-id-14 div.sk-estimator:hover label.sk-toggleable__label-arrow:before {color: black;}#sk-container-id-14 div.sk-toggleable__content {max-height: 0;max-width: 0;overflow: hidden;text-align: left;background-color: #f0f8ff;}#sk-container-id-14 div.sk-toggleable__content pre {margin: 0.2em;color: black;border-radius: 0.25em;background-color: #f0f8ff;}#sk-container-id-14 input.sk-toggleable__control:checked~div.sk-toggleable__content {max-height: 200px;max-width: 100%;overflow: auto;}#sk-container-id-14 input.sk-toggleable__control:checked~label.sk-toggleable__label-arrow:before {content: \"▾\";}#sk-container-id-14 div.sk-estimator input.sk-toggleable__control:checked~label.sk-toggleable__label {background-color: #d4ebff;}#sk-container-id-14 div.sk-label input.sk-toggleable__control:checked~label.sk-toggleable__label {background-color: #d4ebff;}#sk-container-id-14 input.sk-hidden--visually {border: 0;clip: rect(1px 1px 1px 1px);clip: rect(1px, 1px, 1px, 1px);height: 1px;margin: -1px;overflow: hidden;padding: 0;position: absolute;width: 1px;}#sk-container-id-14 div.sk-estimator {font-family: monospace;background-color: #f0f8ff;border: 1px dotted black;border-radius: 0.25em;box-sizing: border-box;margin-bottom: 0.5em;}#sk-container-id-14 div.sk-estimator:hover {background-color: #d4ebff;}#sk-container-id-14 div.sk-parallel-item::after {content: \"\";width: 100%;border-bottom: 1px solid gray;flex-grow: 1;}#sk-container-id-14 div.sk-label:hover label.sk-toggleable__label {background-color: #d4ebff;}#sk-container-id-14 div.sk-serial::before {content: \"\";position: absolute;border-left: 1px solid gray;box-sizing: border-box;top: 0;bottom: 0;left: 50%;z-index: 0;}#sk-container-id-14 div.sk-serial {display: flex;flex-direction: column;align-items: center;background-color: white;padding-right: 0.2em;padding-left: 0.2em;position: relative;}#sk-container-id-14 div.sk-item {position: relative;z-index: 1;}#sk-container-id-14 div.sk-parallel {display: flex;align-items: stretch;justify-content: center;background-color: white;position: relative;}#sk-container-id-14 div.sk-item::before, #sk-container-id-14 div.sk-parallel-item::before {content: \"\";position: absolute;border-left: 1px solid gray;box-sizing: border-box;top: 0;bottom: 0;left: 50%;z-index: -1;}#sk-container-id-14 div.sk-parallel-item {display: flex;flex-direction: column;z-index: 1;position: relative;background-color: white;}#sk-container-id-14 div.sk-parallel-item:first-child::after {align-self: flex-end;width: 50%;}#sk-container-id-14 div.sk-parallel-item:last-child::after {align-self: flex-start;width: 50%;}#sk-container-id-14 div.sk-parallel-item:only-child::after {width: 0;}#sk-container-id-14 div.sk-dashed-wrapped {border: 1px dashed gray;margin: 0 0.4em 0.5em 0.4em;box-sizing: border-box;padding-bottom: 0.4em;background-color: white;}#sk-container-id-14 div.sk-label label {font-family: monospace;font-weight: bold;display: inline-block;line-height: 1.2em;}#sk-container-id-14 div.sk-label-container {text-align: center;}#sk-container-id-14 div.sk-container {/* jupyter's `normalize.less` sets `[hidden] { display: none; }` but bootstrap.min.css set `[hidden] { display: none !important; }` so we also need the `!important` here to be able to override the default hidden behavior on the sphinx rendered scikit-learn.org. See: https://github.com/scikit-learn/scikit-learn/issues/21755 */display: inline-block !important;position: relative;}#sk-container-id-14 div.sk-text-repr-fallback {display: none;}</style><div id=\"sk-container-id-14\" class=\"sk-top-container\"><div class=\"sk-text-repr-fallback\"><pre>MultinomialNB()</pre><b>In a Jupyter environment, please rerun this cell to show the HTML representation or trust the notebook. <br />On GitHub, the HTML representation is unable to render, please try loading this page with nbviewer.org.</b></div><div class=\"sk-container\" hidden><div class=\"sk-item\"><div class=\"sk-estimator sk-toggleable\"><input class=\"sk-toggleable__control sk-hidden--visually\" id=\"sk-estimator-id-14\" type=\"checkbox\" checked><label for=\"sk-estimator-id-14\" class=\"sk-toggleable__label sk-toggleable__label-arrow\">MultinomialNB</label><div class=\"sk-toggleable__content\"><pre>MultinomialNB()</pre></div></div></div></div></div>"
      ],
      "text/plain": [
       "MultinomialNB()"
      ]
     },
     "execution_count": 147,
     "metadata": {},
     "output_type": "execute_result"
    }
   ],
   "source": [
    "nb.fit(x_tr,y_tr)"
   ]
  },
  {
   "cell_type": "code",
   "execution_count": 148,
   "id": "e3092c98",
   "metadata": {},
   "outputs": [],
   "source": [
    "nb_p1=nb.predict(x_te)"
   ]
  },
  {
   "cell_type": "code",
   "execution_count": 149,
   "id": "db78eb1c",
   "metadata": {},
   "outputs": [
    {
     "data": {
      "text/plain": [
       "array([[874, 727],\n",
       "       [763, 825]], dtype=int64)"
      ]
     },
     "execution_count": 149,
     "metadata": {},
     "output_type": "execute_result"
    }
   ],
   "source": [
    "nb_cf1=confusion_matrix(y_te,nb_p1)\n",
    "nb_cf1"
   ]
  },
  {
   "cell_type": "code",
   "execution_count": 150,
   "id": "fe5be494",
   "metadata": {},
   "outputs": [
    {
     "data": {
      "text/plain": [
       "53.27688930699279"
      ]
     },
     "execution_count": 150,
     "metadata": {},
     "output_type": "execute_result"
    }
   ],
   "source": [
    "nb_ac1=nb_cf1.diagonal().sum()/nb_cf1.sum()*100\n",
    "nb_ac1"
   ]
  },
  {
   "cell_type": "code",
   "execution_count": 151,
   "id": "d80acc32",
   "metadata": {},
   "outputs": [],
   "source": [
    "nb_re1=recall_score(y_te,nb_p1)\n",
    "nb_pr1=precision_score(y_te,nb_p1)\n",
    "nb_f1=f1_score(y_te,nb_p1,average=\"weighted\")"
   ]
  },
  {
   "cell_type": "code",
   "execution_count": 152,
   "id": "f1d9c890",
   "metadata": {},
   "outputs": [
    {
     "name": "stdout",
     "output_type": "stream",
     "text": [
      "\n",
      "               precision    recall  f1-score   support\n",
      "\n",
      "           0       0.53      0.55      0.54      1601\n",
      "           1       0.53      0.52      0.53      1588\n",
      "\n",
      "    accuracy                           0.53      3189\n",
      "   macro avg       0.53      0.53      0.53      3189\n",
      "weighted avg       0.53      0.53      0.53      3189\n",
      "\n",
      "\n",
      "Confusion Matrix\n",
      "[[874 727]\n",
      " [763 825]]\n"
     ]
    }
   ],
   "source": [
    "print(\"\\n\",classification_report(y_te,nb_p1)) \n",
    "print(\"\\nConfusion Matrix\")\n",
    "print(nb_cf1)"
   ]
  },
  {
   "cell_type": "markdown",
   "id": "8c7c6975",
   "metadata": {},
   "source": [
    "# Model2 After CI and EDA"
   ]
  },
  {
   "cell_type": "code",
   "execution_count": 153,
   "id": "e86e209a",
   "metadata": {},
   "outputs": [
    {
     "data": {
      "text/html": [
       "<div>\n",
       "<style scoped>\n",
       "    .dataframe tbody tr th:only-of-type {\n",
       "        vertical-align: middle;\n",
       "    }\n",
       "\n",
       "    .dataframe tbody tr th {\n",
       "        vertical-align: top;\n",
       "    }\n",
       "\n",
       "    .dataframe thead th {\n",
       "        text-align: right;\n",
       "    }\n",
       "</style>\n",
       "<table border=\"1\" class=\"dataframe\">\n",
       "  <thead>\n",
       "    <tr style=\"text-align: right;\">\n",
       "      <th></th>\n",
       "      <th>Algorithm</th>\n",
       "      <th>Accuracy</th>\n",
       "      <th>Precision</th>\n",
       "      <th>Recall</th>\n",
       "      <th>f1-score</th>\n",
       "    </tr>\n",
       "  </thead>\n",
       "  <tbody>\n",
       "    <tr>\n",
       "      <th>0</th>\n",
       "      <td>Logistic Regression</td>\n",
       "      <td>53.966761</td>\n",
       "      <td>0.533482</td>\n",
       "      <td>0.602015</td>\n",
       "      <td>0.537898</td>\n",
       "    </tr>\n",
       "    <tr>\n",
       "      <th>1</th>\n",
       "      <td>Decision Tree</td>\n",
       "      <td>90.341800</td>\n",
       "      <td>0.855556</td>\n",
       "      <td>0.969773</td>\n",
       "      <td>0.903016</td>\n",
       "    </tr>\n",
       "    <tr>\n",
       "      <th>2</th>\n",
       "      <td>Random Forest</td>\n",
       "      <td>94.888680</td>\n",
       "      <td>0.925373</td>\n",
       "      <td>0.976071</td>\n",
       "      <td>0.948854</td>\n",
       "    </tr>\n",
       "    <tr>\n",
       "      <th>3</th>\n",
       "      <td>KNN</td>\n",
       "      <td>70.147382</td>\n",
       "      <td>0.658524</td>\n",
       "      <td>0.831864</td>\n",
       "      <td>0.696423</td>\n",
       "    </tr>\n",
       "    <tr>\n",
       "      <th>4</th>\n",
       "      <td>XGB</td>\n",
       "      <td>87.927250</td>\n",
       "      <td>0.855286</td>\n",
       "      <td>0.911839</td>\n",
       "      <td>0.879158</td>\n",
       "    </tr>\n",
       "    <tr>\n",
       "      <th>5</th>\n",
       "      <td>SVM</td>\n",
       "      <td>54.907495</td>\n",
       "      <td>0.535511</td>\n",
       "      <td>0.712217</td>\n",
       "      <td>0.536889</td>\n",
       "    </tr>\n",
       "    <tr>\n",
       "      <th>6</th>\n",
       "      <td>Naive Bayes</td>\n",
       "      <td>53.276889</td>\n",
       "      <td>0.531572</td>\n",
       "      <td>0.519521</td>\n",
       "      <td>0.532688</td>\n",
       "    </tr>\n",
       "  </tbody>\n",
       "</table>\n",
       "</div>"
      ],
      "text/plain": [
       "             Algorithm   Accuracy  Precision    Recall  f1-score\n",
       "0  Logistic Regression  53.966761   0.533482  0.602015  0.537898\n",
       "1        Decision Tree  90.341800   0.855556  0.969773  0.903016\n",
       "2        Random Forest  94.888680   0.925373  0.976071  0.948854\n",
       "3                  KNN  70.147382   0.658524  0.831864  0.696423\n",
       "4                  XGB  87.927250   0.855286  0.911839  0.879158\n",
       "5                  SVM  54.907495   0.535511  0.712217  0.536889\n",
       "6          Naive Bayes  53.276889   0.531572  0.519521  0.532688"
      ]
     },
     "execution_count": 153,
     "metadata": {},
     "output_type": "execute_result"
    }
   ],
   "source": [
    "algo=[\"Logistic Regression\",\"Decision Tree\",\"Random Forest\",\"KNN\",\"XGB\",\"SVM\",\"Naive Bayes\"]\n",
    "accuracy1=[lg_ac1,dt_ac1,rf_ac1,knn_ac1,xgb_ac1,svm_ac1,nb_ac1]\n",
    "precision1=[lg_pr1,dt_pr1,rf_pr1,knn_pr1,xgb_pr1,svm_pr1,nb_pr1]\n",
    "recall1=[lg_re1,dt_re1,rf_re1,knn_re1,xgb_re1,svm_re1,nb_re1]\n",
    "f1_score1=[lg_f1,dt_f1,rf_f1,knn_f1,xgb_f1,svm_f1,nb_f1]\n",
    "model2=pd.DataFrame({\"Algorithm\":algo,\"Accuracy\":accuracy1,\"Precision\":precision1,\"Recall\":recall1,\"f1-score\":f1_score1})\n",
    "model2"
   ]
  },
  {
   "cell_type": "markdown",
   "id": "d5806cf0",
   "metadata": {},
   "source": [
    "# IMBLEARN"
   ]
  },
  {
   "cell_type": "raw",
   "id": "c4fe9a63",
   "metadata": {},
   "source": [
    "# import imblearn\n",
    "# from imblearn.over_sampling import RandomOverSampler"
   ]
  },
  {
   "cell_type": "code",
   "execution_count": null,
   "id": "2f7fa531",
   "metadata": {},
   "outputs": [],
   "source": [
    "# d_x1=stud.iloc[:,0:-1]\n",
    "# d_y1=stud.iloc[:,-1]"
   ]
  },
  {
   "cell_type": "code",
   "execution_count": null,
   "id": "8e7b4a81",
   "metadata": {},
   "outputs": [],
   "source": [
    "# d_y1.value_counts()"
   ]
  },
  {
   "cell_type": "code",
   "execution_count": null,
   "id": "16f244ca",
   "metadata": {},
   "outputs": [],
   "source": [
    "# a1=RandomOverSampler(random_state=42)\n",
    "# x2,y2=a1.fit_resample(d_x1,d_y1)"
   ]
  },
  {
   "cell_type": "code",
   "execution_count": null,
   "id": "56308598",
   "metadata": {},
   "outputs": [],
   "source": [
    "# x2.shape,y2.shape"
   ]
  },
  {
   "cell_type": "code",
   "execution_count": null,
   "id": "eb3a2e67",
   "metadata": {},
   "outputs": [],
   "source": [
    "#y2.value_counts()"
   ]
  },
  {
   "cell_type": "code",
   "execution_count": null,
   "id": "4ce11502",
   "metadata": {},
   "outputs": [],
   "source": [
    "#xtr2,xte2,ytr2,yte2=train_test_split(x2,y2,test_size=0.2,random_state=100)\n",
    "#xtr2.shape,xte2.shape,ytr2.shape,yte2.shape"
   ]
  },
  {
   "cell_type": "code",
   "execution_count": null,
   "id": "eb5122a9",
   "metadata": {},
   "outputs": [],
   "source": [
    "#x2.skew()\n"
   ]
  },
  {
   "cell_type": "code",
   "execution_count": null,
   "id": "5460ea32",
   "metadata": {},
   "outputs": [],
   "source": [
    "#fig=plt.figure(figsize=(5,5))\n",
    "#sns.boxplot(data=x2,y=\"CreditScore\")"
   ]
  },
  {
   "cell_type": "code",
   "execution_count": null,
   "id": "79fcbbd0",
   "metadata": {},
   "outputs": [],
   "source": [
    "#fig=plt.figure(figsize=(5,5))\n",
    "#sns.boxplot(data=x2,y=\"Age\")"
   ]
  },
  {
   "cell_type": "code",
   "execution_count": null,
   "id": "76f506e8",
   "metadata": {},
   "outputs": [],
   "source": [
    "# from scipy import stats\n",
    "\n",
    "# num_cols = ['CreditScore', 'Age']\n",
    "\n",
    "# # Detect and handle outliers\n",
    "# for col in num_cols:\n",
    "#     # Calculate the IQR (Interquartile Range)\n",
    "#     Q1 = x2[col].quantile(0.25)\n",
    "#     Q3 = x2[col].quantile(0.75)\n",
    "#     IQR = Q3 - Q1\n",
    "\n",
    "#     # Define the lower and upper bounds for outliers\n",
    "#     lower_bound = Q1 - 1.5 * IQR\n",
    "#     upper_bound = Q3 + 1.5 * IQR\n",
    "\n",
    "#     # Identify outliers\n",
    "#     outliers = x2[(x2[col] < lower_bound) | (x2[col] > upper_bound)]\n",
    "\n",
    "#     # Replace outliers with appropriate values or remove them\n",
    "#     if col == 'CreditScore':\n",
    "#         x2.loc[(x2[col] < lower_bound) | (x2[col] > upper_bound), col] = x2[col].median()\n",
    "#     elif col == 'Age':\n",
    "#         # Instead of replacing with median, you can remove outliers in 'Age'\n",
    "#         x2 = x2[(x2[col] >= lower_bound) & (x2[col] <= upper_bound)]\n",
    "\n",
    "#     # Measure skewness\n",
    "#     skewness = stats.skew(x2[col])\n",
    "#     print(f\"Skewness for {col}: {skewness}\")"
   ]
  },
  {
   "cell_type": "code",
   "execution_count": null,
   "id": "c14f67f1",
   "metadata": {},
   "outputs": [],
   "source": [
    "# fig=plt.figure(figsize=(5,5))\n",
    "# sns.boxplot(data=x2,y=\"CreditScore\")"
   ]
  },
  {
   "cell_type": "code",
   "execution_count": null,
   "id": "0bf8d86a",
   "metadata": {},
   "outputs": [],
   "source": [
    "# fig=plt.figure(figsize=(5,5))\n",
    "# sns.boxplot(data=x2,y=\"Age\")"
   ]
  },
  {
   "cell_type": "code",
   "execution_count": null,
   "id": "eeb904eb",
   "metadata": {},
   "outputs": [],
   "source": [
    "# x2.skew()"
   ]
  },
  {
   "cell_type": "code",
   "execution_count": null,
   "id": "68f6a520",
   "metadata": {},
   "outputs": [],
   "source": [
    "# sns.distplot(x2.CreditScore)"
   ]
  },
  {
   "cell_type": "code",
   "execution_count": null,
   "id": "aa557b58",
   "metadata": {},
   "outputs": [],
   "source": [
    "# sns.distplot(x2.Age) "
   ]
  },
  {
   "cell_type": "markdown",
   "id": "528ceb01",
   "metadata": {},
   "source": [
    "# Logistic Regression"
   ]
  },
  {
   "cell_type": "code",
   "execution_count": null,
   "id": "4fe24778",
   "metadata": {},
   "outputs": [],
   "source": [
    "# from sklearn.linear_model import LogisticRegression\n",
    "# lg=LogisticRegression()"
   ]
  },
  {
   "cell_type": "code",
   "execution_count": null,
   "id": "689466c7",
   "metadata": {},
   "outputs": [],
   "source": [
    "#lg.fit(xtr2,ytr2)"
   ]
  },
  {
   "cell_type": "code",
   "execution_count": null,
   "id": "22db4aa7",
   "metadata": {},
   "outputs": [],
   "source": [
    "#lg_p3=lg.predict(xte2)"
   ]
  },
  {
   "cell_type": "code",
   "execution_count": null,
   "id": "faecab0b",
   "metadata": {},
   "outputs": [],
   "source": [
    "# lg_cf3=confusion_matrix(yte2,lg_p3)\n",
    "# lg_cf3"
   ]
  },
  {
   "cell_type": "code",
   "execution_count": null,
   "id": "cda39652",
   "metadata": {},
   "outputs": [],
   "source": [
    "# lg_ac3=lg_cf3.diagonal().sum()/lg_cf3.sum()*100\n",
    "# lg_ac3"
   ]
  },
  {
   "cell_type": "code",
   "execution_count": null,
   "id": "3725831c",
   "metadata": {},
   "outputs": [],
   "source": [
    "# lg_a3=f1_score(yte2,lg_p3)\n",
    "# lg_b3=precision_score(yte2,lg_p3)\n",
    "# lg_c3=recall_score(yte2,lg_p3)"
   ]
  },
  {
   "cell_type": "code",
   "execution_count": null,
   "id": "0306f4c5",
   "metadata": {},
   "outputs": [],
   "source": [
    "# print(\"\\n\",classification_report(yte2,lg_p3))\n",
    "# print(\"\\nConfusion Matrix\")\n",
    "# print(lg_cf3)"
   ]
  },
  {
   "cell_type": "markdown",
   "id": "a044def3",
   "metadata": {},
   "source": [
    "# Decision Tree"
   ]
  },
  {
   "cell_type": "code",
   "execution_count": null,
   "id": "bf26334d",
   "metadata": {},
   "outputs": [],
   "source": [
    "# from sklearn.tree import DecisionTreeClassifier\n",
    "# dt=DecisionTreeClassifier()"
   ]
  },
  {
   "cell_type": "code",
   "execution_count": null,
   "id": "4c385f4d",
   "metadata": {},
   "outputs": [],
   "source": [
    "# dt.fit(xtr2,ytr2)"
   ]
  },
  {
   "cell_type": "code",
   "execution_count": null,
   "id": "16d3555d",
   "metadata": {},
   "outputs": [],
   "source": [
    "# dt_cf3=confusion_matrix(yte2,dt_p3)\n",
    "# dt_cf3"
   ]
  },
  {
   "cell_type": "code",
   "execution_count": null,
   "id": "84f8d5e5",
   "metadata": {},
   "outputs": [],
   "source": [
    "# dt_ac3=dt_cf3.diagonal().sum()/dt_cf3.sum()*100\n",
    "# dt_ac3"
   ]
  },
  {
   "cell_type": "code",
   "execution_count": null,
   "id": "b923b114",
   "metadata": {},
   "outputs": [],
   "source": [
    "# dt_a3=f1_score(yte2,dt_p3)\n",
    "# dt_b3=precision_score(yte2,dt_p3)\n",
    "# dt_c3=recall_score(yte2,dt_p3)"
   ]
  },
  {
   "cell_type": "code",
   "execution_count": null,
   "id": "c6f82155",
   "metadata": {},
   "outputs": [],
   "source": [
    "# print(classification_report(yte2,dt_p3))\n",
    "# print(\"\\nConfusion Matrix\")\n",
    "# print(dt_cf3)"
   ]
  },
  {
   "cell_type": "markdown",
   "id": "cb243c57",
   "metadata": {},
   "source": [
    "# Random Forest"
   ]
  },
  {
   "cell_type": "code",
   "execution_count": null,
   "id": "61a43937",
   "metadata": {},
   "outputs": [],
   "source": [
    "# from sklearn.ensemble import RandomForestClassifier\n",
    "# rf=RandomForestClassifier()"
   ]
  },
  {
   "cell_type": "code",
   "execution_count": null,
   "id": "ce3337c9",
   "metadata": {},
   "outputs": [],
   "source": [
    "# rf.fit(xtr2,ytr2)"
   ]
  },
  {
   "cell_type": "code",
   "execution_count": null,
   "id": "8626aeb1",
   "metadata": {},
   "outputs": [],
   "source": [
    "# rf_p3=rf.predict(xte2)"
   ]
  },
  {
   "cell_type": "code",
   "execution_count": null,
   "id": "054d8ea6",
   "metadata": {},
   "outputs": [],
   "source": [
    "# rf_cf3=confusion_matrix(yte2,rf_p3)\n",
    "# rf_cf3"
   ]
  },
  {
   "cell_type": "code",
   "execution_count": null,
   "id": "de88c0e4",
   "metadata": {},
   "outputs": [],
   "source": [
    "# rf_ac3=rf_cf3.diagonal().sum()/rf_cf3.sum()*100\n",
    "# rf_ac3"
   ]
  },
  {
   "cell_type": "code",
   "execution_count": null,
   "id": "9fe4f84a",
   "metadata": {},
   "outputs": [],
   "source": [
    "# rf_a3=f1_score(yte2,rf_p3)\n",
    "# rf_b3=precision_score(yte2,rf_p3)\n",
    "# rf_c3=recall_score(yte2,rf_p3)"
   ]
  },
  {
   "cell_type": "code",
   "execution_count": null,
   "id": "3a60ec1c",
   "metadata": {},
   "outputs": [],
   "source": [
    "# print(classification_report(yte2,rf_p3))\n",
    "# print(\"\\nConfusion Matrix\")\n",
    "# print(rf_cf3)"
   ]
  },
  {
   "cell_type": "markdown",
   "id": "a92b1347",
   "metadata": {},
   "source": [
    "# KNN"
   ]
  },
  {
   "cell_type": "code",
   "execution_count": null,
   "id": "6a065ed9",
   "metadata": {},
   "outputs": [],
   "source": [
    "# from sklearn.neighbors import KNeighborsClassifier\n",
    "# knn=KNeighborsClassifier()"
   ]
  },
  {
   "cell_type": "code",
   "execution_count": null,
   "id": "daf919c7",
   "metadata": {},
   "outputs": [],
   "source": [
    "# knn.fit(xtr2,ytr2)"
   ]
  },
  {
   "cell_type": "code",
   "execution_count": null,
   "id": "0eac72ed",
   "metadata": {},
   "outputs": [],
   "source": [
    "# knn_p3=knn.predict(xte2)"
   ]
  },
  {
   "cell_type": "code",
   "execution_count": null,
   "id": "55d0e415",
   "metadata": {},
   "outputs": [],
   "source": [
    "# knn_cf3=confusion_matrix(yte2,knn_p3)\n",
    "# knn_cf3"
   ]
  },
  {
   "cell_type": "code",
   "execution_count": null,
   "id": "99c83391",
   "metadata": {},
   "outputs": [],
   "source": [
    "# knn_ac3=knn_cf3.diagonal().sum()/knn_cf3.sum()*100\n",
    "# knn_ac3"
   ]
  },
  {
   "cell_type": "code",
   "execution_count": null,
   "id": "0f42028e",
   "metadata": {},
   "outputs": [],
   "source": [
    "# knn_a3=f1_score(yte2,knn_p3)\n",
    "# knn_b3=precision_score(yte2,knn_p3)\n",
    "# knn_c3=recall_score(yte2,knn_p3)"
   ]
  },
  {
   "cell_type": "code",
   "execution_count": null,
   "id": "6572ab6c",
   "metadata": {},
   "outputs": [],
   "source": [
    "# print(classification_report(yte2,knn_p3))\n",
    "# print(\"\\nConfusion Matrix\")\n",
    "# print(knn_cf3)\n"
   ]
  },
  {
   "cell_type": "markdown",
   "id": "5109f9cf",
   "metadata": {},
   "source": [
    "# XGB"
   ]
  },
  {
   "cell_type": "code",
   "execution_count": null,
   "id": "ed88f05b",
   "metadata": {},
   "outputs": [],
   "source": [
    "# import xgboost\n",
    "# from xgboost import XGBClassifier\n",
    "# xgb=XGBClassifier()"
   ]
  },
  {
   "cell_type": "code",
   "execution_count": null,
   "id": "b7e21b22",
   "metadata": {},
   "outputs": [],
   "source": [
    "# xgb.fit(xtr2,ytr2)"
   ]
  },
  {
   "cell_type": "code",
   "execution_count": null,
   "id": "5abfaa37",
   "metadata": {},
   "outputs": [],
   "source": [
    "# xgb_p3=xgb.predict(xte2)"
   ]
  },
  {
   "cell_type": "code",
   "execution_count": null,
   "id": "d87432c8",
   "metadata": {},
   "outputs": [],
   "source": [
    "# xgb_cf3=confusion_matrix(yte2,xgb_p3)\n",
    "# xgb_cf3"
   ]
  },
  {
   "cell_type": "code",
   "execution_count": null,
   "id": "e0490635",
   "metadata": {},
   "outputs": [],
   "source": [
    "# xgb_ac3=xgb_cf3.diagonal().sum()/xgb_cf3.sum()*100\n",
    "# xgb_ac3"
   ]
  },
  {
   "cell_type": "code",
   "execution_count": null,
   "id": "adf91f61",
   "metadata": {},
   "outputs": [],
   "source": [
    "# xgb_a3=f1_score(yte2,xgb_p3)\n",
    "# xgb_b3=precision_score(yte2,xgb_p3)\n",
    "# xgb_c3=recall_score(yte2,xgb_p3)"
   ]
  },
  {
   "cell_type": "code",
   "execution_count": null,
   "id": "b46c7c54",
   "metadata": {},
   "outputs": [],
   "source": [
    "# print(classification_report(yte2,xgb_p3))\n",
    "# print(\"\\nConfusion Matrix\")\n",
    "# print(xgb_cf3)"
   ]
  },
  {
   "cell_type": "markdown",
   "id": "afbee53b",
   "metadata": {},
   "source": [
    "# SVM"
   ]
  },
  {
   "cell_type": "code",
   "execution_count": null,
   "id": "300b1760",
   "metadata": {},
   "outputs": [],
   "source": [
    "# from sklearn.svm import SVC\n",
    "# svm=SVC()"
   ]
  },
  {
   "cell_type": "code",
   "execution_count": null,
   "id": "2532c9f4",
   "metadata": {},
   "outputs": [],
   "source": [
    "# svm.fit(xtr2,ytr2)"
   ]
  },
  {
   "cell_type": "code",
   "execution_count": null,
   "id": "caa8f602",
   "metadata": {},
   "outputs": [],
   "source": [
    "# svm_p3=svm.predict(xte2)"
   ]
  },
  {
   "cell_type": "code",
   "execution_count": null,
   "id": "b9d26dfe",
   "metadata": {},
   "outputs": [],
   "source": [
    "# svm_cf3=confusion_matrix(yte2,svm_p3)\n",
    "# svm_cf3"
   ]
  },
  {
   "cell_type": "code",
   "execution_count": null,
   "id": "81dc878d",
   "metadata": {},
   "outputs": [],
   "source": [
    "# svm_ac3=svm_cf3.diagonal().sum()/svm_cf3.sum()*100\n",
    "# svm_ac3"
   ]
  },
  {
   "cell_type": "code",
   "execution_count": null,
   "id": "f60c8aff",
   "metadata": {},
   "outputs": [],
   "source": [
    "# svm_a3=f1_score(yte2,svm_p3)\n",
    "# svm_b3=precision_score(yte2,svm_p3)\n",
    "# svm_c3=recall_score(yte2,svm_p3)"
   ]
  },
  {
   "cell_type": "code",
   "execution_count": null,
   "id": "03b5fbe1",
   "metadata": {},
   "outputs": [],
   "source": [
    "# print(classification_report(yte2,svm_p3))\n",
    "# print(\"\\nConfusion Matrix\")\n",
    "# print(svm_cf3)"
   ]
  },
  {
   "cell_type": "markdown",
   "id": "aa8de697",
   "metadata": {},
   "source": [
    "# Naive Bayes"
   ]
  },
  {
   "cell_type": "code",
   "execution_count": null,
   "id": "03a0c61e",
   "metadata": {},
   "outputs": [],
   "source": [
    "# from sklearn.naive_bayes import MultinomialNB\n",
    "# nb=MultinomialNB()"
   ]
  },
  {
   "cell_type": "code",
   "execution_count": null,
   "id": "0a4280ec",
   "metadata": {},
   "outputs": [],
   "source": [
    "# nb.fit(xtr2,ytr2)"
   ]
  },
  {
   "cell_type": "code",
   "execution_count": null,
   "id": "9dfe0d3d",
   "metadata": {},
   "outputs": [],
   "source": [
    "# nb_p3=nb.predict(xte2)"
   ]
  },
  {
   "cell_type": "code",
   "execution_count": null,
   "id": "9403417e",
   "metadata": {},
   "outputs": [],
   "source": [
    "# nb_cf3=confusion_matrix(yte2,nb_p3)\n",
    "# nb_cf3"
   ]
  },
  {
   "cell_type": "code",
   "execution_count": null,
   "id": "9e2a6c12",
   "metadata": {},
   "outputs": [],
   "source": [
    "# nb_ac3=nb_cf3.diagonal().sum()/nb_cf3.sum()*100\n",
    "# nb_ac3"
   ]
  },
  {
   "cell_type": "code",
   "execution_count": null,
   "id": "cfc2a95f",
   "metadata": {},
   "outputs": [],
   "source": [
    "# nb_a3=f1_score(yte2,nb_p3)\n",
    "# nb_b3=precision_score(yte2,nb_p3)\n",
    "# nb_c3=recall_score(yte2,nb_p3)"
   ]
  },
  {
   "cell_type": "code",
   "execution_count": null,
   "id": "60cd7602",
   "metadata": {},
   "outputs": [],
   "source": [
    "# print(classification_report(yte2,nb_p3))\n",
    "# print(\"\\nConfusion Matrix\")\n",
    "# print(nb_cf3)"
   ]
  },
  {
   "cell_type": "code",
   "execution_count": null,
   "id": "93508c23",
   "metadata": {},
   "outputs": [],
   "source": [
    "# algo=[\"Logistic Regression\",\"Decision Tree\",\"Random Forest\",\"KNN\",\"XGB\",\"SVM\",\"Naive Bayes\"]\n",
    "# accuracy=[lg_ac3,dt_ac3,rf_ac3,knn_ac3,xgb_ac3,svm_ac3,nb_ac3,]\n",
    "# f1=[lg_a3,dt_a3,rf_a3,knn_a3,xgb_a3,svm_a3,nb_a3]\n",
    "# precision=[lg_b3,dt_b3,rf_b3,knn_b3,xgb_b3,svm_b3,nb_b3]\n",
    "# recall=[lg_c3,dt_c3,rf_c3,knn_c3,xgb_c3,svm_c3,nb_c3]"
   ]
  },
  {
   "cell_type": "code",
   "execution_count": null,
   "id": "7047dd5e",
   "metadata": {},
   "outputs": [],
   "source": [
    "# model3=pd.DataFrame({\"Algorithm\":algo,\"Accuracy\":accuracy,\"F1-score\":f1,\"Precision\":precision,\"Recall\":recall})\n",
    "# model3"
   ]
  },
  {
   "cell_type": "markdown",
   "id": "6ee84e67",
   "metadata": {},
   "source": [
    "# Model Results"
   ]
  },
  {
   "cell_type": "code",
   "execution_count": null,
   "id": "0a0fe9d9",
   "metadata": {},
   "outputs": [],
   "source": [
    "from tabulate import tabulate\n",
    "\n",
    "print(\"BASIC MODEL RESULTS:\")\n",
    "print(tabulate(model1, headers=\"keys\", tablefmt=\"psql\"))\n",
    "\n",
    "print(\"\\nMODEL 2 (RANDOM OVERSAMPLING) RESULTS:\")\n",
    "print(tabulate(model2, headers=\"keys\", tablefmt=\"psql\"))\n",
    "\n",
    "# print(\"\\nMODEL 3 (IMBLEARN Oversampling) RESULTS:\")\n",
    "# print(tabulate(model3, headers=\"keys\", tablefmt=\"psql\"))"
   ]
  },
  {
   "cell_type": "markdown",
   "id": "c0171d6c",
   "metadata": {},
   "source": [
    "# Feature Selection"
   ]
  },
  {
   "cell_type": "markdown",
   "id": "b889c7ea",
   "metadata": {},
   "source": [
    "# RFE"
   ]
  },
  {
   "cell_type": "code",
   "execution_count": null,
   "id": "c21fbf74",
   "metadata": {},
   "outputs": [],
   "source": [
    "from sklearn.feature_selection import RFE\n",
    "from sklearn.ensemble import RandomForestClassifier\n",
    "rf1=RandomForestClassifier()\n",
    "rfe=RFE(rf1,n_features_to_select=5)"
   ]
  },
  {
   "cell_type": "code",
   "execution_count": null,
   "id": "efa3fa21",
   "metadata": {},
   "outputs": [],
   "source": [
    "rfe.fit(class1_0.iloc[:,:-1],class1_0.iloc[:,-1])"
   ]
  },
  {
   "cell_type": "code",
   "execution_count": null,
   "id": "79e977fd",
   "metadata": {},
   "outputs": [],
   "source": [
    "rfe.support_"
   ]
  },
  {
   "cell_type": "code",
   "execution_count": null,
   "id": "758d4809",
   "metadata": {},
   "outputs": [],
   "source": [
    "f1=pd.DataFrame({'feature':list(rfe.support_),'col':list(class1_0.iloc[:,:-1].columns)})\n",
    "f1"
   ]
  },
  {
   "cell_type": "code",
   "execution_count": null,
   "id": "779749bb",
   "metadata": {},
   "outputs": [],
   "source": [
    "class1_0.columns"
   ]
  },
  {
   "cell_type": "code",
   "execution_count": null,
   "id": "fc493d1d",
   "metadata": {},
   "outputs": [],
   "source": [
    "# List of columns to drop\n",
    "df=class1_0.drop(['Country', 'Gender', 'NumOf Holiday', 'Id Card', 'Active Student'],axis=1)"
   ]
  },
  {
   "cell_type": "code",
   "execution_count": null,
   "id": "1d775080",
   "metadata": {},
   "outputs": [],
   "source": [
    "df.isnull().sum()"
   ]
  },
  {
   "cell_type": "code",
   "execution_count": null,
   "id": "3a84363c",
   "metadata": {},
   "outputs": [],
   "source": [
    "n_x=df.iloc[:,:-1]\n",
    "n_y=df.iloc[:,-1]"
   ]
  },
  {
   "cell_type": "code",
   "execution_count": null,
   "id": "f7648d17",
   "metadata": {},
   "outputs": [],
   "source": [
    "xtr,xte,ytr,yte=train_test_split(n_x,n_y,test_size=0.2,random_state=101)\n",
    "xtr.shape,xte.shape,ytr.shape,yte.shape"
   ]
  },
  {
   "cell_type": "code",
   "execution_count": null,
   "id": "87cee71c",
   "metadata": {},
   "outputs": [],
   "source": [
    "# Logistic-FS\n",
    "from sklearn.metrics import confusion_matrix, precision_score, recall_score, accuracy_score, f1_score, classification_report\n",
    "print(lg)\n",
    "lg.fit(xtr,ytr)\n",
    "lg_f=lg.predict(xte)\n",
    "fcf1=confusion_matrix(yte,lg_f)\n",
    "fac1=fcf1.diagonal().sum()/fcf1.sum()*100\n",
    "fre1=recall_score(yte,lg_f)\n",
    "fpr1=precision_score(yte,lg_f)\n",
    "ff1=f1_score(yte,lg_f,average='weighted')\n",
    "print(\"\\n\",classification_report(yte,lg_f)) \n",
    "print(\"\\nConfusion Matrix\")\n",
    "print(fcf1)"
   ]
  },
  {
   "cell_type": "code",
   "execution_count": null,
   "id": "b69095b7",
   "metadata": {},
   "outputs": [],
   "source": [
    "print(dt)\n",
    "dt.fit(xtr,ytr)\n",
    "dt_f=dt.predict(xte)\n",
    "fcf2=confusion_matrix(yte,dt_f)\n",
    "fac2=fcf2.diagonal().sum()/fcf2.sum()*100\n",
    "fre2=recall_score(yte,dt_f)\n",
    "fpr2=precision_score(yte,dt_f)\n",
    "ff2=f1_score(yte,dt_f,average='weighted')\n",
    "print(\"\\n\",classification_report(yte,dt_f)) \n",
    "print(\"\\nConfusion Matrix\")\n",
    "print(fcf2)"
   ]
  },
  {
   "cell_type": "code",
   "execution_count": null,
   "id": "cd3f1bb7",
   "metadata": {},
   "outputs": [],
   "source": [
    "print(rf)\n",
    "rf.fit(xtr,ytr)\n",
    "rf_f=rf.predict(xte)\n",
    "fcf3=confusion_matrix(yte,rf_f)\n",
    "fac3=fcf3.diagonal().sum()/fcf3.sum()*100\n",
    "fre3=recall_score(yte,rf_f)\n",
    "fpr3=precision_score(yte,rf_f)\n",
    "ff3=f1_score(yte,rf_f,average='weighted')\n",
    "print(\"\\n\",classification_report(yte,rf_f)) \n",
    "print(\"\\nConfusion Matrix\")\n",
    "print(fcf3)"
   ]
  },
  {
   "cell_type": "code",
   "execution_count": null,
   "id": "09c0eff2",
   "metadata": {},
   "outputs": [],
   "source": [
    "print(knn)\n",
    "knn.fit(xtr,ytr)\n",
    "knn_f=knn.predict(xte)\n",
    "fcf4=confusion_matrix(yte,knn_f)\n",
    "fac4=fcf4.diagonal().sum()/fcf4.sum()*100\n",
    "fre4=recall_score(yte,knn_f)\n",
    "fpr4=precision_score(yte,knn_f)\n",
    "ff4=f1_score(yte,knn_f,average='weighted')\n",
    "print(\"\\n\",classification_report(yte,knn_f)) \n",
    "print(\"\\nConfusion Matrix\")\n",
    "print(fcf4)"
   ]
  },
  {
   "cell_type": "code",
   "execution_count": null,
   "id": "c5f39089",
   "metadata": {},
   "outputs": [],
   "source": [
    "print(xgb)\n",
    "xgb.fit(xtr,ytr)\n",
    "xgb_f=xgb.predict(xte)\n",
    "fcf5=confusion_matrix(yte,knn_f)\n",
    "fac5=fcf5.diagonal().sum()/fcf5.sum()*100\n",
    "fre5=recall_score(yte,xgb_f)\n",
    "fpr5=precision_score(yte,xgb_f)\n",
    "ff5=f1_score(yte,xgb_f,average='weighted')\n",
    "print(\"\\n\",classification_report(yte,xgb_f)) \n",
    "print(\"\\nConfusion Matrix\")\n",
    "print(fcf5)"
   ]
  },
  {
   "cell_type": "code",
   "execution_count": null,
   "id": "a56d496c",
   "metadata": {},
   "outputs": [],
   "source": [
    "from sklearn.svm import SVC\n",
    "svm=SVC()\n",
    "print(svm)\n",
    "svm.fit(xtr,ytr)\n",
    "svm_f=svm.predict(xte)\n",
    "fcf6=confusion_matrix(yte,svm_f)\n",
    "fac6=fcf6.diagonal().sum()/fcf6.sum()*100\n",
    "fre6=recall_score(yte,svm_f)\n",
    "fpr6=precision_score(yte,svm_f)\n",
    "ff6=f1_score(yte,svm_f,average='weighted')\n",
    "print(\"\\n\",classification_report(yte,svm_f)) \n",
    "print(\"\\nConfusion Matrix\")\n",
    "print(fcf6)"
   ]
  },
  {
   "cell_type": "code",
   "execution_count": null,
   "id": "46dfb1c6",
   "metadata": {},
   "outputs": [],
   "source": [
    "print(nb)\n",
    "nb.fit(xtr,ytr)\n",
    "nb_f=nb.predict(xte)\n",
    "fcf7=confusion_matrix(yte,nb_f)\n",
    "fac7=fcf7.diagonal().sum()/fcf7.sum()*100\n",
    "fre7=recall_score(yte,nb_f)\n",
    "fpr7=precision_score(yte,nb_f)\n",
    "ff7=f1_score(yte,nb_f,average='weighted')\n",
    "print(\"\\n\",classification_report(yte,nb_f)) \n",
    "print(\"\\nConfusion Matrix\")\n",
    "print(fcf7)"
   ]
  },
  {
   "cell_type": "code",
   "execution_count": null,
   "id": "5f6e3948",
   "metadata": {},
   "outputs": [],
   "source": [
    "algo=['Logistic','Decision Tree','Random Forest','KNN','xgb','SVM','NB']\n",
    "accuracy3=[fac1,fac2,fac3,fac4,fac5,fac6,fac7]\n",
    "precision3=[fpr1,fpr2,fpr3,fpr4,fpr5,fpr6,fpr7]\n",
    "recall3=[fre1,fre2,fre3,fre4,fre5,fre6,fre7]\n",
    "f1_score3=[ff1,ff2,ff3,ff4,ff5,ff6,ff7]\n",
    "model4=pd.DataFrame({\"Model\":algo,\"Accuracy\":accuracy3,\"Precision\":precision3,\"Recall\":recall3,\"f1-score\":f1_score3})\n",
    "model4"
   ]
  },
  {
   "cell_type": "code",
   "execution_count": null,
   "id": "ae5fac0f",
   "metadata": {},
   "outputs": [],
   "source": [
    "#Confusion matrix for Decision Tree model because the performance of model is good as compare to other model\n",
    "cm=confusion_matrix(yte,rf_f)\n",
    "sns.heatmap(cm,annot=True,fmt='d')\n",
    "plt.title('Confusion Matrix')\n",
    "plt.show()"
   ]
  },
  {
   "cell_type": "code",
   "execution_count": null,
   "id": "ea181d11",
   "metadata": {},
   "outputs": [],
   "source": [
    "# Import necessary libraries\n",
    "import numpy as np\n",
    "import matplotlib.pyplot as plt\n",
    "from sklearn.datasets import make_classification\n",
    "from sklearn.ensemble import RandomForestClassifier\n",
    "from sklearn.model_selection import train_test_split\n",
    "from sklearn.metrics import roc_curve, roc_auc_score, auc\n",
    "\n",
    "clf = RandomForestClassifier()\n",
    "\n",
    "# Train the classifier\n",
    "clf.fit(xtr,ytr)\n",
    "\n",
    "# Predict probabilities for the positive class (class 1)\n",
    "rf_f = clf.predict_proba(xte)[:, 1]\n",
    "\n",
    "# Calculate ROC curve\n",
    "fpr, tpr, thresholds = roc_curve(yte,rf_f)\n",
    "\n",
    "# Calculate AUC (Area Under the Curve)\n",
    "roc_auc = auc(fpr, tpr)\n",
    "\n",
    "# Plot the ROC curve\n",
    "plt.figure(figsize=(8, 6))\n",
    "plt.plot(fpr, tpr, color='darkorange', lw=2, label=f'ROC curve (AUC = {roc_auc:.2f})')\n",
    "plt.plot([0, 1], [0, 1], color='navy', lw=2, linestyle='--')\n",
    "plt.xlim([0.0, 1.0])\n",
    "plt.ylim([0.0, 1.05])\n",
    "plt.xlabel('False Positive Rate')\n",
    "plt.ylabel('True Positive Rate')\n",
    "plt.title('Receiver Operating Characteristic (ROC)')\n",
    "plt.legend(loc='lower right')\n",
    "plt.show()"
   ]
  },
  {
   "cell_type": "code",
   "execution_count": null,
   "id": "ddb132dc",
   "metadata": {},
   "outputs": [],
   "source": []
  }
 ],
 "metadata": {
  "kernelspec": {
   "display_name": "Python 3 (ipykernel)",
   "language": "python",
   "name": "python3"
  },
  "language_info": {
   "codemirror_mode": {
    "name": "ipython",
    "version": 3
   },
   "file_extension": ".py",
   "mimetype": "text/x-python",
   "name": "python",
   "nbconvert_exporter": "python",
   "pygments_lexer": "ipython3",
   "version": "3.10.9"
  }
 },
 "nbformat": 4,
 "nbformat_minor": 5
}
